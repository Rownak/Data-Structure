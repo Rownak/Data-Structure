{
 "cells": [
  {
   "cell_type": "markdown",
   "metadata": {},
   "source": [
    "On an 8 x 8 chessboard, there is one white rook.  There also may be empty squares, white bishops, and black pawns.  These are given as characters 'R', '.', 'B', and 'p' respectively. Uppercase characters represent white pieces, and lowercase characters represent black pieces.\n",
    "\n",
    "The rook moves as in the rules of Chess: it chooses one of four cardinal directions (north, east, west, and south), then moves in that direction until it chooses to stop, reaches the edge of the board, or captures an opposite colored pawn by moving to the same square it occupies.  Also, rooks cannot move into the same square as other friendly bishops.\n",
    "\n",
    "Return the number of pawns the rook can capture in one move."
   ]
  },
  {
   "cell_type": "markdown",
   "metadata": {},
   "source": [
    "1. Find the \"R\" location\n",
    "2. go down right up left and check for \"p\"\n",
    "3. if \"B\" appears break that row or column"
   ]
  },
  {
   "cell_type": "code",
   "execution_count": 9,
   "metadata": {},
   "outputs": [],
   "source": [
    "def returnInd(arr, ch):\n",
    "    for i, row in enumerate(arr):\n",
    "        if(ch in row):\n",
    "            return [i,row.index(ch)]"
   ]
  },
  {
   "cell_type": "code",
   "execution_count": 52,
   "metadata": {},
   "outputs": [
    {
     "name": "stdout",
     "output_type": "stream",
     "text": [
      "x 1\n",
      "y 0\n",
      "x 1\n",
      "y 0\n",
      "x 1\n",
      "y 0\n",
      "x 1\n",
      "y 0\n",
      "x 1\n",
      "y 0\n",
      "x -1\n",
      "y 0\n",
      "x -1\n",
      "y 0\n",
      "x 0\n",
      "y -1\n",
      "x 0\n",
      "y -1\n",
      "x 0\n",
      "y -1\n",
      "2\n"
     ]
    }
   ],
   "source": [
    "arr=[[\".\",\".\",\".\",\".\",\".\",\".\",\".\",\".\"],[\".\",\".\",\".\",\"p\",\".\",\".\",\".\",\".\"],[\".\",\".\",\".\",\"R\",\"B\",\".\",\".\",\"p\"],[\".\",\".\",\".\",\".\",\".\",\".\",\".\",\".\"],[\".\",\".\",\".\",\".\",\".\",\".\",\".\",\".\"],[\".\",\".\",\".\",\"p\",\".\",\".\",\".\",\".\"],[\".\",\".\",\".\",\".\",\".\",\".\",\".\",\".\"],[\".\",\".\",\".\",\".\",\".\",\".\",\".\",\".\"]]\n",
    "x0,y0 = returnInd(arr, \"R\")\n",
    "\n",
    "count=0\n",
    "\n",
    "# Traversing from the R point to down, right, up, left\n",
    "for i,j in [[1,0],[0,1],[-1,0],[0,-1]]:\n",
    "    x, y = x0+i, y0+j\n",
    "    while((x>=0 and x<8) and (y>=0 and y<8)):\n",
    "        if(arr[x][y]==\"B\"):\n",
    "            x, y = x+i, y+j\n",
    "            break\n",
    "        if(arr[x][y]==\"p\"):\n",
    "            count+=1\n",
    "        x, y = x+i, y+j\n",
    "\n",
    "        \n",
    "print(count)\n"
   ]
  },
  {
   "cell_type": "code",
   "execution_count": 36,
   "metadata": {},
   "outputs": [
    {
     "data": {
      "text/plain": [
       "[['.', '.', '.', '.', '.', '.', '.', '.'],\n",
       " ['.', '.', '.', 'p', '.', '.', '.', '.'],\n",
       " ['.', '.', '.', 'R', '.', '.', '.', 'p'],\n",
       " ['.', '.', '.', '.', '.', '.', '.', '.'],\n",
       " ['.', '.', '.', '.', '.', '.', '.', '.'],\n",
       " ['.', '.', '.', 'p', '.', '.', '.', '.'],\n",
       " ['.', '.', '.', '.', '.', '.', '.', '.'],\n",
       " ['.', '.', '.', '.', '.', '.', '.', '.']]"
      ]
     },
     "execution_count": 36,
     "metadata": {},
     "output_type": "execute_result"
    }
   ],
   "source": [
    "arr"
   ]
  },
  {
   "cell_type": "code",
   "execution_count": 38,
   "metadata": {},
   "outputs": [
    {
     "data": {
      "text/plain": [
       "2"
      ]
     },
     "execution_count": 38,
     "metadata": {},
     "output_type": "execute_result"
    }
   ],
   "source": [
    "x"
   ]
  },
  {
   "cell_type": "code",
   "execution_count": 39,
   "metadata": {},
   "outputs": [
    {
     "data": {
      "text/plain": [
       "3"
      ]
     },
     "execution_count": 39,
     "metadata": {},
     "output_type": "execute_result"
    }
   ],
   "source": [
    "y"
   ]
  },
  {
   "cell_type": "code",
   "execution_count": null,
   "metadata": {},
   "outputs": [],
   "source": []
  }
 ],
 "metadata": {
  "kernelspec": {
   "display_name": "Python 3",
   "language": "python",
   "name": "python3"
  },
  "language_info": {
   "codemirror_mode": {
    "name": "ipython",
    "version": 3
   },
   "file_extension": ".py",
   "mimetype": "text/x-python",
   "name": "python",
   "nbconvert_exporter": "python",
   "pygments_lexer": "ipython3",
   "version": "3.7.3"
  }
 },
 "nbformat": 4,
 "nbformat_minor": 2
}
