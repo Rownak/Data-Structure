{
 "cells": [
  {
   "cell_type": "code",
   "execution_count": 17,
   "metadata": {},
   "outputs": [
    {
     "data": {
      "text/plain": [
       "3"
      ]
     },
     "execution_count": 17,
     "metadata": {},
     "output_type": "execute_result"
    }
   ],
   "source": [
    "x = [\"bella\",\"label\",\"roller\"]\n",
    "n = len(x)\n",
    "n"
   ]
  },
  {
   "cell_type": "code",
   "execution_count": 23,
   "metadata": {},
   "outputs": [
    {
     "name": "stdout",
     "output_type": "stream",
     "text": [
      "['e', 'l', 'l']\n"
     ]
    }
   ],
   "source": [
    "ans = []\n",
    "for ch in x[0]:\n",
    "    if(ch in ans):\n",
    "        continue\n",
    "    inAllString=True\n",
    "    \n",
    "    minCount = len([i for i, y in enumerate(x[0]) if y == ch])\n",
    "    for i in range(1,n):\n",
    "        if(ch not in x[i]):\n",
    "            inAllString = False\n",
    "            break\n",
    "        else:\n",
    "            count = len([i for i, y in enumerate(x[0]) if y == ch])\n",
    "            minCount = min(minCount,count)  \n",
    "            \n",
    "    if(inAllString):\n",
    "        for j in range(minCount):\n",
    "            ans.append(ch)\n",
    "print(ans)      "
   ]
  },
  {
   "cell_type": "code",
   "execution_count": 21,
   "metadata": {},
   "outputs": [
    {
     "data": {
      "text/plain": [
       "2"
      ]
     },
     "execution_count": 21,
     "metadata": {},
     "output_type": "execute_result"
    }
   ],
   "source": [
    "k = \"bella\"\n",
    "k.index(\"l\")"
   ]
  },
  {
   "cell_type": "code",
   "execution_count": 26,
   "metadata": {},
   "outputs": [
    {
     "data": {
      "text/plain": [
       "Counter({'b': 1, 'e': 1, 'l': 2, 'a': 1})"
      ]
     },
     "execution_count": 26,
     "metadata": {},
     "output_type": "execute_result"
    }
   ],
   "source": [
    "import collections\n",
    "A = [\"bella\",\"label\",\"roller\"]\n",
    "res = collections.Counter(A[0])\n",
    "res"
   ]
  },
  {
   "cell_type": "code",
   "execution_count": 28,
   "metadata": {},
   "outputs": [
    {
     "name": "stdout",
     "output_type": "stream",
     "text": [
      "Counter({'l': 2, 'e': 1})\n",
      "Counter({'l': 2, 'e': 1})\n",
      "Counter({'l': 2, 'e': 1})\n"
     ]
    },
    {
     "data": {
      "text/plain": [
       "['e', 'l', 'l']"
      ]
     },
     "execution_count": 28,
     "metadata": {},
     "output_type": "execute_result"
    }
   ],
   "source": [
    "for a in A:\n",
    "    res &= collections.Counter(a)\n",
    "    print(res)\n",
    "list(res.elements())"
   ]
  },
  {
   "cell_type": "code",
   "execution_count": null,
   "metadata": {},
   "outputs": [],
   "source": []
  }
 ],
 "metadata": {
  "kernelspec": {
   "display_name": "Python 3",
   "language": "python",
   "name": "python3"
  },
  "language_info": {
   "codemirror_mode": {
    "name": "ipython",
    "version": 3
   },
   "file_extension": ".py",
   "mimetype": "text/x-python",
   "name": "python",
   "nbconvert_exporter": "python",
   "pygments_lexer": "ipython3",
   "version": "3.7.3"
  }
 },
 "nbformat": 4,
 "nbformat_minor": 2
}
