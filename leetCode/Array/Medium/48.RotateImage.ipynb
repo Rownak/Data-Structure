{
 "cells": [
  {
   "cell_type": "markdown",
   "metadata": {},
   "source": [
    "Given input matrix = \n",
    "[\n",
    "  [1,2,3],\n",
    "  [4,5,6],\n",
    "  [7,8,9]\n",
    "],\n",
    "\n",
    "rotate the input matrix in-place such that it becomes:\n",
    "[\n",
    "  [7,4,1],\n",
    "  [8,5,2],\n",
    "  [9,6,3]\n",
    "]"
   ]
  },
  {
   "cell_type": "code",
   "execution_count": null,
   "metadata": {},
   "outputs": [],
   "source": [
    "class Solution(object):\n",
    "    def rotate(self, matrix):\n",
    "       \n",
    "        "
   ]
  },
  {
   "cell_type": "code",
   "execution_count": 25,
   "metadata": {},
   "outputs": [
    {
     "name": "stdout",
     "output_type": "stream",
     "text": [
      "3\n",
      "swap betwee 1  and  7\n",
      "swap betwee 2  and  4\n",
      "swap betwee 3  and  7\n",
      "swap betwee 2  and  8\n",
      "swap betwee 5  and  5\n",
      "swap betwee 6  and  4\n",
      "swap betwee 1  and  9\n",
      "swap betwee 2  and  4\n",
      "swap betwee 1  and  7\n",
      "[[3, 6, 1], [8, 5, 2], [9, 4, 7]]\n"
     ]
    }
   ],
   "source": [
    "x =[\n",
    "  [1,2,3],\n",
    "  [4,5,6],\n",
    "  [7,8,9]]\n",
    "n = len(x[0])\n",
    "print(n)\n",
    "for i in range(n):\n",
    "    for j in range(n):\n",
    "        print('swap betwee',x[i][j], ' and ', x[n-1-j][i])\n",
    "        x[i][j], x[n-1-j][i] =  x[n-1-j][i], x[i][j]\n",
    "        \n",
    "print(x)\n"
   ]
  },
  {
   "cell_type": "code",
   "execution_count": 22,
   "metadata": {},
   "outputs": [
    {
     "name": "stdout",
     "output_type": "stream",
     "text": [
      "7\n"
     ]
    }
   ],
   "source": [
    "x =[\n",
    "  [1,2,3],\n",
    "  [4,5,6],\n",
    "  [7,8,9]]\n",
    "\n",
    "print(x[2][0])\n",
    "\n",
    "    "
   ]
  },
  {
   "cell_type": "code",
   "execution_count": null,
   "metadata": {},
   "outputs": [],
   "source": []
  }
 ],
 "metadata": {
  "kernelspec": {
   "display_name": "Python 3",
   "language": "python",
   "name": "python3"
  },
  "language_info": {
   "codemirror_mode": {
    "name": "ipython",
    "version": 3
   },
   "file_extension": ".py",
   "mimetype": "text/x-python",
   "name": "python",
   "nbconvert_exporter": "python",
   "pygments_lexer": "ipython3",
   "version": "3.6.8"
  }
 },
 "nbformat": 4,
 "nbformat_minor": 2
}
