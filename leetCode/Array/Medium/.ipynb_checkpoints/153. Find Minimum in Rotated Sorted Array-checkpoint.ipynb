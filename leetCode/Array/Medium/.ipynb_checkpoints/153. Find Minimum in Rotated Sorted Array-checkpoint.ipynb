{
 "cells": [
  {
   "cell_type": "markdown",
   "metadata": {},
   "source": [
    "Suppose an array sorted in ascending order is rotated at some pivot unknown to you beforehand.\n",
    "\n",
    "(i.e.,  [0,1,2,4,5,6,7] might become  [4,5,6,7,0,1,2]).\n",
    "\n",
    "Find the minimum element.\n",
    "\n",
    "You may assume no duplicate exists in the array.\n",
    "\n",
    "Example 1:\n",
    "\n",
    "Input: [3,4,5,1,2] \n",
    "Output: 1\n",
    "Example 2:\n",
    "\n",
    "Input: [4,5,6,7,0,1,2]\n",
    "Output: 0"
   ]
  },
  {
   "cell_type": "markdown",
   "metadata": {},
   "source": [
    "[6,7,1,2,3,4,5]\n",
    "mid = 2\n",
    "go to left\n",
    "\n",
    "[4,5,6,7,8,9,1,2,3]\n",
    "mid = 4, num[mid] = 8\n",
    "go to right\n",
    "\n",
    "[1,2,3,4,5]\n",
    "mid element = 3\n",
    "go left\n",
    "[1,2]\n",
    "mid element = 1\n",
    "now, l=0, h=-1\n",
    "\n",
    "\n",
    "[2,3,4,5,1]\n",
    "mid element = 4\n",
    "go right\n",
    "[5,1]\n",
    "mid element = 5\n",
    "go right\n",
    "l==h"
   ]
  },
  {
   "cell_type": "code",
   "execution_count": null,
   "metadata": {},
   "outputs": [],
   "source": [
    "class Solution(object):\n",
    "    def rotateMin(self, nums, l,h):\n",
    "        if(l==h):\n",
    "            return nums[l]\n",
    "        if(l>h):\n",
    "            return nums[0]\n",
    "        mid = int((l+h)/2)\n",
    "        if(mid>l and nums[mid]<nums[mid-1]):\n",
    "            return mid\n",
    "        if(mid<h and nums[mid]>nums[mid+1]):\n",
    "            return mid+1\n",
    "        if(nums[h]>nums[mid]):\n",
    "            #go to left\n",
    "            return rotateMin(self, nums, l,mid-1)\n",
    "        \n",
    "        return rotateMin(self, nums, mid+1,h)\n",
    "    def findMin(self, nums):\n",
    "        n = len(nums)\n",
    "        out = rotateMin(self, nums, 0,n-1)\n",
    "        return out\n",
    "        "
   ]
  }
 ],
 "metadata": {
  "kernelspec": {
   "display_name": "Python 3",
   "language": "python",
   "name": "python3"
  },
  "language_info": {
   "codemirror_mode": {
    "name": "ipython",
    "version": 3
   },
   "file_extension": ".py",
   "mimetype": "text/x-python",
   "name": "python",
   "nbconvert_exporter": "python",
   "pygments_lexer": "ipython3",
   "version": "3.6.8"
  }
 },
 "nbformat": 4,
 "nbformat_minor": 2
}
