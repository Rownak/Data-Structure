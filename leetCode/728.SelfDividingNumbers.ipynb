{
 "cells": [
  {
   "cell_type": "code",
   "execution_count": 10,
   "metadata": {},
   "outputs": [],
   "source": [
    "class Solution(object):\n",
    "    def selfDividingNumbers(self, left, right):\n",
    "        ans = []\n",
    "        for i in range(left,right+1):\n",
    "            b = True\n",
    "            x = i\n",
    "            while(x>0):\n",
    "                y=x%10\n",
    "                if(y==0):\n",
    "                    b = False\n",
    "                    break\n",
    "                if(i%y!=0):\n",
    "                    b = False\n",
    "                    break\n",
    "                x=int(x/10)\n",
    "            if(b):\n",
    "                ans.append(i)\n",
    "        return ans"
   ]
  },
  {
   "cell_type": "code",
   "execution_count": 11,
   "metadata": {},
   "outputs": [
    {
     "name": "stdout",
     "output_type": "stream",
     "text": [
      "x 1 y 1\n",
      "x 2 y 2\n",
      "x 3 y 3\n",
      "x 4 y 4\n",
      "x 5 y 5\n",
      "x 6 y 6\n",
      "x 7 y 7\n",
      "x 8 y 8\n",
      "x 9 y 9\n",
      "x 10 y 0\n",
      "x 11 y 1\n",
      "x 1 y 1\n",
      "x 12 y 2\n",
      "x 1 y 1\n",
      "x 13 y 3\n",
      "x 14 y 4\n",
      "x 15 y 5\n",
      "x 1 y 1\n",
      "x 16 y 6\n",
      "x 17 y 7\n",
      "x 18 y 8\n",
      "x 19 y 9\n",
      "x 20 y 0\n",
      "x 21 y 1\n",
      "x 2 y 2\n",
      "x 22 y 2\n",
      "x 2 y 2\n"
     ]
    },
    {
     "data": {
      "text/plain": [
       "[1, 2, 3, 4, 5, 6, 7, 8, 9, 11, 12, 15, 22]"
      ]
     },
     "execution_count": 11,
     "metadata": {},
     "output_type": "execute_result"
    }
   ],
   "source": [
    "s = Solution()\n",
    "o = s.selfDividingNumbers(1,22)\n",
    "o"
   ]
  },
  {
   "cell_type": "code",
   "execution_count": null,
   "metadata": {},
   "outputs": [],
   "source": []
  }
 ],
 "metadata": {
  "kernelspec": {
   "display_name": "Python 3",
   "language": "python",
   "name": "python3"
  },
  "language_info": {
   "codemirror_mode": {
    "name": "ipython",
    "version": 3
   },
   "file_extension": ".py",
   "mimetype": "text/x-python",
   "name": "python",
   "nbconvert_exporter": "python",
   "pygments_lexer": "ipython3",
   "version": "3.6.8"
  }
 },
 "nbformat": 4,
 "nbformat_minor": 2
}
