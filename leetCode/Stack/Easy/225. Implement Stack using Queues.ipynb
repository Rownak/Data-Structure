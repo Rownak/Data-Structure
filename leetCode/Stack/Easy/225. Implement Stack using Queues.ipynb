{
 "cells": [
  {
   "cell_type": "code",
   "execution_count": null,
   "metadata": {},
   "outputs": [],
   "source": [
    "Implement the following operations of a stack using queues.\n",
    "\n",
    "push(x) -- Push element x onto stack.\n",
    "pop() -- Removes the element on top of the stack.\n",
    "top() -- Get the top element.\n",
    "empty() -- Return whether the stack is empty.\n",
    "Example:\n",
    "\n",
    "MyStack stack = new MyStack();\n",
    "\n",
    "stack.push(1);\n",
    "stack.push(2);  \n",
    "stack.top();   // returns 2\n",
    "stack.pop();   // returns 2\n",
    "stack.empty(); // returns false\n",
    "Notes:\n",
    "\n",
    "You must use only standard operations of a queue -- which means only push to back, peek/pop from front, size, and is empty operations are valid.\n",
    "Depending on your language, queue may not be supported natively. You may simulate a queue by using a list or deque (double-ended queue), as long as you use only standard operations of a queue.\n",
    "You may assume that all operations are valid (for example, no pop or top operations will be called on an empty stack)."
   ]
  },
  {
   "cell_type": "code",
   "execution_count": 9,
   "metadata": {},
   "outputs": [],
   "source": [
    "class MyStack(object):\n",
    "\n",
    "    def __init__(self):\n",
    "        self.queue1 = []\n",
    "        self.queue2 = []\n",
    "\n",
    "    def push(self, x):\n",
    "        if(len(self.queue1)!=0):\n",
    "            self.queue1.append(x)\n",
    "        else:\n",
    "            self.queue2.append(x)\n",
    "        \n",
    "\n",
    "    def pop(self):\n",
    "        if(len(self.queue1)!=0):\n",
    "            if(len(self.queue1)==1):\n",
    "                return self.queue1.pop(0)\n",
    "            else:\n",
    "                while(len(self.queue1)>1):\n",
    "                    self.queue2.append(self.queue1.pop(0))\n",
    "                return self.queue1.pop(0)\n",
    "        elif(len(self.queue2)!=0):\n",
    "            if(len(self.queue2)==1):\n",
    "                return self.queue2.pop(0)\n",
    "            else:\n",
    "                while(len(self.queue2)>1):\n",
    "                    self.queue1.append(self.queue2.pop(0))\n",
    "                return self.queue2.pop(0)\n",
    "        \n",
    "\n",
    "    def top(self):\n",
    "        if(len(self.queue1)!=0):\n",
    "            return self.queue1[-1]\n",
    "        \n",
    "        else:\n",
    "            return self.queue2[-1]\n",
    "        \n",
    "\n",
    "    def empty(self):\n",
    "        return (len(self.queue1)==0 and len(self.queue1)==0)\n",
    "        "
   ]
  },
  {
   "cell_type": "code",
   "execution_count": 10,
   "metadata": {},
   "outputs": [],
   "source": [
    "stack = MyStack()\n",
    "stack.push(1);\n",
    "stack.push(2);  \n"
   ]
  },
  {
   "cell_type": "code",
   "execution_count": 11,
   "metadata": {},
   "outputs": [
    {
     "data": {
      "text/plain": [
       "2"
      ]
     },
     "execution_count": 11,
     "metadata": {},
     "output_type": "execute_result"
    }
   ],
   "source": [
    "stack.top()"
   ]
  },
  {
   "cell_type": "code",
   "execution_count": 12,
   "metadata": {},
   "outputs": [
    {
     "data": {
      "text/plain": [
       "2"
      ]
     },
     "execution_count": 12,
     "metadata": {},
     "output_type": "execute_result"
    }
   ],
   "source": [
    "stack.pop()"
   ]
  },
  {
   "cell_type": "code",
   "execution_count": 13,
   "metadata": {},
   "outputs": [
    {
     "data": {
      "text/plain": [
       "False"
      ]
     },
     "execution_count": 13,
     "metadata": {},
     "output_type": "execute_result"
    }
   ],
   "source": [
    "stack.empty()"
   ]
  },
  {
   "cell_type": "code",
   "execution_count": null,
   "metadata": {},
   "outputs": [],
   "source": []
  }
 ],
 "metadata": {
  "kernelspec": {
   "display_name": "Python 3",
   "language": "python",
   "name": "python3"
  },
  "language_info": {
   "codemirror_mode": {
    "name": "ipython",
    "version": 3
   },
   "file_extension": ".py",
   "mimetype": "text/x-python",
   "name": "python",
   "nbconvert_exporter": "python",
   "pygments_lexer": "ipython3",
   "version": "3.6.10"
  }
 },
 "nbformat": 4,
 "nbformat_minor": 4
}
