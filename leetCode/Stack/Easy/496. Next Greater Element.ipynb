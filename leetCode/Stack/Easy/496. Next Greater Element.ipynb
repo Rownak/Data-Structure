{
 "cells": [
  {
   "cell_type": "code",
   "execution_count": 12,
   "metadata": {},
   "outputs": [],
   "source": [
    "class Stack:\n",
    "    def __init__(self):\n",
    "        self.items = []\n",
    "    def isEmpty(self):\n",
    "        return len(self.items) == 0\n",
    "    def push(self,data):\n",
    "        self.items.append(data)\n",
    "    def pop(self):\n",
    "        if(not self.isEmpty()):\n",
    "            return self.items.pop()\n",
    "        else:\n",
    "            return None\n",
    "    def peek(self):\n",
    "        if(not self.isEmpty()):\n",
    "            return self.items[-1]\n",
    "        else:\n",
    "            return None"
   ]
  },
  {
   "cell_type": "code",
   "execution_count": 13,
   "metadata": {},
   "outputs": [],
   "source": [
    "class Solution(object):\n",
    "    def nextGreaterElement(self, nums1, nums2):\n",
    "        \"\"\"\n",
    "        :type nums1: List[int]\n",
    "        :type nums2: List[int]\n",
    "        :rtype: List[int]\n",
    "        \"\"\"\n",
    "        stack = Stack()\n",
    "        hashMap = {}\n",
    "        for item in nums2:\n",
    "            while(not stack.isEmpty() and stack.peek()<item):\n",
    "                hashMap[stack.pop()] = item\n",
    "            stack.push(item)\n",
    "        \n",
    "        result = []\n",
    "        for item in nums1:\n",
    "            if(item in hashMap.keys()):\n",
    "                result.append(hashMap[item])\n",
    "            else:\n",
    "                result.append(-1)\n",
    "        return result"
   ]
  },
  {
   "cell_type": "code",
   "execution_count": 14,
   "metadata": {},
   "outputs": [
    {
     "name": "stdout",
     "output_type": "stream",
     "text": [
      "[3, -1]\n"
     ]
    }
   ],
   "source": [
    "s = Solution()\n",
    "nums1 = [2,4]\n",
    "nums2 = [1,2,3,4]\n",
    "s.nextGreaterElement(nums1,nums2)"
   ]
  },
  {
   "cell_type": "code",
   "execution_count": null,
   "metadata": {},
   "outputs": [],
   "source": []
  }
 ],
 "metadata": {
  "kernelspec": {
   "display_name": "Python 3",
   "language": "python",
   "name": "python3"
  },
  "language_info": {
   "codemirror_mode": {
    "name": "ipython",
    "version": 3
   },
   "file_extension": ".py",
   "mimetype": "text/x-python",
   "name": "python",
   "nbconvert_exporter": "python",
   "pygments_lexer": "ipython3",
   "version": "3.6.10"
  }
 },
 "nbformat": 4,
 "nbformat_minor": 4
}
