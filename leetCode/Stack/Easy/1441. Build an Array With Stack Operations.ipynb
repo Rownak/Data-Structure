{
 "cells": [
  {
   "cell_type": "markdown",
   "metadata": {},
   "source": [
    "Given an array target and an integer n. In each iteration, you will read a number from  list = {1,2,3..., n}.\n",
    "\n",
    "Build the target array using the following operations:\n",
    "\n",
    "Push: Read a new element from the beginning list, and push it in the array.\n",
    "Pop: delete the last element of the array.\n",
    "If the target array is already built, stop reading more elements.\n",
    "You are guaranteed that the target array is strictly increasing, only containing numbers between 1 to n inclusive.\n",
    "\n",
    "Return the operations to build the target array.\n",
    "\n",
    "You are guaranteed that the answer is unique.\n",
    "\n",
    "Example 1:\n",
    "\n",
    "Input: target = [1,3], n = 3\n",
    "Output: [\"Push\",\"Push\",\"Pop\",\"Push\"]\n",
    "Explanation: \n",
    "Read number 1 and automatically push in the array -> [1]\n",
    "Read number 2 and automatically push in the array then Pop it -> [1]\n",
    "Read number 3 and automatically push in the array -> [1,3]\n",
    "Example 2:\n",
    "\n",
    "Input: target = [1,2,3], n = 3\n",
    "Output: [\"Push\",\"Push\",\"Push\"]\n",
    "Example 3:\n",
    "\n",
    "Input: target = [1,2], n = 4\n",
    "Output: [\"Push\",\"Push\"]\n",
    "Explanation: You only need to read the first 2 numbers and stop.\n",
    "Example 4:\n",
    "\n",
    "Input: target = [2,3,4], n = 4\n",
    "Output: [\"Push\",\"Pop\",\"Push\",\"Push\",\"Push\"]"
   ]
  },
  {
   "cell_type": "code",
   "execution_count": 4,
   "metadata": {},
   "outputs": [],
   "source": [
    "class Solution(object):\n",
    "    def buildArray(self, target, n):\n",
    "        checkIdx = 0\n",
    "        res = []\n",
    "        for i in range(1,n+1):\n",
    "            if(checkIdx>len(target)):\n",
    "                break\n",
    "            if(i==target[checkIdx]):\n",
    "                res.append(\"push\")\n",
    "                checkIdx+=1\n",
    "            else:\n",
    "                res.append(\"push\")\n",
    "                res.append(\"pop\")\n",
    "            \n",
    "        return res"
   ]
  },
  {
   "cell_type": "code",
   "execution_count": 5,
   "metadata": {},
   "outputs": [
    {
     "data": {
      "text/plain": [
       "['push', 'pop', 'push', 'push', 'push']"
      ]
     },
     "execution_count": 5,
     "metadata": {},
     "output_type": "execute_result"
    }
   ],
   "source": [
    "s = Solution()\n",
    "target = [2,3,4]\n",
    "n = 4\n",
    "s.buildArray(target,n)"
   ]
  },
  {
   "cell_type": "code",
   "execution_count": null,
   "metadata": {},
   "outputs": [],
   "source": []
  }
 ],
 "metadata": {
  "kernelspec": {
   "display_name": "Python 3",
   "language": "python",
   "name": "python3"
  },
  "language_info": {
   "codemirror_mode": {
    "name": "ipython",
    "version": 3
   },
   "file_extension": ".py",
   "mimetype": "text/x-python",
   "name": "python",
   "nbconvert_exporter": "python",
   "pygments_lexer": "ipython3",
   "version": "3.6.10"
  }
 },
 "nbformat": 4,
 "nbformat_minor": 4
}
