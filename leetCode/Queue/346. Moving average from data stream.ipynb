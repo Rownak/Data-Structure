{
 "cells": [
  {
   "cell_type": "code",
   "execution_count": 1,
   "metadata": {},
   "outputs": [],
   "source": [
    "class MovingAverage:\n",
    "    def __init__(self,size):\n",
    "        self.queue = []\n",
    "        self.size=size\n",
    "        self.sum = 0\n",
    "    def next(self,val):\n",
    "        self.queue.append(val)\n",
    "        self.sum += val\n",
    "        if(len(self.queue)>self.size):\n",
    "            self.sum -=self.queue.pop(0)\n",
    "        return self.sum/len(self.queue)"
   ]
  },
  {
   "cell_type": "code",
   "execution_count": 2,
   "metadata": {},
   "outputs": [
    {
     "name": "stdout",
     "output_type": "stream",
     "text": [
      "1.0\n",
      "5.5\n",
      "4.666666666666667\n",
      "6.0\n"
     ]
    }
   ],
   "source": [
    "ma = MovingAverage(3)\n",
    "print(ma.next(1))\n",
    "print(ma.next(10))\n",
    "print(ma.next(3))\n",
    "print(ma.next(5))"
   ]
  },
  {
   "cell_type": "code",
   "execution_count": null,
   "metadata": {},
   "outputs": [],
   "source": []
  }
 ],
 "metadata": {
  "kernelspec": {
   "display_name": "Python 3",
   "language": "python",
   "name": "python3"
  },
  "language_info": {
   "codemirror_mode": {
    "name": "ipython",
    "version": 3
   },
   "file_extension": ".py",
   "mimetype": "text/x-python",
   "name": "python",
   "nbconvert_exporter": "python",
   "pygments_lexer": "ipython3",
   "version": "3.6.10"
  }
 },
 "nbformat": 4,
 "nbformat_minor": 4
}
