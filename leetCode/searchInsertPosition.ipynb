{
 "cells": [
  {
   "cell_type": "code",
   "execution_count": null,
   "metadata": {},
   "outputs": [],
   "source": [
    "def bSearch(arr, start, end, val):\n",
    "    if(start==end):\n",
    "        if(arr[start]==val):\n",
    "            return start\n",
    "        else:\n",
    "            return start+1\n",
    "    elif(start>end):\n",
    "        return start-1\n",
    "    mid = int((start+end)/2)\n",
    "    if(arr[mid]==val):\n",
    "        return mid\n",
    "    if(arr[mid]>val):\n",
    "        return bSearch(arr, start, mid-1, val)\n",
    "    else:\n",
    "        return bSearch(arr, mid+1, end, val)"
   ]
  },
  {
   "cell_type": "code",
   "execution_count": null,
   "metadata": {},
   "outputs": [],
   "source": [
    "x = [1,3,4,4,4,6,7]\n",
    "val = 5\n",
    "ind = bSearch(x, 0, 6, val)\n",
    "print(ind)"
   ]
  },
  {
   "cell_type": "code",
   "execution_count": 15,
   "metadata": {},
   "outputs": [],
   "source": [
    "class Solution(object):\n",
    "    def bSearch(self,arr, start, end, val):\n",
    "        if(start==end):\n",
    "            if(arr[start]==val):\n",
    "                return start\n",
    "            elif(arr[start]>val):\n",
    "                return start\n",
    "            else:\n",
    "                return start+1\n",
    "        elif(start>end):\n",
    "            return start\n",
    "        mid = int((start+end)/2)\n",
    "        if(arr[mid]==val):\n",
    "            return mid\n",
    "        if(arr[mid]>val):\n",
    "            return self.bSearch(arr, start, mid-1, val)\n",
    "        else:\n",
    "            return self.bSearch(arr, mid+1, end, val)\n",
    "        \n",
    "    def searchInsert(self, nums, target):\n",
    "        x = self.bSearch(nums, 0, len(nums)-1, target)\n",
    "        return x\n",
    "    "
   ]
  },
  {
   "cell_type": "code",
   "execution_count": 16,
   "metadata": {},
   "outputs": [],
   "source": [
    "x = Solution()"
   ]
  },
  {
   "cell_type": "code",
   "execution_count": 18,
   "metadata": {},
   "outputs": [
    {
     "data": {
      "text/plain": [
       "0"
      ]
     },
     "execution_count": 18,
     "metadata": {},
     "output_type": "execute_result"
    }
   ],
   "source": [
    "x.searchInsert([1,3,5,6],0)"
   ]
  },
  {
   "cell_type": "code",
   "execution_count": null,
   "metadata": {},
   "outputs": [],
   "source": []
  }
 ],
 "metadata": {
  "kernelspec": {
   "display_name": "Python 3",
   "language": "python",
   "name": "python3"
  },
  "language_info": {
   "codemirror_mode": {
    "name": "ipython",
    "version": 3
   },
   "file_extension": ".py",
   "mimetype": "text/x-python",
   "name": "python",
   "nbconvert_exporter": "python",
   "pygments_lexer": "ipython3",
   "version": "3.7.3"
  }
 },
 "nbformat": 4,
 "nbformat_minor": 2
}
