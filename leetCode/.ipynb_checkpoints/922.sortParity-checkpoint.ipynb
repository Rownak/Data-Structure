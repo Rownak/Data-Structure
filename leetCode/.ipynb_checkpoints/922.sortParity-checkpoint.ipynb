{
 "cells": [
  {
   "cell_type": "code",
   "execution_count": 12,
   "metadata": {},
   "outputs": [],
   "source": [
    "class Solution(object):\n",
    "    def sortArrayByParityII(self, A):\n",
    "        n=len(A)\n",
    "        i=0\n",
    "        while(i<n-1):\n",
    "            if(i%2 == A[i]%2):\n",
    "                i+=1\n",
    "                continue\n",
    "            j=n-1\n",
    "            while(j>i):\n",
    "                if(A[j]%2==i%2):\n",
    "                    break\n",
    "                j-=1\n",
    "            A[i], A[j] = A[j], A[i] \n",
    "            i+=1  \n",
    "        return A"
   ]
  },
  {
   "cell_type": "code",
   "execution_count": 13,
   "metadata": {},
   "outputs": [
    {
     "name": "stdout",
     "output_type": "stream",
     "text": [
      "j: 8\n",
      "j: 7\n",
      "j: 6\n",
      "i: 0\n",
      "i: 1\n",
      "j: 8\n",
      "i: 5\n",
      "i: 6\n"
     ]
    }
   ],
   "source": [
    "sol = Solution()\n",
    "out = sol.sortArrayByParityII([1,2,2,3,4,4,4,5,5,5])"
   ]
  },
  {
   "cell_type": "code",
   "execution_count": 14,
   "metadata": {},
   "outputs": [
    {
     "data": {
      "text/plain": [
       "[4, 5, 2, 3, 4, 5, 2, 5, 4, 1]"
      ]
     },
     "execution_count": 14,
     "metadata": {},
     "output_type": "execute_result"
    }
   ],
   "source": [
    "out"
   ]
  },
  {
   "cell_type": "code",
   "execution_count": null,
   "metadata": {},
   "outputs": [],
   "source": [
    "class Solution(object):\n",
    "    def sortArrayByParityII(self, A):\n",
    "        j = 1\n",
    "        for i in xrange(0, len(A), 2):\n",
    "            if A[i] % 2:\n",
    "                while A[j] % 2:\n",
    "                    j += 2\n",
    "                A[i], A[j] = A[j], A[i]\n",
    "        return A"
   ]
  }
 ],
 "metadata": {
  "kernelspec": {
   "display_name": "Python 3",
   "language": "python",
   "name": "python3"
  },
  "language_info": {
   "codemirror_mode": {
    "name": "ipython",
    "version": 3
   },
   "file_extension": ".py",
   "mimetype": "text/x-python",
   "name": "python",
   "nbconvert_exporter": "python",
   "pygments_lexer": "ipython3",
   "version": "3.6.8"
  }
 },
 "nbformat": 4,
 "nbformat_minor": 2
}
