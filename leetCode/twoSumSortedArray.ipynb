{
 "cells": [
  {
   "cell_type": "code",
   "execution_count": 1,
   "metadata": {},
   "outputs": [],
   "source": [
    "class Solution(object):\n",
    "    def twoSum(self, numbers, target):\n",
    "        \"\"\"\n",
    "        :type numbers: List[int]\n",
    "        :type target: int\n",
    "        :rtype: List[int]\n",
    "        \"\"\"\n",
    "        n = len(numbers)\n",
    "        \n",
    "        l=0\n",
    "        r=n-1\n",
    "        \n",
    "        while(l!=r):\n",
    "            if(numbers[l] +numbers[r]==target):\n",
    "                return [l+1,r+1]\n",
    "            elif(numbers[l] +numbers[r]>target):\n",
    "                r=r-1\n",
    "            else:\n",
    "                l=l+1"
   ]
  },
  {
   "cell_type": "code",
   "execution_count": 2,
   "metadata": {},
   "outputs": [
    {
     "data": {
      "text/plain": [
       "[3, 4]"
      ]
     },
     "execution_count": 2,
     "metadata": {},
     "output_type": "execute_result"
    }
   ],
   "source": [
    "x = Solution()\n",
    "arr = [1,2,4,5,6,9]\n",
    "target = 9\n",
    "x.twoSum(arr,target)"
   ]
  },
  {
   "cell_type": "code",
   "execution_count": 15,
   "metadata": {},
   "outputs": [],
   "source": [
    "class Solution(object):\n",
    "    def twoSum(self, numbers, target):\n",
    "        n = len(numbers)\n",
    "        seen = {}\n",
    "        for i in range(n):\n",
    "            print(seen.keys())\n",
    "            \n",
    "            if(target-numbers[i] in seen.keys()):\n",
    "                return[seen[target-numbers[i]]+1, i+1]\n",
    "            else:\n",
    "                seen[numbers[i]] = i\n",
    "                "
   ]
  },
  {
   "cell_type": "code",
   "execution_count": 16,
   "metadata": {},
   "outputs": [
    {
     "name": "stdout",
     "output_type": "stream",
     "text": [
      "dict_keys([])\n",
      "dict_keys([1])\n",
      "dict_keys([1, 2])\n",
      "dict_keys([1, 2, 4])\n"
     ]
    },
    {
     "data": {
      "text/plain": [
       "[3, 4]"
      ]
     },
     "execution_count": 16,
     "metadata": {},
     "output_type": "execute_result"
    }
   ],
   "source": [
    "x = Solution()\n",
    "arr = [1,2,4,5,6,9]\n",
    "target = 9\n",
    "x.twoSum(arr,target)"
   ]
  },
  {
   "cell_type": "code",
   "execution_count": null,
   "metadata": {},
   "outputs": [],
   "source": []
  }
 ],
 "metadata": {
  "kernelspec": {
   "display_name": "Python 3",
   "language": "python",
   "name": "python3"
  },
  "language_info": {
   "codemirror_mode": {
    "name": "ipython",
    "version": 3
   },
   "file_extension": ".py",
   "mimetype": "text/x-python",
   "name": "python",
   "nbconvert_exporter": "python",
   "pygments_lexer": "ipython3",
   "version": "3.7.3"
  }
 },
 "nbformat": 4,
 "nbformat_minor": 2
}
