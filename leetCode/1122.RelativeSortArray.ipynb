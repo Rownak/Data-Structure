{
 "cells": [
  {
   "cell_type": "code",
   "execution_count": 34,
   "metadata": {},
   "outputs": [],
   "source": [
    "class Solution(object):\n",
    "    def relativeSortArray(self, arr1, arr2):\n",
    "        arr1.sort()\n",
    "        print(arr1)\n",
    "        i=0\n",
    "        for j in range(len(arr2)):\n",
    "            \n",
    "            k=i\n",
    "            while(arr2[j]!=arr1[k]):\n",
    "                k+=1\n",
    "            print('i', i, ' j ', j, ' k', k)\n",
    "            while(arr2[j]==arr1[k]):\n",
    "                arr1[k], arr1[i] =arr1[i], arr1[k]\n",
    "                i+=1\n",
    "                k+=1\n",
    "                if(k>=len(arr1)):\n",
    "                    break\n",
    "        arr1[i:] = sorted(arr1[i:])\n",
    "        return arr1\n",
    "        "
   ]
  },
  {
   "cell_type": "code",
   "execution_count": 35,
   "metadata": {},
   "outputs": [
    {
     "name": "stdout",
     "output_type": "stream",
     "text": [
      "[4, 15, 22, 33, 36, 39, 41, 45, 47, 48]\n",
      "i 0  j  0  k 2\n",
      "i 1  j  1  k 3\n",
      "i 2  j  2  k 9\n",
      "i 3  j  3  k 9\n"
     ]
    },
    {
     "data": {
      "text/plain": [
       "[22, 33, 48, 4, 15, 36, 39, 41, 45, 47]"
      ]
     },
     "execution_count": 35,
     "metadata": {},
     "output_type": "execute_result"
    }
   ],
   "source": [
    "arr1 = [33,22,48,4,39,36,41,47,15,45]\n",
    "arr2 = [22,33,48,4]\n",
    "sol = Solution()\n",
    "out = sol.relativeSortArray(arr1,arr2)\n",
    "out"
   ]
  },
  {
   "cell_type": "code",
   "execution_count": 2,
   "metadata": {},
   "outputs": [
    {
     "data": {
      "text/plain": [
       "[1, 2, 2, 2, 3, 3, 4, 6, 7, 9, 19]"
      ]
     },
     "execution_count": 2,
     "metadata": {},
     "output_type": "execute_result"
    }
   ],
   "source": [
    "arr1.sort()"
   ]
  },
  {
   "cell_type": "code",
   "execution_count": 4,
   "metadata": {},
   "outputs": [
    {
     "name": "stdout",
     "output_type": "stream",
     "text": [
      "[2, 2, 2, 1, 4, 3, 3, 9, 6, 7, 19]\n"
     ]
    }
   ],
   "source": [
    "i=0\n",
    "for j in range(len(arr2)):\n",
    "    k=i\n",
    "    while(arr2[j]!=arr1[k]):\n",
    "        k+=1\n",
    "    while(arr2[j]==arr1[k]):\n",
    "        arr1[k], arr1[i] =arr1[i], arr1[k]\n",
    "        i+=1\n",
    "        k+=1\n",
    "print(arr1)\n",
    "    \n",
    "    "
   ]
  },
  {
   "cell_type": "code",
   "execution_count": null,
   "metadata": {},
   "outputs": [],
   "source": []
  }
 ],
 "metadata": {
  "kernelspec": {
   "display_name": "Python 3",
   "language": "python",
   "name": "python3"
  },
  "language_info": {
   "codemirror_mode": {
    "name": "ipython",
    "version": 3
   },
   "file_extension": ".py",
   "mimetype": "text/x-python",
   "name": "python",
   "nbconvert_exporter": "python",
   "pygments_lexer": "ipython3",
   "version": "3.6.8"
  }
 },
 "nbformat": 4,
 "nbformat_minor": 2
}
