{
 "cells": [
  {
   "cell_type": "code",
   "execution_count": 4,
   "metadata": {},
   "outputs": [],
   "source": [
    "class Solution(object):\n",
    "    def sortArrayByParity(self, A):\n",
    "        n=len(A)\n",
    "        oddIn=-1\n",
    "        evenIn=-1\n",
    "        mid = int(n/2)\n",
    "        i=0\n",
    "        j=n-1\n",
    "        while(i<j):\n",
    "            if(A[i]%2==1):\n",
    "                while(A[j]%2==1 and j>i):\n",
    "                    j=j-1\n",
    "                if(A[j]%2==0):\n",
    "                    A[i], A[j] = A[j], A[i]\n",
    "            i = i+1\n",
    "        return A\n",
    "                    \n",
    "                \n",
    "        "
   ]
  },
  {
   "cell_type": "code",
   "execution_count": 6,
   "metadata": {},
   "outputs": [
    {
     "name": "stdout",
     "output_type": "stream",
     "text": [
      "[12, 2, 2, 10, 8, 6, 9, 7, 3, 5]\n"
     ]
    }
   ],
   "source": [
    "x= [5,2,2,3,9,6,8,7,10,12]\n",
    "#[0,1,2,3,4,5,6,7]\n",
    "\n",
    "sol = Solution()\n",
    "\n",
    "output = sol.sortArrayByParity(x)"
   ]
  },
  {
   "cell_type": "code",
   "execution_count": null,
   "metadata": {},
   "outputs": [],
   "source": [
    "output"
   ]
  },
  {
   "cell_type": "code",
   "execution_count": null,
   "metadata": {},
   "outputs": [],
   "source": []
  }
 ],
 "metadata": {
  "kernelspec": {
   "display_name": "Python 3",
   "language": "python",
   "name": "python3"
  },
  "language_info": {
   "codemirror_mode": {
    "name": "ipython",
    "version": 3
   },
   "file_extension": ".py",
   "mimetype": "text/x-python",
   "name": "python",
   "nbconvert_exporter": "python",
   "pygments_lexer": "ipython3",
   "version": "3.7.3"
  }
 },
 "nbformat": 4,
 "nbformat_minor": 2
}
