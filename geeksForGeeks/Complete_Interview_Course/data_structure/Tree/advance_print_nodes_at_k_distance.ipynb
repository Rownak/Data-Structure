{
 "cells": [
  {
   "cell_type": "markdown",
   "metadata": {},
   "source": [
    "<img src=\"Images/print_k_distance.png\">"
   ]
  },
  {
   "cell_type": "code",
   "execution_count": 28,
   "metadata": {},
   "outputs": [],
   "source": [
    "#User function Template for python3\n",
    "\n",
    "\n",
    "# @input - \n",
    "# node - root node of given tree\n",
    "# k = distance of nodes required \n",
    "\n",
    "class Node:\n",
    "    def __init__(self, val):\n",
    "        self.right = None\n",
    "        self.data = val\n",
    "        self.left = None\n"
   ]
  },
  {
   "cell_type": "code",
   "execution_count": 29,
   "metadata": {},
   "outputs": [],
   "source": [
    "def print_nodes_at_K_distant(root, k):\n",
    "    if(root==None):\n",
    "        return \n",
    "    if(k==0):\n",
    "        print(root.data, end= ' ')\n",
    "        return \n",
    "    print_nodes_at_K_distant(root.left,k-1)\n",
    "    print_nodes_at_K_distant(root.right,k-1)\n",
    "    \n",
    "    "
   ]
  },
  {
   "cell_type": "code",
   "execution_count": 30,
   "metadata": {},
   "outputs": [],
   "source": [
    "a = Node(7)\n",
    "a.left = Node(5)\n",
    "a.right = Node(3)\n",
    "\n",
    "a.left.left = Node(6)\n",
    "a.left.right = Node(2)\n",
    "#a.right.left = Node(2)\n",
    "a.right.right = Node(1)\n",
    "\n",
    "a.left.left.left = Node(11)\n",
    "a.left.left.right = Node(11)\n",
    "a.left.right.left = Node(6)\n",
    "a.left.right.right = Node(13)\n",
    "#a.right.left.left = Node(11)\n",
    "#a.right.left.right = Node(11)\n",
    "#a.right.right.left = Node(6)\n",
    "a.right.right.right = Node(6)\n",
    "\n",
    "a.left.left.left.left = Node(6)\n",
    "a.left.left.left.right = Node(12)\n",
    "\n",
    "\n",
    "#                    7\n",
    "#                 /     \\\n",
    "#                5       3\n",
    "#              /   \\      \\\n",
    "#             6      2      1\n",
    "#            / \\    / \\      \\\n",
    "#           11  11  6 13      6\n",
    "#          / \\\n",
    "#         6  12\n"
   ]
  },
  {
   "cell_type": "code",
   "execution_count": 33,
   "metadata": {},
   "outputs": [
    {
     "name": "stdout",
     "output_type": "stream",
     "text": [
      "11 11 6 13 6 "
     ]
    }
   ],
   "source": [
    "print_nodes_at_K_distant(a, 3)"
   ]
  },
  {
   "cell_type": "code",
   "execution_count": 32,
   "metadata": {},
   "outputs": [],
   "source": []
  },
  {
   "cell_type": "code",
   "execution_count": null,
   "metadata": {},
   "outputs": [],
   "source": []
  }
 ],
 "metadata": {
  "kernelspec": {
   "display_name": "Python 3",
   "language": "python",
   "name": "python3"
  },
  "language_info": {
   "codemirror_mode": {
    "name": "ipython",
    "version": 3
   },
   "file_extension": ".py",
   "mimetype": "text/x-python",
   "name": "python",
   "nbconvert_exporter": "python",
   "pygments_lexer": "ipython3",
   "version": "3.6.10"
  }
 },
 "nbformat": 4,
 "nbformat_minor": 4
}
