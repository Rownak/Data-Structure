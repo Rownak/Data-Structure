{
 "cells": [
  {
   "cell_type": "code",
   "execution_count": 3,
   "metadata": {},
   "outputs": [],
   "source": [
    "# Tree Node\n",
    "class Node:\n",
    "    def __init__(self, val):\n",
    "        self.right = None\n",
    "        self.data = val\n",
    "        self.left = None"
   ]
  },
  {
   "cell_type": "code",
   "execution_count": 16,
   "metadata": {},
   "outputs": [],
   "source": [
    "# Return 1 if all the nodes in the tree satisfy the given property. Else return 0\n",
    "def isSumProperty(root):\n",
    "    # code here\n",
    "    if(root == None):\n",
    "        return 1\n",
    "    if(root.right==None and root.left==None):\n",
    "        return 1\n",
    "    s = 0\n",
    "    if(root.left!=None):\n",
    "        s+= root.left.data\n",
    "    if(root.right!=None):\n",
    "        s+= root.right.data\n",
    "    res = 0\n",
    "    if(root.data==s):\n",
    "        res = 1\n",
    "    return (res and isSumProperty(root.left) and isSumProperty(root.right))"
   ]
  },
  {
   "cell_type": "code",
   "execution_count": 19,
   "metadata": {},
   "outputs": [],
   "source": [
    "a = Node(20)\n",
    "a.left = Node(8)\n",
    "a.right = Node(12)\n",
    "\n",
    "a.left.left = Node(3)\n",
    "a.left.right = Node(7)\n",
    "# a.right.left = Node(70)\n",
    "# a.right.right = Node(90)\n",
    "\n",
    "# a.left.left.left = Node(11)\n",
    "# a.left.left.right = Node(11)\n",
    "# a.left.right.left = Node(6)\n",
    "# a.left.right.right = Node(13)\n",
    "# #a.right.left.left = Node(11)\n",
    "#a.right.left.right = Node(8)\n",
    "# #a.right.right.left = Node(6)\n",
    "# a.right.right.right = Node(6)\n",
    "\n",
    "# a.left.left.left.left = Node(6)\n",
    "# a.left.left.left.right = Node(12)\n",
    "\n",
    "\n",
    "#                    20\n",
    "#                 /     \\\n",
    "#                8      12\n",
    "#               / \\\n",
    "#              3   5  "
   ]
  },
  {
   "cell_type": "code",
   "execution_count": 20,
   "metadata": {},
   "outputs": [
    {
     "data": {
      "text/plain": [
       "0"
      ]
     },
     "execution_count": 20,
     "metadata": {},
     "output_type": "execute_result"
    }
   ],
   "source": [
    "isSumProperty(a)"
   ]
  }
 ],
 "metadata": {
  "kernelspec": {
   "display_name": "Python 3",
   "language": "python",
   "name": "python3"
  },
  "language_info": {
   "codemirror_mode": {
    "name": "ipython",
    "version": 3
   },
   "file_extension": ".py",
   "mimetype": "text/x-python",
   "name": "python",
   "nbconvert_exporter": "python",
   "pygments_lexer": "ipython3",
   "version": "3.6.10"
  }
 },
 "nbformat": 4,
 "nbformat_minor": 4
}
