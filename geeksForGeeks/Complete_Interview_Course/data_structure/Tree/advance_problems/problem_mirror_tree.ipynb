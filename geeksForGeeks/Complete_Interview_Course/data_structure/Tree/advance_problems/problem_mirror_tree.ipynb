{
 "cells": [
  {
   "cell_type": "markdown",
   "metadata": {},
   "source": [
    "Mirror Tree \n",
    "Given a Binary Tree, convert it into its mirror.\n",
    "MirrorTree1            \n",
    "\n",
    "Example 1:\n",
    "\n",
    "Input:\n",
    "      1\n",
    "    /  \\\n",
    "   2    3\n",
    "Output: 2 1 3\n",
    "Explanation: The tree is\n",
    "   1    (mirror)  1\n",
    " /  \\    =>      /  \\\n",
    "3    2          2    3\n",
    "The inorder of mirror is 2 1 3\n",
    "Example 2:\n",
    "\n",
    "Input:\n",
    "      10\n",
    "     /  \\\n",
    "    20   30\n",
    "   /  \\\n",
    "  40  60\n",
    "Output: 30 10 60 20 40\n",
    "Explanation: The tree is\n",
    "      10               10\n",
    "    /    \\  (mirror) /    \\\n",
    "   20    30    =>   30    20\n",
    "  /  \\                   /   \\\n",
    " 40  60                 60   40\n",
    "The inroder traversal of mirror is\n",
    "30 10 60 20 40.\n",
    "Your Task:\n",
    "Just complete the function mirror() that takes node as paramter  and convert it into its mirror. The printing is done by the driver code only.\n",
    "Expected Time Complexity: O(N).\n",
    "Expected Auxiliary Space: O(Height of the Tree).\n",
    "\n",
    "Constraints:\n",
    "1 <= Number of nodes <= 100\n",
    "1 <= Data of a node <= 1000"
   ]
  },
  {
   "cell_type": "code",
   "execution_count": 21,
   "metadata": {},
   "outputs": [],
   "source": [
    "import matplotlib.pyplot as plt\n",
    "import numpy as np\n",
    "def drawBST_(T, x0, x1, y, y_inc,ax):\n",
    "    if T is not None:\n",
    "        xm = (x0+x1)/2\n",
    "        yn = y-y_inc\n",
    "        if T.left is not None:\n",
    "            p=np.array([[xm,y], [(x0+xm)/2,yn]])\n",
    "            ax.plot(p[:,0],p[:,1],linewidth=1,color='k')\n",
    "            drawBST_(T.left,x0,xm,yn, y_inc,ax)\n",
    "        if T.right is not None:\n",
    "            p=np.array([[xm,y], [(x1+xm)/2,yn]])\n",
    "            ax.plot(p[:,0],p[:,1],linewidth=1,color='k')\n",
    "            drawBST_(T.right,xm,x1,yn, y_inc,ax)\n",
    "        ax.text(xm,y, str(T.data), size=10,ha=\"center\", va=\"center\",\n",
    "            bbox=dict(facecolor='w',boxstyle=\"circle\"))\n",
    "\n",
    "def drawBST(T): \n",
    "    #plt.close('all') \n",
    "    fig, ax = plt.subplots()\n",
    "    drawBST_(T, 0, 800, 800, 80, ax)\n",
    "    ax.set_aspect(1.0)\n",
    "    ax.axis('off') \n",
    "    plt.show()"
   ]
  },
  {
   "cell_type": "code",
   "execution_count": 29,
   "metadata": {},
   "outputs": [],
   "source": [
    "# Tree Node\n",
    "class Node:\n",
    "    def __init__(self, val):\n",
    "        self.right = None\n",
    "        self.data = val\n",
    "        self.left = None"
   ]
  },
  {
   "cell_type": "code",
   "execution_count": 30,
   "metadata": {},
   "outputs": [],
   "source": [
    "def mirror(root):\n",
    "    # Code here\n",
    "    if(root==None):\n",
    "        return root\n",
    "    temp = root.left\n",
    "    root.left = root.right\n",
    "    root.right = temp\n",
    "    \n",
    "    mirror(root.left)\n",
    "    mirror(root.right)\n",
    "    \n",
    "    return root"
   ]
  },
  {
   "cell_type": "code",
   "execution_count": 35,
   "metadata": {},
   "outputs": [],
   "source": [
    "a = Node(10)\n",
    "a.left = Node(20)\n",
    "a.right = Node(30)\n",
    "\n",
    "# a.left.left = Node(40)\n",
    "# a.left.right = Node(50)\n",
    "a.right.left = Node(60)\n",
    "a.right.right = Node(70)\n",
    "\n",
    "# a.left.left.left = Node(80)\n",
    "# a.left.left.right = Node(90)\n",
    "\n",
    "# b = Node(10)\n",
    "# b.left = Node(20)\n",
    "# b.right = Node(30)\n",
    "\n",
    "# b.left.left = Node(40)\n",
    "# b.left.right = Node(50)\n",
    "# b.right.left = Node(60)\n",
    "# b.right.right = Node(70)\n",
    "\n",
    "# b.left.left.left = Node(80)\n",
    "# #b.left.left.right = Node(9)\n",
    "\n",
    "\n",
    "# '''\n",
    "#                    10\n",
    "#                 /      \\\n",
    "#                20       30\n",
    "#               /  \\     /  \\\n",
    "#             40   50   60   70\n",
    "#             / \\\n",
    "#           80  90\n",
    "# '''"
   ]
  },
  {
   "cell_type": "code",
   "execution_count": 36,
   "metadata": {},
   "outputs": [
    {
     "data": {
      "image/png": "[encoded data removed]",
      "text/plain": [
       "<Figure size 432x288 with 1 Axes>"
      ]
     },
     "metadata": {
      "needs_background": "light"
     },
     "output_type": "display_data"
    }
   ],
   "source": [
    "drawBST(a)"
   ]
  },
  {
   "cell_type": "code",
   "execution_count": 37,
   "metadata": {},
   "outputs": [],
   "source": [
    "root = mirror(a)"
   ]
  },
  {
   "cell_type": "code",
   "execution_count": 38,
   "metadata": {},
   "outputs": [
    {
     "data": {
      "image/png": "[encoded data removed]",
      "text/plain": [
       "<Figure size 432x288 with 1 Axes>"
      ]
     },
     "metadata": {
      "needs_background": "light"
     },
     "output_type": "display_data"
    }
   ],
   "source": [
    "drawBST(root)"
   ]
  },
  {
   "cell_type": "code",
   "execution_count": null,
   "metadata": {},
   "outputs": [],
   "source": []
  }
 ],
 "metadata": {
  "kernelspec": {
   "display_name": "Python 3",
   "language": "python",
   "name": "python3"
  },
  "language_info": {
   "codemirror_mode": {
    "name": "ipython",
    "version": 3
   },
   "file_extension": ".py",
   "mimetype": "text/x-python",
   "name": "python",
   "nbconvert_exporter": "python",
   "pygments_lexer": "ipython3",
   "version": "3.7.6"
  }
 },
 "nbformat": 4,
 "nbformat_minor": 4
}
