{
 "cells": [
  {
   "cell_type": "markdown",
   "metadata": {},
   "source": [
    "Vertical Width of a Binary Tree \n",
    "Given a Binary Tree of N nodes. The task is to find the vertical width of the tree.\n",
    "The width of a binary tree is the number of vertical paths in that tree.\n",
    "\n",
    "\n",
    "\n",
    "The above tree contains 6 vertical lines which is the required vertical width of the tree.\n",
    "\n",
    "Example 1:\n",
    "\n",
    "Input:\n",
    "          1\n",
    "       /    \\\n",
    "      2      3\n",
    "     / \\    / \\\n",
    "    4   5  6   7\n",
    "            \\   \\\n",
    "             8   9\n",
    "Output: 6\n",
    "\n",
    "Example 2:\n",
    "\n",
    "Input:\n",
    "      1\n",
    "    /  \\\n",
    "   2    3\n",
    "Output: 3\n",
    "Your Task:\n",
    "\n",
    "You don't have to read input or print anything. Your task is to complete the function verticalWidth() which takes root as the only parameter, and returns the vertical width of the binary tree.\n",
    "\n",
    "Expected Time Complexity: O(N).\n",
    "Expected Auxiliary Space: O(Height of the Tree).\n",
    "\n",
    "Constraints:\n",
    "1 <= Number of nodes <= 103"
   ]
  },
  {
   "cell_type": "code",
   "execution_count": 2,
   "metadata": {},
   "outputs": [],
   "source": [
    "# Tree Node\n",
    "class Node:\n",
    "    def __init__(self, val):\n",
    "        self.right = None\n",
    "        self.data = val\n",
    "        self.left = None"
   ]
  },
  {
   "cell_type": "code",
   "execution_count": 9,
   "metadata": {},
   "outputs": [],
   "source": [
    "def verticalWidth_helper(root, l, r, m_l, m_r):\n",
    "    \n",
    "    if(root==None):\n",
    "        return m_l, m_r\n",
    "    \n",
    "    m_l = max(m_l, l)\n",
    "    m_r = max(m_r, r)\n",
    "    \n",
    "    m_l, m_r = verticalWidth_helper(root.left, l+1, r-1, m_l, m_r)\n",
    "    m_l, m_r = verticalWidth_helper(root.right, l-1, r+1, m_l, m_r)\n",
    "    \n",
    "    \n",
    "    return m_l, m_r"
   ]
  },
  {
   "cell_type": "code",
   "execution_count": 13,
   "metadata": {},
   "outputs": [],
   "source": [
    "def verticalWidth(root):\n",
    "    '''\n",
    "    :param root: root of the given tree.\n",
    "    :return: Integer\n",
    "    '''\n",
    "    # code here\n",
    "    if(root==None):\n",
    "        return 0\n",
    "    m_l, m_r = verticalWidth_helper(root, 0, 0, 0, 0)\n",
    "    \n",
    "    return m_l+m_r+1"
   ]
  },
  {
   "cell_type": "code",
   "execution_count": 16,
   "metadata": {},
   "outputs": [],
   "source": [
    "a = Node(10)\n",
    "a.left = Node(20)\n",
    "a.right = Node(30)\n",
    "\n",
    "#a.left.left = Node(40)\n",
    "a.left.right = Node(50)\n",
    "a.right.left = Node(60)\n",
    "a.right.right = Node(70)\n",
    "\n",
    "# a.left.left.left = Node(80)\n",
    "# a.left.left.right = Node(90)\n",
    "\n",
    "# b = Node(10)\n",
    "# b.left = Node(20)\n",
    "# b.right = Node(30)\n",
    "\n",
    "# b.left.left = Node(40)\n",
    "# b.left.right = Node(50)\n",
    "# b.right.left = Node(60)\n",
    "# b.right.right = Node(70)\n",
    "\n",
    "# b.left.left.left = Node(80)\n",
    "# #b.left.left.right = Node(9)\n",
    "\n",
    "\n",
    "# '''\n",
    "#                    10\n",
    "#                 /      \\\n",
    "#                20       30\n",
    "#               /  \\     /  \\\n",
    "#             40   50   60   70\n",
    "#             / \\\n",
    "#           80  90\n",
    "# '''"
   ]
  },
  {
   "cell_type": "code",
   "execution_count": 17,
   "metadata": {},
   "outputs": [
    {
     "data": {
      "text/plain": [
       "4"
      ]
     },
     "execution_count": 17,
     "metadata": {},
     "output_type": "execute_result"
    }
   ],
   "source": [
    "verticalWidth(a)"
   ]
  },
  {
   "cell_type": "code",
   "execution_count": null,
   "metadata": {},
   "outputs": [],
   "source": []
  }
 ],
 "metadata": {
  "kernelspec": {
   "display_name": "Python 3",
   "language": "python",
   "name": "python3"
  },
  "language_info": {
   "codemirror_mode": {
    "name": "ipython",
    "version": 3
   },
   "file_extension": ".py",
   "mimetype": "text/x-python",
   "name": "python",
   "nbconvert_exporter": "python",
   "pygments_lexer": "ipython3",
   "version": "3.6.10"
  }
 },
 "nbformat": 4,
 "nbformat_minor": 4
}
