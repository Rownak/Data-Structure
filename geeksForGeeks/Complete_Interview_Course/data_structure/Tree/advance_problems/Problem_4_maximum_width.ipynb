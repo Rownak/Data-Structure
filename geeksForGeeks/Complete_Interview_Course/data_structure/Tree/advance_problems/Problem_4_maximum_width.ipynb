{
 "cells": [
  {
   "cell_type": "markdown",
   "metadata": {},
   "source": [
    "Maximum Width of Tree \n",
    "Given a Binary Tree, find the maximum width of it. Maximum width is defined as the maximum number of nodes in any level.\n",
    "For example, maximum width of following tree is 4 as there are 4 nodes at 3rd level.\n",
    "\n",
    "          1\n",
    "       /     \\\n",
    "     2        3\n",
    "   /    \\    /    \\\n",
    "  4    5   6    7\n",
    "    \\\n",
    "      8\n",
    "\n",
    "Example 1:\n",
    "\n",
    "Input:\n",
    "       1\n",
    "     /    \\\n",
    "    2      3\n",
    "Output: 2\n",
    "Example 2:\n",
    "\n",
    "Input:\n",
    "        10\n",
    "      /     \\\n",
    "    20      30\n",
    "   /    \\\n",
    "  40    60\n",
    "Output: 2\n",
    "Your Task:\n",
    "You don't have to read any input. Just complete the function getMaxWidth() that takes node as parameter and returns the maximum width. The printing is done by the driver code.\n",
    "\n",
    "Expected Time Complexity: O(N).\n",
    "Expected Auxiliary Space: O(N).\n",
    "\n",
    "Constraints:\n",
    "1 <= edges <= 1000\n",
    "1 <= nodes values <= 105"
   ]
  },
  {
   "cell_type": "code",
   "execution_count": 1,
   "metadata": {},
   "outputs": [],
   "source": [
    "# Tree Node\n",
    "class Node:\n",
    "    def __init__(self, val):\n",
    "        self.right = None\n",
    "        self.data = val\n",
    "        self.left = None"
   ]
  },
  {
   "cell_type": "code",
   "execution_count": 2,
   "metadata": {},
   "outputs": [],
   "source": [
    "# this code is for diameter\n",
    "def getdiameter(root, max_w):\n",
    "    if(root == None):\n",
    "        return 0, max_w\n",
    "    left_h, max_w_l = getMaxWidth_helper(root.left, max_w)\n",
    "    right_h, max_w_r = getMaxWidth_helper(root.right, max_w)\n",
    "    \n",
    "    width = left_h+right_h+1\n",
    "    \n",
    "    max_w = max(width, max_w)\n",
    "    \n",
    "    return max(left_h, right_h)+1, max_w "
   ]
  },
  {
   "cell_type": "code",
   "execution_count": 6,
   "metadata": {},
   "outputs": [],
   "source": [
    "\n",
    "def getMaxWidth(root):\n",
    "    '''\n",
    "    :param root: root of given tree.\n",
    "    :return: return the Max width of the tree\n",
    "    '''\n",
    "    #code here\n",
    "    if(root==None):\n",
    "        return 0\n",
    "    max_w = 0\n",
    "    q=[]\n",
    "    q.append(root)\n",
    "    \n",
    "    while(len(q)>0):\n",
    "        sz = len(q)\n",
    "        if(sz>max_w):\n",
    "            max_w = sz\n",
    "        for i in range(sz):\n",
    "            top = q.pop(0)\n",
    "            if(top.left!=None):\n",
    "                q.append(top.left)\n",
    "            if(top.right!=None):\n",
    "                q.append(top.right)\n",
    "            \n",
    "    \n",
    "    return max_w"
   ]
  },
  {
   "cell_type": "code",
   "execution_count": 7,
   "metadata": {},
   "outputs": [],
   "source": [
    "a = Node(10)\n",
    "a.left = Node(20)\n",
    "a.right = Node(30)\n",
    "\n",
    "a.left.left = Node(40)\n",
    "a.left.right = Node(50)\n",
    "a.right.left = Node(60)\n",
    "a.right.right = Node(70)\n",
    "\n",
    "a.left.left.left = Node(80)\n",
    "a.left.left.right = Node(90)\n",
    "\n",
    "b = Node(10)\n",
    "b.left = Node(20)\n",
    "b.right = Node(30)\n",
    "\n",
    "b.left.left = Node(40)\n",
    "b.left.right = Node(50)\n",
    "b.right.left = Node(60)\n",
    "b.right.right = Node(70)\n",
    "\n",
    "b.left.left.left = Node(80)\n",
    "#b.left.left.right = Node(9)\n",
    "\n",
    "\n",
    "# '''\n",
    "#                    10\n",
    "#                 /      \\\n",
    "#                20       30\n",
    "#               /  \\     /  \\\n",
    "#             40   50   60   70\n",
    "#             / \\\n",
    "#           80  90\n",
    "# '''"
   ]
  },
  {
   "cell_type": "code",
   "execution_count": 8,
   "metadata": {},
   "outputs": [
    {
     "data": {
      "text/plain": [
       "4"
      ]
     },
     "execution_count": 8,
     "metadata": {},
     "output_type": "execute_result"
    }
   ],
   "source": [
    "getMaxWidth(a)"
   ]
  },
  {
   "cell_type": "code",
   "execution_count": null,
   "metadata": {},
   "outputs": [],
   "source": []
  }
 ],
 "metadata": {
  "kernelspec": {
   "display_name": "Python 3",
   "language": "python",
   "name": "python3"
  },
  "language_info": {
   "codemirror_mode": {
    "name": "ipython",
    "version": 3
   },
   "file_extension": ".py",
   "mimetype": "text/x-python",
   "name": "python",
   "nbconvert_exporter": "python",
   "pygments_lexer": "ipython3",
   "version": "3.6.10"
  }
 },
 "nbformat": 4,
 "nbformat_minor": 4
}
