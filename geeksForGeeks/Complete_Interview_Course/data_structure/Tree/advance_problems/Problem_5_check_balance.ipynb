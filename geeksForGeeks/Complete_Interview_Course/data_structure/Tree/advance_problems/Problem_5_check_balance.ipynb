{
 "cells": [
  {
   "cell_type": "markdown",
   "metadata": {},
   "source": [
    "Check for Balanced Tree \n",
    "Given a binary tree, find if it is height balanced or not. \n",
    "A tree is height balanced if difference between heights of left and right subtrees is not more than one for all nodes of tree. \n",
    "\n",
    "A height balanced tree\n",
    "        1\n",
    "     /     \\\n",
    "   10      39\n",
    "  /\n",
    "5\n",
    "\n",
    "An unbalanced tree\n",
    "        1\n",
    "     /    \n",
    "   10   \n",
    "  /\n",
    "5\n",
    "\n",
    "Example 1:\n",
    "\n",
    "Input:\n",
    "      1\n",
    "    /\n",
    "   2\n",
    "    \\\n",
    "     3 \n",
    "Output: 0\n",
    "Explanation: The max difference in height\n",
    "of left subtree and right subtree is 2,\n",
    "which is greater than 1. Hence unbalanced\n",
    "Example 2:\n",
    "\n",
    "Input:\n",
    "       10\n",
    "     /   \\\n",
    "    20   30 \n",
    "  /   \\\n",
    " 40   60\n",
    "Output: 1\n",
    "Explanation: The max difference in height\n",
    "of left subtree and right subtree is 1.\n",
    "Hence balanced. \n",
    "Your Task:\n",
    "You don't need to take input. Just complete the function isBalanced() that takes root node as parameter and returns true, if the tree is balanced else returns false.\n",
    "\n",
    "Constraints:\n",
    "1 <= Number of nodes <= 105\n",
    "0 <= Data of a node <= 106\n",
    "\n",
    "Expected time complexity: O(N)\n",
    "Expected auxiliary space: O(h) , where h = height of tree"
   ]
  },
  {
   "cell_type": "code",
   "execution_count": 51,
   "metadata": {},
   "outputs": [],
   "source": [
    "# Tree Node\n",
    "class Node:\n",
    "    def __init__(self, val):\n",
    "        self.right = None\n",
    "        self.data = val\n",
    "        self.left = None"
   ]
  },
  {
   "cell_type": "code",
   "execution_count": 54,
   "metadata": {},
   "outputs": [],
   "source": [
    "def isBalanced_helper(root):\n",
    "    if(root==None):\n",
    "        return 0, True\n",
    "    l_h, bl_l = isBalanced_helper(root.left)\n",
    "    if(bl_l == False):\n",
    "        return l_h, False\n",
    "    r_h, bl_r = isBalanced_helper(root.right)\n",
    "    if(bl_r == False):\n",
    "        return r_h, False\n",
    "    res = True\n",
    "    if(abs(l_h-r_h)>1):\n",
    "        res = False\n",
    "    return max(l_h, r_h)+1, res"
   ]
  },
  {
   "cell_type": "code",
   "execution_count": 55,
   "metadata": {},
   "outputs": [],
   "source": [
    "def isBalanced(root):\n",
    "    #add code here\n",
    "    if(root==None):\n",
    "        return 1\n",
    "    h, res = isBalanced_helper(root)\n",
    "    if(res==True):\n",
    "        return 1\n",
    "    else:\n",
    "        return 0"
   ]
  },
  {
   "cell_type": "code",
   "execution_count": 58,
   "metadata": {},
   "outputs": [],
   "source": [
    "a = Node(10)\n",
    "a.left = Node(20)\n",
    "a.right = Node(30)\n",
    "\n",
    "a.left.left = Node(40)\n",
    "a.left.right = Node(50)\n",
    "# a.right.left = Node(60)\n",
    "# a.right.right = Node(70)\n",
    "\n",
    "a.left.left.left = Node(80)\n",
    "a.left.left.right = Node(90)\n",
    "\n",
    "# b = Node(10)\n",
    "# b.left = Node(20)\n",
    "# b.right = Node(30)\n",
    "\n",
    "# b.left.left = Node(40)\n",
    "# b.left.right = Node(50)\n",
    "# b.right.left = Node(60)\n",
    "# b.right.right = Node(70)\n",
    "\n",
    "# b.left.left.left = Node(80)\n",
    "# #b.left.left.right = Node(9)\n",
    "\n",
    "\n",
    "# '''\n",
    "#                    10\n",
    "#                 /      \\\n",
    "#                20       30\n",
    "#               /  \\     /  \\\n",
    "#             40   50   60   70\n",
    "#             / \\\n",
    "#           80  90\n",
    "# '''"
   ]
  },
  {
   "cell_type": "code",
   "execution_count": 59,
   "metadata": {},
   "outputs": [
    {
     "data": {
      "text/plain": [
       "0"
      ]
     },
     "execution_count": 59,
     "metadata": {},
     "output_type": "execute_result"
    }
   ],
   "source": [
    "isBalanced(a)"
   ]
  },
  {
   "cell_type": "code",
   "execution_count": null,
   "metadata": {},
   "outputs": [],
   "source": []
  }
 ],
 "metadata": {
  "kernelspec": {
   "display_name": "Python 3",
   "language": "python",
   "name": "python3"
  },
  "language_info": {
   "codemirror_mode": {
    "name": "ipython",
    "version": 3
   },
   "file_extension": ".py",
   "mimetype": "text/x-python",
   "name": "python",
   "nbconvert_exporter": "python",
   "pygments_lexer": "ipython3",
   "version": "3.6.10"
  }
 },
 "nbformat": 4,
 "nbformat_minor": 4
}
