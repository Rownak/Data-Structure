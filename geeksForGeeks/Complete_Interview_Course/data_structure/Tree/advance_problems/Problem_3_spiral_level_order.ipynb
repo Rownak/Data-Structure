{
 "cells": [
  {
   "cell_type": "markdown",
   "metadata": {},
   "source": [
    "Level order traversal in spiral form \n",
    "Complete the function to print spiral order traversal of a tree. For below tree, function should print 1, 2, 3, 4, 5, 6, 7.\n",
    "\n",
    "\n",
    " \n",
    " \n",
    "\n",
    "Example 1:\n",
    "\n",
    "Input:\n",
    "      1\n",
    "    /   \\\n",
    "   3     2\n",
    "Output:1 3 2\n",
    "\n",
    "Example 2:\n",
    "\n",
    "Input:\n",
    "           10\n",
    "         /     \\\n",
    "        20     30\n",
    "      /    \\\n",
    "    40     60\n",
    "Output: 10 20 30 60 40 \n",
    "Your Task:\n",
    "The task is to complete the function printSpiral() which prints the elements in spiral form of level order traversal. The newline is automatically appended by the driver code.\n",
    "Expected Time Complexity: O(N).\n",
    "Expected Auxiliary Space: O(N).\n",
    "\n",
    "Constraints:\n",
    "0 <= Number of nodes <= 105\n",
    "1 <= Data of a node <= 105"
   ]
  },
  {
   "cell_type": "code",
   "execution_count": 2,
   "metadata": {},
   "outputs": [],
   "source": [
    "# Tree Node\n",
    "class Node:\n",
    "    def __init__(self, val):\n",
    "        self.right = None\n",
    "        self.data = val\n",
    "        self.left = None"
   ]
  },
  {
   "cell_type": "code",
   "execution_count": 45,
   "metadata": {},
   "outputs": [],
   "source": [
    "def printSpiral(root):\n",
    "    # Code here\n",
    "    if(root == None):\n",
    "        return\n",
    "    q = []\n",
    "    q.append(root)\n",
    "    reverse = False\n",
    "    print(root.data, end=\" \")\n",
    "    while(len(q)>0):\n",
    "        sz = len(q)\n",
    "        \n",
    "        level = []\n",
    "        for j in range(sz):\n",
    "            curr = q.pop(0)\n",
    "            if(curr.left!=None):\n",
    "                q.append(curr.left)\n",
    "                level.append(curr.left.data)\n",
    "            if(curr.right!=None):\n",
    "                q.append(curr.right)\n",
    "                level.append(curr.right.data)\n",
    "        if(reverse):\n",
    "            for i in range(len(level)-1,-1,-1):\n",
    "                print(level[i], end=\" \")\n",
    "            reverse = not reverse\n",
    "        else:\n",
    "            for i in range(len(level)):\n",
    "                print(level[i], end=\" \")\n",
    "            reverse = not reverse"
   ]
  },
  {
   "cell_type": "code",
   "execution_count": 46,
   "metadata": {},
   "outputs": [],
   "source": [
    "a = Node(20)\n",
    "a.left = Node(8)\n",
    "a.right = Node(12)\n",
    "\n",
    "a.left.left = Node(3)\n",
    "a.left.right = Node(5)\n",
    "# a.right.left = Node(70)\n",
    "# a.right.right = Node(90)\n",
    "\n",
    "# a.left.left.left = Node(11)\n",
    "# a.left.left.right = Node(11)\n",
    "# a.left.right.left = Node(6)\n",
    "# a.left.right.right = Node(13)\n",
    "# #a.right.left.left = Node(11)\n",
    "#a.right.left.right = Node(8)\n",
    "# #a.right.right.left = Node(6)\n",
    "# a.right.right.right = Node(6)\n",
    "\n",
    "# a.left.left.left.left = Node(6)\n",
    "# a.left.left.left.right = Node(12)\n",
    "\n",
    "\n",
    "#                    20\n",
    "#                 /     \\\n",
    "#                8      12\n",
    "#               / \\\n",
    "#              3   5  "
   ]
  },
  {
   "cell_type": "code",
   "execution_count": 47,
   "metadata": {},
   "outputs": [
    {
     "name": "stdout",
     "output_type": "stream",
     "text": [
      "20 8 12 5 3 "
     ]
    }
   ],
   "source": [
    "printSpiral(a)"
   ]
  },
  {
   "cell_type": "code",
   "execution_count": null,
   "metadata": {},
   "outputs": [],
   "source": []
  },
  {
   "cell_type": "code",
   "execution_count": null,
   "metadata": {},
   "outputs": [],
   "source": []
  }
 ],
 "metadata": {
  "kernelspec": {
   "display_name": "Python 3",
   "language": "python",
   "name": "python3"
  },
  "language_info": {
   "codemirror_mode": {
    "name": "ipython",
    "version": 3
   },
   "file_extension": ".py",
   "mimetype": "text/x-python",
   "name": "python",
   "nbconvert_exporter": "python",
   "pygments_lexer": "ipython3",
   "version": "3.6.10"
  }
 },
 "nbformat": 4,
 "nbformat_minor": 4
}
