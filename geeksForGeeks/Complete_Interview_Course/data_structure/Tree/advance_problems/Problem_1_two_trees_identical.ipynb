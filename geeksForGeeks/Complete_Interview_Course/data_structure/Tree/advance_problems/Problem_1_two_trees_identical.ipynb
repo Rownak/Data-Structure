{
 "cells": [
  {
   "cell_type": "code",
   "execution_count": 1,
   "metadata": {},
   "outputs": [],
   "source": [
    "#Contributed by Sudarshan Sharma\n",
    "from collections import deque\n",
    "# Tree Node\n",
    "class Node:\n",
    "    def __init__(self, val):\n",
    "        self.right = None\n",
    "        self.data = val\n",
    "        self.left = None"
   ]
  },
  {
   "cell_type": "code",
   "execution_count": 5,
   "metadata": {},
   "outputs": [],
   "source": [
    "#User function Template for python3\n",
    "\n",
    "'''\n",
    "class Node:\n",
    "    def _init_(self, val):\n",
    "        self.right = None\n",
    "        self.data = val\n",
    "        self.left = None\n",
    "'''\n",
    "# your task is to complete this function\n",
    "# function should return true/false or 1/0\n",
    "\n",
    "def isIdentical(root1, root2):\n",
    "    # Code here\n",
    "    if(root1 == None and root2 == None):\n",
    "        return True\n",
    "    elif(root1 != None and root2 == None):\n",
    "        return False\n",
    "    elif(root1 == None and root2 != None):\n",
    "        return False\n",
    "    if(root1.data != root2.data):\n",
    "        return False\n",
    "    \n",
    "    return (isIdentical(root1.left, root2.left) and isIdentical(root1.right, root2.right))\n"
   ]
  },
  {
   "cell_type": "code",
   "execution_count": 10,
   "metadata": {},
   "outputs": [],
   "source": [
    "a = Node(10)\n",
    "a.left = Node(20)\n",
    "a.right = Node(30)\n",
    "\n",
    "a.left.left = Node(40)\n",
    "a.left.right = Node(50)\n",
    "a.right.left = Node(60)\n",
    "a.right.right = Node(70)\n",
    "\n",
    "a.left.left.left = Node(80)\n",
    "a.left.left.right = Node(90)\n",
    "\n",
    "b = Node(10)\n",
    "b.left = Node(20)\n",
    "b.right = Node(30)\n",
    "\n",
    "b.left.left = Node(40)\n",
    "b.left.right = Node(50)\n",
    "b.right.left = Node(60)\n",
    "b.right.right = Node(70)\n",
    "\n",
    "b.left.left.left = Node(80)\n",
    "#b.left.left.right = Node(9)\n",
    "\n",
    "\n",
    "# '''\n",
    "#                    10\n",
    "#                 /      \\\n",
    "#                20       30\n",
    "#               /  \\     /  \\\n",
    "#             40   50   60   70\n",
    "#             / \\\n",
    "#           80  90\n",
    "# '''"
   ]
  },
  {
   "cell_type": "code",
   "execution_count": 11,
   "metadata": {},
   "outputs": [
    {
     "data": {
      "text/plain": [
       "False"
      ]
     },
     "execution_count": 11,
     "metadata": {},
     "output_type": "execute_result"
    }
   ],
   "source": [
    "isIdentical(a, b)"
   ]
  },
  {
   "cell_type": "code",
   "execution_count": null,
   "metadata": {},
   "outputs": [],
   "source": []
  }
 ],
 "metadata": {
  "kernelspec": {
   "display_name": "Python 3",
   "language": "python",
   "name": "python3"
  },
  "language_info": {
   "codemirror_mode": {
    "name": "ipython",
    "version": 3
   },
   "file_extension": ".py",
   "mimetype": "text/x-python",
   "name": "python",
   "nbconvert_exporter": "python",
   "pygments_lexer": "ipython3",
   "version": "3.7.6"
  }
 },
 "nbformat": 4,
 "nbformat_minor": 4
}
