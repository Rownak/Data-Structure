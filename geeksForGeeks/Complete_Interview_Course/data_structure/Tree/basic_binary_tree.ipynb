{
 "cells": [
  {
   "cell_type": "markdown",
   "metadata": {},
   "source": [
    "Tree Applications:\n",
    "- Hirarchical data\n",
    "    -Organized Structure\n",
    "    -Folder\n",
    "    -XML/HTML, JSON\n",
    "    -OOP Inheritence\n",
    "-BST\n",
    "-Binary Heap\n",
    "    -priority Queue\n",
    "    -Prims Algorithm\n",
    "    -Halfman Algorithm\n",
    "    -Dijkstraw Algorithm\n",
    "-B, B+ trees \n",
    "    - Indexing\n",
    "    - Spanning/ Shortest path tree\n",
    "    - DBMS\n",
    "-Parse Tree \n",
    "    - Expression tree in compiler"
   ]
  },
  {
   "cell_type": "markdown",
   "metadata": {},
   "source": [
    "More Applications\n",
    "\n",
    "* Tries\n",
    "    - Represent dictionaries/ prefixe search\n",
    "* Suffix Tree\n",
    "    - Fast serches in a string\n",
    "    - Search a pattern in a big text\n",
    "* Binary Index Tree\n",
    "    - Range Query search\n",
    "* Segment tree\n",
    "    - Range Query search\n"
   ]
  },
  {
   "cell_type": "markdown",
   "metadata": {},
   "source": [
    "\n",
    "* Binary Tree\n",
    "    - BST, HEAP, Segment Tree\n",
    "\n"
   ]
  },
  {
   "cell_type": "code",
   "execution_count": 2,
   "metadata": {},
   "outputs": [],
   "source": [
    "class Node:\n",
    "    def __init__(self,item):\n",
    "        self.item = item\n",
    "        self.left = None\n",
    "        self.right = None\n",
    "    "
   ]
  },
  {
   "cell_type": "code",
   "execution_count": 3,
   "metadata": {},
   "outputs": [],
   "source": [
    "a = Node(5)\n",
    "a.left = Node(2)\n",
    "a.right = Node(3)"
   ]
  },
  {
   "cell_type": "code",
   "execution_count": null,
   "metadata": {},
   "outputs": [],
   "source": []
  }
 ],
 "metadata": {
  "kernelspec": {
   "display_name": "Python 3",
   "language": "python",
   "name": "python3"
  },
  "language_info": {
   "codemirror_mode": {
    "name": "ipython",
    "version": 3
   },
   "file_extension": ".py",
   "mimetype": "text/x-python",
   "name": "python",
   "nbconvert_exporter": "python",
   "pygments_lexer": "ipython3",
   "version": "3.6.10"
  }
 },
 "nbformat": 4,
 "nbformat_minor": 4
}
