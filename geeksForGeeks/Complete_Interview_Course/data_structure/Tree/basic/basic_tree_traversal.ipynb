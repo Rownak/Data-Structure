{
 "cells": [
  {
   "cell_type": "markdown",
   "metadata": {},
   "source": [
    "InOrder\n",
    "PreOrder\n",
    "PostOrder\n",
    "\n",
    "Time Complexity <font color='blue'>O(n)</font>\n",
    "\n",
    "Auxilary Space: <font color='blue'>O(h)</font>\n",
    "\n",
    "[h = height of the tree]\n",
    "\n",
    "We can also say $\\Theta(n)$ and $\\Theta(h)$ becasue it is an exact bount;"
   ]
  },
  {
   "cell_type": "code",
   "execution_count": 2,
   "metadata": {},
   "outputs": [],
   "source": [
    "\n",
    "# Node Class:\n",
    "class Node:\n",
    "    def __init__(self,val):\n",
    "        self.data = val\n",
    "        self.left = None\n",
    "        self.right = None\n",
    "\n",
    "# Return a list containing the inorder traversal of the given tree\n",
    "def InOrder(root):\n",
    "    # code here\n",
    "    result = []\n",
    "    return inOrder_traverse(root, result)\n",
    "    \n",
    "def inOrder_traverse(root, result):\n",
    "    \n",
    "    if(root == None):\n",
    "        return result\n",
    "    inOrder_traverse(root.left, result)\n",
    "    result.append(root.data)\n",
    "    inOrder_traverse(root.right, result)\n",
    "    return result\n",
    "\n",
    "def preOrder_traverse(root):\n",
    "    \n",
    "    if(root == None):\n",
    "        return \n",
    "    print(root.data)\n",
    "    preOrder_traverse(root.left)\n",
    "    preOrder_traverse(root.right)\n",
    "    return \n",
    "\n",
    "def postOrder_traverse(root):\n",
    "    \n",
    "    if(root == None):\n",
    "        return \n",
    "    \n",
    "    postOrder_traverse(root.left)\n",
    "    postOrder_traverse(root.right)\n",
    "    print(root.data)\n",
    "    return \n",
    "\n",
    "# Your task is to complete this function\n",
    "# Function should return the level order of the tree in the form of a list of integers\n",
    "def levelOrder( root ):\n",
    "    # Code here\n",
    "    result = []\n",
    "    q = []\n",
    "    q.append(root)\n",
    "    while(len(q)):\n",
    "        top = q.pop(0)\n",
    "        result.append(top.data)\n",
    "        if(top.left != None):\n",
    "            q.append(top.left)\n",
    "        if(top.right != None):\n",
    "            q.append(top.right)\n",
    "    return result"
   ]
  },
  {
   "cell_type": "code",
   "execution_count": 3,
   "metadata": {},
   "outputs": [
    {
     "data": {
      "text/plain": [
       "[1, 2, 5, 10, 3]"
      ]
     },
     "execution_count": 3,
     "metadata": {},
     "output_type": "execute_result"
    }
   ],
   "source": [
    "a = Node(5)\n",
    "a.left = Node(2)\n",
    "a.right = Node(3)\n",
    "a.left.left = Node(1)\n",
    "a.right.left = Node(10)\n",
    "\n",
    "InOrder(a)"
   ]
  },
  {
   "cell_type": "code",
   "execution_count": 4,
   "metadata": {},
   "outputs": [
    {
     "name": "stdout",
     "output_type": "stream",
     "text": [
      "5\n",
      "2\n",
      "1\n",
      "3\n",
      "10\n"
     ]
    }
   ],
   "source": [
    "preOrder_traverse(a)"
   ]
  },
  {
   "cell_type": "code",
   "execution_count": 5,
   "metadata": {},
   "outputs": [
    {
     "name": "stdout",
     "output_type": "stream",
     "text": [
      "2\n",
      "1\n",
      "3\n",
      "10\n",
      "5\n"
     ]
    }
   ],
   "source": [
    "postOrder_traverse(a)"
   ]
  },
  {
   "cell_type": "code",
   "execution_count": 6,
   "metadata": {},
   "outputs": [
    {
     "data": {
      "text/plain": [
       "[5, 2, 3, 1, 10]"
      ]
     },
     "execution_count": 6,
     "metadata": {},
     "output_type": "execute_result"
    }
   ],
   "source": [
    "levelOrder( a )"
   ]
  },
  {
   "cell_type": "code",
   "execution_count": 3,
   "metadata": {},
   "outputs": [
    {
     "name": "stdout",
     "output_type": "stream",
     "text": [
      "2\n",
      "1 2\n",
      "1 2 "
     ]
    },
    {
     "ename": "TypeError",
     "evalue": "'NoneType' object is not iterable",
     "output_type": "error",
     "traceback": [
      "\u001b[0;31m---------------------------------------------------------------------------\u001b[0m",
      "\u001b[0;31mTypeError\u001b[0m                                 Traceback (most recent call last)",
      "\u001b[0;32m<ipython-input-3-ba9b776aab17>\u001b[0m in \u001b[0;36m<module>\u001b[0;34m\u001b[0m\n\u001b[1;32m    104\u001b[0m         \u001b[0mroot\u001b[0m\u001b[0;34m=\u001b[0m\u001b[0mbuildTree\u001b[0m\u001b[0;34m(\u001b[0m\u001b[0ms\u001b[0m\u001b[0;34m)\u001b[0m\u001b[0;34m\u001b[0m\u001b[0;34m\u001b[0m\u001b[0m\n\u001b[1;32m    105\u001b[0m         \u001b[0mres\u001b[0m \u001b[0;34m=\u001b[0m \u001b[0mpreorder\u001b[0m\u001b[0;34m(\u001b[0m\u001b[0mroot\u001b[0m\u001b[0;34m)\u001b[0m\u001b[0;34m\u001b[0m\u001b[0;34m\u001b[0m\u001b[0m\n\u001b[0;32m--> 106\u001b[0;31m         \u001b[0;32mfor\u001b[0m \u001b[0mi\u001b[0m \u001b[0;32min\u001b[0m \u001b[0mres\u001b[0m\u001b[0;34m:\u001b[0m\u001b[0;34m\u001b[0m\u001b[0;34m\u001b[0m\u001b[0m\n\u001b[0m\u001b[1;32m    107\u001b[0m             \u001b[0mprint\u001b[0m \u001b[0;34m(\u001b[0m\u001b[0mi\u001b[0m\u001b[0;34m,\u001b[0m \u001b[0mend\u001b[0m \u001b[0;34m=\u001b[0m \u001b[0;34m\" \"\u001b[0m\u001b[0;34m)\u001b[0m\u001b[0;34m\u001b[0m\u001b[0;34m\u001b[0m\u001b[0m\n\u001b[1;32m    108\u001b[0m         \u001b[0mprint\u001b[0m\u001b[0;34m(\u001b[0m\u001b[0;34m)\u001b[0m\u001b[0;34m\u001b[0m\u001b[0;34m\u001b[0m\u001b[0m\n",
      "\u001b[0;31mTypeError\u001b[0m: 'NoneType' object is not iterable"
     ]
    }
   ],
   "source": []
  },
  {
   "cell_type": "markdown",
   "metadata": {},
   "source": [
    "### "
   ]
  }
 ],
 "metadata": {
  "kernelspec": {
   "display_name": "Python 3",
   "language": "python",
   "name": "python3"
  },
  "language_info": {
   "codemirror_mode": {
    "name": "ipython",
    "version": 3
   },
   "file_extension": ".py",
   "mimetype": "text/x-python",
   "name": "python",
   "nbconvert_exporter": "python",
   "pygments_lexer": "ipython3",
   "version": "3.6.10"
  }
 },
 "nbformat": 4,
 "nbformat_minor": 4
}
