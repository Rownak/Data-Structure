{
 "cells": [
  {
   "cell_type": "markdown",
   "metadata": {},
   "source": [
    "<img src=\"Images/max.png\">"
   ]
  },
  {
   "cell_type": "markdown",
   "metadata": {},
   "source": [
    "Each node visit is constant time, We are visiting all nodes. So,\n",
    "Time Complexity <font color='blue'>O(n)</font>\n",
    "\n",
    "Auxilary Space: <font color='blue'>O(h)</font>\n",
    "\n",
    "[h = height of the tree]\n",
    "\n",
    "We can also say $\\Theta(n)$ and $\\Theta(h)$ becasue it is an exact bount;"
   ]
  },
  {
   "cell_type": "markdown",
   "metadata": {},
   "source": [
    "Queue based solution \n",
    "Time Complexity <font color='blue'>O(n)</font>\n",
    "\n",
    "Auxilary Space: <font color='blue'>O(W)</font>\n",
    "W= width of tree\n",
    "\n",
    "if the tree height is greater than the widht then Queue based solution is better.\""
   ]
  },
  {
   "cell_type": "code",
   "execution_count": 4,
   "metadata": {},
   "outputs": [],
   "source": [
    "class Node:\n",
    "    def __init__(self,val):\n",
    "        self.data = val\n",
    "        self.left = None\n",
    "        self.right = None"
   ]
  },
  {
   "cell_type": "code",
   "execution_count": 5,
   "metadata": {},
   "outputs": [],
   "source": [
    "def get_max(root):\n",
    "    if(root == None):\n",
    "        return float('-inf')\n",
    "    return max(root.data, max(get_max(root.left), get_max(root.right)))"
   ]
  },
  {
   "cell_type": "code",
   "execution_count": 9,
   "metadata": {},
   "outputs": [],
   "source": [
    "def get_max_Q( root ):\n",
    "    q = []\n",
    "    curr_max = float('-inf')\n",
    "    q.append(root)\n",
    "    while(len(q)):\n",
    "        top = q.pop(0)\n",
    "        if(top.data>curr_max):\n",
    "            curr_max=top.data\n",
    "        if(top.left != None):\n",
    "            q.append(top.left)\n",
    "        if(top.right != None):\n",
    "            q.append(top.right)\n",
    "    return curr_max"
   ]
  },
  {
   "cell_type": "code",
   "execution_count": 10,
   "metadata": {},
   "outputs": [],
   "source": [
    "a = Node(20)\n",
    "a.left = Node(80)\n",
    "a.right = Node(30)\n",
    "a.right.left = Node(40)\n",
    "a.right.right = Node(50)"
   ]
  },
  {
   "cell_type": "code",
   "execution_count": 11,
   "metadata": {},
   "outputs": [
    {
     "data": {
      "text/plain": [
       "80"
      ]
     },
     "execution_count": 11,
     "metadata": {},
     "output_type": "execute_result"
    }
   ],
   "source": [
    "get_max(a)"
   ]
  },
  {
   "cell_type": "code",
   "execution_count": 12,
   "metadata": {},
   "outputs": [
    {
     "data": {
      "text/plain": [
       "80"
      ]
     },
     "execution_count": 12,
     "metadata": {},
     "output_type": "execute_result"
    }
   ],
   "source": [
    "get_max_Q(a)"
   ]
  },
  {
   "cell_type": "code",
   "execution_count": null,
   "metadata": {},
   "outputs": [],
   "source": []
  }
 ],
 "metadata": {
  "kernelspec": {
   "display_name": "Python 3",
   "language": "python",
   "name": "python3"
  },
  "language_info": {
   "codemirror_mode": {
    "name": "ipython",
    "version": 3
   },
   "file_extension": ".py",
   "mimetype": "text/x-python",
   "name": "python",
   "nbconvert_exporter": "python",
   "pygments_lexer": "ipython3",
   "version": "3.6.10"
  }
 },
 "nbformat": 4,
 "nbformat_minor": 4
}
