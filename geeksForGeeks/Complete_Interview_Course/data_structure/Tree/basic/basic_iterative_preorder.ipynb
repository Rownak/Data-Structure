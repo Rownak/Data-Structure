{
 "cells": [
  {
   "cell_type": "markdown",
   "metadata": {},
   "source": [
    "<img src=\"../Images/iterative_preorder.png\">"
   ]
  },
  {
   "cell_type": "markdown",
   "metadata": {},
   "source": [
    "Time Complexity <font color='blue'>O(n)</font>\n",
    "\n",
    "Auxilary Space: <font color='red'>O(n)</font>"
   ]
  },
  {
   "cell_type": "code",
   "execution_count": 1,
   "metadata": {},
   "outputs": [],
   "source": [
    "class Node:\n",
    "    def __init__(self,val):\n",
    "        self.data = val\n",
    "        self.left = None\n",
    "        self.right = None"
   ]
  },
  {
   "cell_type": "code",
   "execution_count": 3,
   "metadata": {},
   "outputs": [],
   "source": [
    "def preorder_iterative(root):\n",
    "    s = []\n",
    "    curr =root\n",
    "    s.append(root)\n",
    "    while(len(s)>0 and curr != None):\n",
    "        curr = s.pop()\n",
    "        print(curr.data)\n",
    "        if(curr.right!= None):\n",
    "            s.append(curr.right)\n",
    "        if(curr.left!=None):\n",
    "            s.append(curr.left)\n",
    "        "
   ]
  },
  {
   "cell_type": "markdown",
   "metadata": {},
   "source": [
    "<img src=\"../Images/iterative_preorder_space_opt.png\">"
   ]
  },
  {
   "cell_type": "markdown",
   "metadata": {},
   "source": [
    "Time Complexity <font color='blue'>O(n)</font>\n",
    "\n",
    "Auxilary Space: <font color='green'>O(h)</font>"
   ]
  },
  {
   "cell_type": "code",
   "execution_count": 4,
   "metadata": {},
   "outputs": [],
   "source": [
    "def preorder_iterative_opt_space(root):\n",
    "    s = []\n",
    "    curr =root\n",
    "    s.append(root)\n",
    "    while(len(s)>0):\n",
    "        while(curr!=None):\n",
    "            print(curr.data)\n",
    "            if(curr.right!=None):\n",
    "                s.append(curr.right)\n",
    "            curr = curr.left\n",
    "        curr = s.pop()\n",
    "        "
   ]
  },
  {
   "cell_type": "code",
   "execution_count": 5,
   "metadata": {},
   "outputs": [],
   "source": [
    "a = Node(10)\n",
    "a.left = Node(20)\n",
    "a.right = Node(30)\n",
    "\n",
    "a.left.left = Node(40)\n",
    "a.left.right = Node(50)\n",
    "a.right.left = Node(60)\n",
    "a.right.right = Node(70)\n",
    "\n",
    "a.left.left.left = Node(80)\n",
    "a.left.left.right = Node(90)\n",
    "\n",
    "\n",
    "# '''\n",
    "#                    10\n",
    "#                 /      \\\n",
    "#                20       30\n",
    "#               /  \\     /  \\\n",
    "#             40   50   60   70\n",
    "#             / \\\n",
    "#           80  90\n",
    "# '''"
   ]
  },
  {
   "cell_type": "code",
   "execution_count": 6,
   "metadata": {},
   "outputs": [
    {
     "name": "stdout",
     "output_type": "stream",
     "text": [
      "10\n",
      "20\n",
      "40\n",
      "80\n",
      "90\n",
      "50\n",
      "30\n",
      "60\n",
      "70\n"
     ]
    }
   ],
   "source": [
    "preorder_iterative(a)"
   ]
  },
  {
   "cell_type": "code",
   "execution_count": 7,
   "metadata": {},
   "outputs": [
    {
     "name": "stdout",
     "output_type": "stream",
     "text": [
      "10\n",
      "20\n",
      "40\n",
      "80\n",
      "90\n",
      "50\n",
      "30\n",
      "60\n",
      "70\n"
     ]
    }
   ],
   "source": [
    "preorder_iterative_opt_space(a)"
   ]
  },
  {
   "cell_type": "code",
   "execution_count": null,
   "metadata": {},
   "outputs": [],
   "source": []
  },
  {
   "cell_type": "code",
   "execution_count": null,
   "metadata": {},
   "outputs": [],
   "source": []
  }
 ],
 "metadata": {
  "kernelspec": {
   "display_name": "Python 3",
   "language": "python",
   "name": "python3"
  },
  "language_info": {
   "codemirror_mode": {
    "name": "ipython",
    "version": 3
   },
   "file_extension": ".py",
   "mimetype": "text/x-python",
   "name": "python",
   "nbconvert_exporter": "python",
   "pygments_lexer": "ipython3",
   "version": "3.6.10"
  }
 },
 "nbformat": 4,
 "nbformat_minor": 4
}
