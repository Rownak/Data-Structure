{
 "cells": [
  {
   "cell_type": "markdown",
   "metadata": {},
   "source": [
    "Given a Binary Tree, your task is to print its level order traversal such that each level is separated by $.\n",
    "For the below tree the output will be 1 $ 2 3 $ 4 5 6 7 $ 8 $.\n",
    "\n",
    "          1\n",
    "       /     \\\n",
    "     2        3\n",
    "   /    \\     /\\\n",
    "  4     5   6    7\n",
    "    \\\n",
    "     8\n",
    "\n",
    "Input:\n",
    "The first line of input contains the number of test cases T. For every test case, the only line of input contains a string representing the tree as described below: \n",
    "\n",
    "The values in the string are in the order of level order traversal of the tree where, numbers denote node values, and a character “N” denotes NULL child.\n",
    "\n",
    "For example:\n",
    "\n",
    " \n",
    "For the above tree, the string will be: 1 2 3 N N 4 6 N 5 N N 7 N\n",
    "\n",
    "Output:\n",
    "For each test case, in a new line, print the output in the required format.\n",
    "\n",
    "Your Task:\n",
    "This is a function problem. You don't need to read input. Just complete the function levelOrder() that takes nodes as parameter and prints level order line-by-line. The newline for every test case is automatically appended by the driver code.\n",
    "Expected Time Complexity: O(N).\n",
    "Expected Auxiliary Space: O(N).\n",
    "\n",
    "Constraints:\n",
    "1 <= T<= 100\n",
    "1 <= Number of edges <= 1000\n",
    "1 <= Data of a node <= 100\n",
    "\n",
    "Example:\n",
    "Input:\n",
    "2\n",
    "1 4 N 4 2 \n",
    "10 20 30 40 60 N N \n",
    "Output:\n",
    "1 $ 4 $ 4 2 $\n",
    "10 $ 20 30 $ 40 60 $\n",
    "\n",
    "Explanation:\n",
    "Testcase1: The tree is\n",
    "                    1\n",
    "                 /\n",
    "               4\n",
    "            /     \\\n",
    "         4        2\n",
    "So, the level order would be 1 $ 4 $ 4 2 $\n",
    "Testcase2: The tree is\n",
    "                           10\n",
    "                        /        \\\n",
    "                     20         30\n",
    "                  /       \\\n",
    "               40       60\n",
    "So, the level order would be 10 $ 20 30 $ 40 60 $"
   ]
  },
  {
   "cell_type": "markdown",
   "metadata": {},
   "source": [
    "<img src=\"Images/level_order_adv.png\">"
   ]
  },
  {
   "cell_type": "markdown",
   "metadata": {},
   "source": []
  },
  {
   "cell_type": "markdown",
   "metadata": {},
   "source": [
    "Time = O(n+h) = O(n)\n",
    "Space = Theta(width) = O(n)"
   ]
  },
  {
   "cell_type": "code",
   "execution_count": 3,
   "metadata": {},
   "outputs": [],
   "source": [
    "class Node:\n",
    "    def __init__(self, val):\n",
    "        self.data = val\n",
    "        self.left = None\n",
    "        self.right = None\n"
   ]
  },
  {
   "cell_type": "code",
   "execution_count": 4,
   "metadata": {},
   "outputs": [],
   "source": [
    "def levelOrder(root):\n",
    "    if(root==None):\n",
    "        print('$')\n",
    "        return\n",
    "    q = []\n",
    "    out_str = []\n",
    "    curr = root\n",
    "    q.append(curr)\n",
    "    q.append(None)\n",
    "    while(len(q)>0):\n",
    "        top = q.pop(0)\n",
    "        if(top==None):\n",
    "            continue\n",
    "        out_str.append(top.data)\n",
    "        if(top.left!=None):\n",
    "            q.append(top.left)\n",
    "        if(top.right!=None):\n",
    "            q.append(top.right)\n",
    "        if(len(q)>0):\n",
    "            if(q[0]==None):\n",
    "                q.append(None)\n",
    "                q.pop(0)\n",
    "                out_str.append('$')\n",
    "                \n",
    "        else:\n",
    "            out_str.append('$')\n",
    "    out = ' '.join([str(item) for item in out_str])\n",
    "    print(out , end = '')\n",
    "    return "
   ]
  },
  {
   "cell_type": "code",
   "execution_count": 17,
   "metadata": {},
   "outputs": [],
   "source": [
    "def levelOrder_tut(root):\n",
    "    if(root==None):\n",
    "        return\n",
    "    q = []\n",
    "    curr = root\n",
    "    q.append(curr)\n",
    "    q.append(None)\n",
    "    while(len(q)>1):\n",
    "        top = q.pop(0)\n",
    "        if(top==None):\n",
    "            q.append(None)\n",
    "            print('$', end =' ')\n",
    "            continue\n",
    "        print(top.data, end=' ')\n",
    "        if(top.left!=None):\n",
    "            q.append(top.left)\n",
    "        if(top.right!=None):\n",
    "            q.append(top.right)\n",
    "    print('$', end ='')\n",
    "    return "
   ]
  },
  {
   "cell_type": "markdown",
   "metadata": {},
   "source": [
    "<img src=\"Images/level_order_adv2.png\">"
   ]
  },
  {
   "cell_type": "code",
   "execution_count": 1,
   "metadata": {},
   "outputs": [],
   "source": [
    "def levelOrder_tut2(root):\n",
    "    if(root==None):\n",
    "        return\n",
    "    q = []\n",
    "    curr = root\n",
    "    q.append(curr)\n",
    "    while(len(q)>0):\n",
    "        size = len(q)\n",
    "        \n",
    "        for i in range(size):\n",
    "            top = q.pop(0)\n",
    "            print(top.data, end=' ')\n",
    "            if(top.left!=None):\n",
    "                q.append(top.left)\n",
    "            if(top.right!=None):\n",
    "                q.append(top.right)\n",
    "        print('$', end=' ')\n",
    "    print('$', end ='')\n",
    "    return "
   ]
  },
  {
   "cell_type": "code",
   "execution_count": 18,
   "metadata": {},
   "outputs": [],
   "source": [
    "a = Node(7)\n",
    "a.left = Node(5)\n",
    "a.right = Node(3)\n",
    "\n",
    "a.left.left = Node(6)\n",
    "a.left.right = Node(2)\n",
    "#a.right.left = Node(2)\n",
    "a.right.right = Node(1)\n",
    "\n",
    "a.left.left.left = Node(11)\n",
    "a.left.left.right = Node(11)\n",
    "a.left.right.left = Node(6)\n",
    "a.left.right.right = Node(13)\n",
    "#a.right.left.left = Node(11)\n",
    "#a.right.left.right = Node(11)\n",
    "#a.right.right.left = Node(6)\n",
    "a.right.right.right = Node(6)\n",
    "\n",
    "a.left.left.left.left = Node(6)\n",
    "a.left.left.left.right = Node(12)\n",
    "\n",
    "'''\n",
    "                   7\n",
    "                /     \\\n",
    "               5       3\n",
    "             /   \\      \\\n",
    "            6      2      1\n",
    "           / \\    / \\      \\\n",
    "          11  11  6 13      6\n",
    "         / \\\n",
    "        6  12\n",
    "'''"
   ]
  },
  {
   "cell_type": "code",
   "execution_count": 19,
   "metadata": {},
   "outputs": [
    {
     "name": "stdout",
     "output_type": "stream",
     "text": [
      "7 $ 5 3 $ 6 2 1 $ 11 11 6 13 6 $ 6 12 $"
     ]
    }
   ],
   "source": [
    "out=levelOrder_tut(a)"
   ]
  },
  {
   "cell_type": "code",
   "execution_count": 95,
   "metadata": {},
   "outputs": [
    {
     "data": {
      "text/plain": [
       "'7 $ 5 3 $ 6 2 1 $ 11 11 6 13 6 $ 6 12 $'"
      ]
     },
     "execution_count": 95,
     "metadata": {},
     "output_type": "execute_result"
    }
   ],
   "source": [
    "out"
   ]
  },
  {
   "cell_type": "code",
   "execution_count": 36,
   "metadata": {},
   "outputs": [
    {
     "data": {
      "text/plain": [
       "'34 13 4 5 3 $ 2 3 2 $ N 1 1 $ N $ N $ N $ N'"
      ]
     },
     "execution_count": 36,
     "metadata": {},
     "output_type": "execute_result"
    }
   ],
   "source": [
    "listToStr"
   ]
  },
  {
   "cell_type": "code",
   "execution_count": 31,
   "metadata": {},
   "outputs": [
    {
     "data": {
      "text/plain": [
       "\"[34, 13, 4, 5, 3, '$', 2, 3, 2, '$', 'N', 1, 1, '$', 'N', '$', 'N', '$', 'N', '$', 'N']\""
      ]
     },
     "execution_count": 31,
     "metadata": {},
     "output_type": "execute_result"
    }
   ],
   "source": [
    "out"
   ]
  },
  {
   "cell_type": "code",
   "execution_count": null,
   "metadata": {},
   "outputs": [],
   "source": [
    "7 5 3 6 2 N 1 11 11 6 13 N 6 6 12\n",
    "2 2 13 7 10 1 10 5 2 N 14 5 11 5 5 13"
   ]
  }
 ],
 "metadata": {
  "kernelspec": {
   "display_name": "Python 3",
   "language": "python",
   "name": "python3"
  },
  "language_info": {
   "codemirror_mode": {
    "name": "ipython",
    "version": 3
   },
   "file_extension": ".py",
   "mimetype": "text/x-python",
   "name": "python",
   "nbconvert_exporter": "python",
   "pygments_lexer": "ipython3",
   "version": "3.6.10"
  }
 },
 "nbformat": 4,
 "nbformat_minor": 4
}
