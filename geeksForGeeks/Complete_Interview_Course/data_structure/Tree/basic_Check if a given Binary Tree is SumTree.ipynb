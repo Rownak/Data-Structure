{
 "cells": [
  {
   "cell_type": "code",
   "execution_count": 35,
   "metadata": {},
   "outputs": [],
   "source": [
    "class Node:\n",
    "    def __init__(self, data):\n",
    "        self.data = data\n",
    "        self.left = None\n",
    "        self.right = None"
   ]
  },
  {
   "cell_type": "code",
   "execution_count": 36,
   "metadata": {},
   "outputs": [],
   "source": [
    "def sum_child(root):\n",
    "    if(root==None):\n",
    "        return 0\n",
    "    return sum_child(root.left)+root.data+sum_child(root.right)"
   ]
  },
  {
   "cell_type": "code",
   "execution_count": 40,
   "metadata": {},
   "outputs": [],
   "source": [
    "def check_sum_tree(root):\n",
    "    \n",
    "    if(root == None):\n",
    "        return True\n",
    "    \n",
    "    ls = sum_child(root.left)\n",
    "    rs = sum_child(root.right)\n",
    "    print(\"root_data\",root.data)\n",
    "    print(\"root_sum\",ls+rs)\n",
    "    \n",
    "    return (root.data==ls+rs) and check_sum_tree(root.left) and check_sum_tree(root.right)"
   ]
  },
  {
   "cell_type": "code",
   "execution_count": 41,
   "metadata": {},
   "outputs": [],
   "source": [
    "a = Node(34)\n",
    "a.left = Node(13)\n",
    "a.right = Node(4)\n",
    "a.left.left = Node(5)\n",
    "a.left.right = Node(3)\n",
    "a.right.right = Node(2)\n",
    "a.left.left.left = Node(3)\n",
    "a.left.left.right = Node(2)\n",
    "a.right.right.left = Node(1)\n",
    "a.right.right.right = Node(1)"
   ]
  },
  {
   "cell_type": "code",
   "execution_count": 42,
   "metadata": {},
   "outputs": [
    {
     "name": "stdout",
     "output_type": "stream",
     "text": [
      "root_data 34\n",
      "root_sum 34\n",
      "root_data 13\n",
      "root_sum 13\n",
      "root_data 5\n",
      "root_sum 5\n",
      "root_data 3\n",
      "root_sum 0\n"
     ]
    },
    {
     "data": {
      "text/plain": [
       "False"
      ]
     },
     "execution_count": 42,
     "metadata": {},
     "output_type": "execute_result"
    }
   ],
   "source": [
    "check_sum_tree(a)"
   ]
  },
  {
   "cell_type": "code",
   "execution_count": null,
   "metadata": {},
   "outputs": [],
   "source": []
  }
 ],
 "metadata": {
  "kernelspec": {
   "display_name": "Python 3",
   "language": "python",
   "name": "python3"
  },
  "language_info": {
   "codemirror_mode": {
    "name": "ipython",
    "version": 3
   },
   "file_extension": ".py",
   "mimetype": "text/x-python",
   "name": "python",
   "nbconvert_exporter": "python",
   "pygments_lexer": "ipython3",
   "version": "3.6.10"
  }
 },
 "nbformat": 4,
 "nbformat_minor": 4
}
