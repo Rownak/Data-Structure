{
 "cells": [
  {
   "cell_type": "code",
   "execution_count": null,
   "metadata": {},
   "outputs": [],
   "source": []
  },
  {
   "cell_type": "code",
   "execution_count": 1,
   "metadata": {},
   "outputs": [],
   "source": [
    "class Node:\n",
    "    def __init__(self, val):\n",
    "        self.left = None\n",
    "        self.right = None\n",
    "        self.data = val"
   ]
  },
  {
   "cell_type": "markdown",
   "metadata": {},
   "source": [
    "<img src=\"../Images/video_7_max_width.png\">\n",
    "Its a Queue based level order traversal of tree with some condition to get max width\n",
    "\n",
    "Time complexity O(n) also it is $\\theta$(n)\n",
    "\n",
    "Aux Space O(n) or $\\theta$(max_width)"
   ]
  },
  {
   "cell_type": "code",
   "execution_count": 6,
   "metadata": {},
   "outputs": [],
   "source": [
    "def get_max_width(root):\n",
    "    max_w = 0\n",
    "    q=[]\n",
    "    q.append(root)\n",
    "    while(len(q)>0):\n",
    "        width = len(q)\n",
    "        max_w = max(max_w, width)\n",
    "        for i in range(width):\n",
    "            curr = q.pop(0)\n",
    "            if(curr.right!=None):\n",
    "                q.append(curr.right)\n",
    "            if(curr.left!=None):\n",
    "                q.append(curr.left)\n",
    "    return max_w"
   ]
  },
  {
   "cell_type": "code",
   "execution_count": 7,
   "metadata": {},
   "outputs": [
    {
     "data": {
      "text/plain": [
       "'\\n                   7\\n                /                    5       3\\n             /   \\\\                  6      2     1\\n           /           1   2\\n \\n'"
      ]
     },
     "execution_count": 7,
     "metadata": {},
     "output_type": "execute_result"
    }
   ],
   "source": [
    "a = Node(7)\n",
    "a.left = Node(5)\n",
    "a.right = Node(3)\n",
    "\n",
    "a.left.left = Node(6)\n",
    "a.left.right = Node(2)\n",
    "#a.right.left = Node(2)\n",
    "a.right.right = Node(1)\n",
    "\n",
    "a.left.left.left = Node(1)\n",
    "a.left.left.right = Node(2)\n",
    "#a.left.right.left = Node(6)\n",
    "#a.left.right.right = Node(13)\n",
    "# a.right.left.left = Node(11)\n",
    "# a.right.left.right = Node(11)\n",
    "# a.right.right.left = Node(6)\n",
    "# a.right.right.right = Node(6)\n",
    "\n",
    "#a.left.left.left.left = Node(6)\n",
    "#a.left.left.left.right = Node(12)\n",
    "\n",
    "'''\n",
    "                   7\n",
    "                /     \\\n",
    "               5       3\n",
    "             /   \\      \\\n",
    "            6      2     1\n",
    "           / \\\n",
    "          1   2\n",
    " \n",
    "'''"
   ]
  },
  {
   "cell_type": "code",
   "execution_count": 8,
   "metadata": {},
   "outputs": [
    {
     "data": {
      "text/plain": [
       "3"
      ]
     },
     "execution_count": 8,
     "metadata": {},
     "output_type": "execute_result"
    }
   ],
   "source": [
    "get_max_width(a)"
   ]
  },
  {
   "cell_type": "code",
   "execution_count": null,
   "metadata": {},
   "outputs": [],
   "source": []
  }
 ],
 "metadata": {
  "kernelspec": {
   "display_name": "Python 3",
   "language": "python",
   "name": "python3"
  },
  "language_info": {
   "codemirror_mode": {
    "name": "ipython",
    "version": 3
   },
   "file_extension": ".py",
   "mimetype": "text/x-python",
   "name": "python",
   "nbconvert_exporter": "python",
   "pygments_lexer": "ipython3",
   "version": "3.6.10"
  }
 },
 "nbformat": 4,
 "nbformat_minor": 4
}
