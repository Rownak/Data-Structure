{
 "cells": [
  {
   "cell_type": "markdown",
   "metadata": {},
   "source": [
    "\n",
    "<img src=\"../Images/video_15_count_nodes_in_complete_BT.png\">\n",
    "\n",
    "Problem: count number of nodes in complete binary tree.\n",
    "    \n",
    "Complete Binary tree: The tree wich contains child for each nodes except for the last level. \n",
    "        Last level has to fill from left to right"
   ]
  },
  {
   "cell_type": "code",
   "execution_count": 45,
   "metadata": {},
   "outputs": [],
   "source": [
    "class Node:\n",
    "    def __init__(self, val):\n",
    "        self.right = None\n",
    "        self.left = None\n",
    "        self.data = val"
   ]
  },
  {
   "cell_type": "code",
   "execution_count": 46,
   "metadata": {},
   "outputs": [],
   "source": [
    "def get_left_height(root):\n",
    "    if(root==None):\n",
    "        return 0\n",
    "    return get_left_height(root.left)+1"
   ]
  },
  {
   "cell_type": "code",
   "execution_count": 47,
   "metadata": {},
   "outputs": [],
   "source": [
    "def get_right_height(root):\n",
    "    if(root==None):\n",
    "        return 0\n",
    "    return get_right_height(root.right)+1"
   ]
  },
  {
   "cell_type": "code",
   "execution_count": 48,
   "metadata": {},
   "outputs": [],
   "source": [
    "def count_nodes_naive(root):\n",
    "    if(root==None):\n",
    "        return 0\n",
    "    return count_nodes_naive(root.left)+count_nodes_naive(root.right)+1"
   ]
  },
  {
   "cell_type": "markdown",
   "metadata": {},
   "source": [
    "\n",
    "<img src=\"../Images/video_15_count_nodes_in_complete_BT_2.png\">"
   ]
  },
  {
   "cell_type": "code",
   "execution_count": 49,
   "metadata": {},
   "outputs": [],
   "source": [
    "def count_nodes_optimize(root):\n",
    "    lh = get_left_height(root)\n",
    "    rh = get_right_height(root)\n",
    "    if(lh==rh):\n",
    "        return pow(2,lh)-1\n",
    "    else:\n",
    "        return count_nodes_optimize(root.left) + count_nodes_optimize(root.right) + 1"
   ]
  },
  {
   "cell_type": "code",
   "execution_count": 50,
   "metadata": {},
   "outputs": [],
   "source": [
    "a = Node(10)\n",
    "a.left = Node(20)\n",
    "a.right = Node(30)\n",
    "\n",
    "a.left.left = Node(40)\n",
    "a.left.right = Node(50)\n",
    "a.right.left = Node(60)\n",
    "a.right.right = Node(70)\n",
    "\n",
    "a.left.left.left = Node(80)\n",
    "a.left.left.right = Node(90)\n",
    "\n",
    "\n",
    "# '''\n",
    "#                    10\n",
    "#                 /      \\\n",
    "#                20       30\n",
    "#               /  \\     /  \\\n",
    "#             40   50   60   70\n",
    "#             / \\\n",
    "#           80  90\n",
    "# '''"
   ]
  },
  {
   "cell_type": "code",
   "execution_count": 51,
   "metadata": {},
   "outputs": [
    {
     "data": {
      "text/plain": [
       "9"
      ]
     },
     "execution_count": 51,
     "metadata": {},
     "output_type": "execute_result"
    }
   ],
   "source": [
    "count_nodes_naive(a)"
   ]
  },
  {
   "cell_type": "code",
   "execution_count": 52,
   "metadata": {},
   "outputs": [
    {
     "data": {
      "text/plain": [
       "9"
      ]
     },
     "execution_count": 52,
     "metadata": {},
     "output_type": "execute_result"
    }
   ],
   "source": [
    "count_nodes_optimize(a)"
   ]
  }
 ],
 "metadata": {
  "kernelspec": {
   "display_name": "Python 3",
   "language": "python",
   "name": "python3"
  },
  "language_info": {
   "codemirror_mode": {
    "name": "ipython",
    "version": 3
   },
   "file_extension": ".py",
   "mimetype": "text/x-python",
   "name": "python",
   "nbconvert_exporter": "python",
   "pygments_lexer": "ipython3",
   "version": "3.6.10"
  }
 },
 "nbformat": 4,
 "nbformat_minor": 4
}
