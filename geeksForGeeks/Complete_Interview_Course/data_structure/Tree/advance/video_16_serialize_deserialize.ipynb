{
 "cells": [
  {
   "cell_type": "markdown",
   "metadata": {},
   "source": [
    "\n",
    "<img src=\"../Images/video_16_serialize_deserialize.png\">\n",
    "\n",
    "Problem: serialize or deserialize"
   ]
  },
  {
   "cell_type": "code",
   "execution_count": 2,
   "metadata": {},
   "outputs": [],
   "source": [
    "class Node:\n",
    "    def __init__(self, val):\n",
    "        self.right = None\n",
    "        self.left = None\n",
    "        self.data = val"
   ]
  },
  {
   "cell_type": "code",
   "execution_count": 10,
   "metadata": {},
   "outputs": [],
   "source": [
    "# Time O(n) Space O(n)\n",
    "def serialize(root, arr):\n",
    "    s = []\n",
    "    \n",
    "    s.append(root)\n",
    "    \n",
    "    while(len(s)>0):\n",
    "        curr = s.pop(0)\n",
    "        if(curr==None):\n",
    "            arr.append('N')\n",
    "            continue\n",
    "        arr.append(curr.data)\n",
    "        if(curr.left!=None):\n",
    "            s.append(curr.left)\n",
    "        else:\n",
    "            s.append(None)\n",
    "        if(curr.right!=None):\n",
    "            s.append(curr.right)\n",
    "        else:\n",
    "            s.append(None)\n",
    "    print(arr)"
   ]
  },
  {
   "cell_type": "code",
   "execution_count": 17,
   "metadata": {},
   "outputs": [],
   "source": [
    "# Time O(n) Space O(n)\n",
    "def deserialize(arr):\n",
    "    ix = 0\n",
    "    curr = arr[ix]\n",
    "    if(curr != 'N'):\n",
    "        root = Node(curr)\n",
    "    else:\n",
    "        return None\n",
    "    \n",
    "    q = []\n",
    "    q.append(root)\n",
    "    while(len(q)>0):\n",
    "        curr = q.pop(0)\n",
    "        ix+=1\n",
    "        l = arr[ix]\n",
    "        ix+=1\n",
    "        r = arr[ix]\n",
    "        if(l!='N'):\n",
    "            curr.left = Node(l)\n",
    "            q.append(curr.left)\n",
    "        else:\n",
    "            curr.left = None\n",
    "        if(r!='N'):\n",
    "            curr.right = Node(r)\n",
    "            q.append(curr.right)\n",
    "        else:\n",
    "            curr.right = None\n",
    "    return root"
   ]
  },
  {
   "cell_type": "code",
   "execution_count": 29,
   "metadata": {},
   "outputs": [],
   "source": [
    "# Time O(n) Space O(1)\n",
    "def serialize_pre(root, arr):\n",
    "    if(root == None):\n",
    "        arr.append('N')\n",
    "        return\n",
    "    arr.append(root.data)\n",
    "    serialize_pre(root.left, arr)\n",
    "    serialize_pre(root.right, arr)\n",
    "    return"
   ]
  },
  {
   "cell_type": "code",
   "execution_count": 65,
   "metadata": {},
   "outputs": [],
   "source": [
    "# Time O(n) Space O(1)\n",
    "def deserialize_pre(arr):\n",
    "    if(len(arr)==0):\n",
    "        return None\n",
    "    curr = arr.pop(0)\n",
    "    print(curr)\n",
    "    if(curr == 'N'):\n",
    "        return None\n",
    "    root = Node(curr)\n",
    "    root.left = deserialize_pre(arr)\n",
    "    root.right = deserialize_pre(arr)\n",
    "    return root"
   ]
  },
  {
   "cell_type": "code",
   "execution_count": 66,
   "metadata": {},
   "outputs": [],
   "source": [
    "a = Node(10)\n",
    "a.left = Node(20)\n",
    "a.right = Node(30)\n",
    "\n",
    "a.left.left = Node(40)\n",
    "a.left.right = Node(50)\n",
    "a.right.left = Node(60)\n",
    "a.right.right = Node(70)\n",
    "\n",
    "a.left.left.left = Node(80)\n",
    "a.left.left.right = Node(90)\n",
    "\n",
    "\n",
    "# '''\n",
    "#                    10\n",
    "#                 /      \\\n",
    "#                20       30\n",
    "#               /  \\     /  \\\n",
    "#             40   50   60   70\n",
    "#             / \\\n",
    "#           80  90\n",
    "# '''"
   ]
  },
  {
   "cell_type": "code",
   "execution_count": 67,
   "metadata": {},
   "outputs": [
    {
     "data": {
      "text/plain": [
       "[10,\n",
       " 20,\n",
       " 40,\n",
       " 80,\n",
       " 'N',\n",
       " 'N',\n",
       " 90,\n",
       " 'N',\n",
       " 'N',\n",
       " 50,\n",
       " 'N',\n",
       " 'N',\n",
       " 30,\n",
       " 60,\n",
       " 'N',\n",
       " 'N',\n",
       " 70,\n",
       " 'N',\n",
       " 'N']"
      ]
     },
     "execution_count": 67,
     "metadata": {},
     "output_type": "execute_result"
    }
   ],
   "source": [
    "arr=[]\n",
    "serialize_pre(a, arr)\n",
    "arr"
   ]
  },
  {
   "cell_type": "code",
   "execution_count": 68,
   "metadata": {},
   "outputs": [
    {
     "name": "stdout",
     "output_type": "stream",
     "text": [
      "10\n",
      "20\n",
      "40\n",
      "80\n",
      "N\n",
      "N\n",
      "90\n",
      "N\n",
      "N\n",
      "50\n",
      "N\n",
      "N\n",
      "30\n",
      "60\n",
      "N\n",
      "N\n",
      "70\n",
      "N\n",
      "N\n"
     ]
    },
    {
     "data": {
      "text/plain": [
       "10"
      ]
     },
     "execution_count": 68,
     "metadata": {},
     "output_type": "execute_result"
    }
   ],
   "source": [
    "root = deserialize_pre(arr)\n",
    "root.data"
   ]
  },
  {
   "cell_type": "code",
   "execution_count": 69,
   "metadata": {},
   "outputs": [],
   "source": [
    "import matplotlib.pyplot as plt\n",
    "import numpy as np\n",
    "def drawBST_(T, x0, x1, y, y_inc,ax):\n",
    "    if T is not None:\n",
    "        xm = (x0+x1)/2\n",
    "        yn = y-y_inc\n",
    "        if T.left is not None:\n",
    "            p=np.array([[xm,y], [(x0+xm)/2,yn]])\n",
    "            ax.plot(p[:,0],p[:,1],linewidth=1,color='k')\n",
    "            drawBST_(T.left,x0,xm,yn, y_inc,ax)\n",
    "        if T.right is not None:\n",
    "            p=np.array([[xm,y], [(x1+xm)/2,yn]])\n",
    "            ax.plot(p[:,0],p[:,1],linewidth=1,color='k')\n",
    "            drawBST_(T.right,xm,x1,yn, y_inc,ax)\n",
    "        ax.text(xm,y, str(T.data), size=10,ha=\"center\", va=\"center\",\n",
    "            bbox=dict(facecolor='w',boxstyle=\"circle\"))\n",
    "\n",
    "def drawBST(T): \n",
    "    #plt.close('all') \n",
    "    fig, ax = plt.subplots()\n",
    "    drawBST_(T, 0, 800, 800, 80, ax)\n",
    "    ax.set_aspect(1.0)\n",
    "    ax.axis('off') \n",
    "    plt.show()"
   ]
  },
  {
   "cell_type": "code",
   "execution_count": 70,
   "metadata": {},
   "outputs": [
    {
     "data": {
      "image/png": "[encoded data removed]",
      "text/plain": [
       "<Figure size 432x288 with 1 Axes>"
      ]
     },
     "metadata": {
      "needs_background": "light"
     },
     "output_type": "display_data"
    }
   ],
   "source": [
    "drawBST(root)"
   ]
  },
  {
   "cell_type": "code",
   "execution_count": null,
   "metadata": {},
   "outputs": [],
   "source": []
  }
 ],
 "metadata": {
  "kernelspec": {
   "display_name": "Python 3",
   "language": "python",
   "name": "python3"
  },
  "language_info": {
   "codemirror_mode": {
    "name": "ipython",
    "version": 3
   },
   "file_extension": ".py",
   "mimetype": "text/x-python",
   "name": "python",
   "nbconvert_exporter": "python",
   "pygments_lexer": "ipython3",
   "version": "3.6.10"
  }
 },
 "nbformat": 4,
 "nbformat_minor": 4
}
