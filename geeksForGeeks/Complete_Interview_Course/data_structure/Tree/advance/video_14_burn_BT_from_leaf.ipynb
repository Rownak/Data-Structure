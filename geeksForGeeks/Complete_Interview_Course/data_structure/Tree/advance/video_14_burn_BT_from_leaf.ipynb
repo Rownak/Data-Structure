{
 "cells": [
  {
   "cell_type": "markdown",
   "metadata": {},
   "source": [
    "<img src=\"../Images/video_14_burn_BT_from_leaf.png\">\n",
    "\n",
    "Problem: given a leaf node find how many steps needed to burn all the nodes "
   ]
  },
  {
   "cell_type": "code",
   "execution_count": 1,
   "metadata": {},
   "outputs": [],
   "source": [
    "class Node:\n",
    "    def __init__(self,val):\n",
    "        self.right = None\n",
    "        self.left = None\n",
    "        self.data = val"
   ]
  },
  {
   "cell_type": "code",
   "execution_count": 2,
   "metadata": {},
   "outputs": [],
   "source": [
    "def get_height(root, leaf):\n",
    "    found = False\n",
    "    if(root == None):\n",
    "        return 0, False\n",
    "\n",
    "    l_h, found = get_height(root.left, leaf)\n",
    "    r_h, found = get_height(root.right, leaf)\n",
    "    if(root.data == leaf.data):\n",
    "        found = True\n",
    "    return max(l_h, r_h)+1, found\n"
   ]
  },
  {
   "cell_type": "code",
   "execution_count": 3,
   "metadata": {},
   "outputs": [],
   "source": [
    "def get_path(root, leaf, path):\n",
    "    if(root == None):\n",
    "        return False\n",
    "    path.append(root)\n",
    "    if(root.data == leaf.data):\n",
    "        return True\n",
    "    if(get_path(root.left, leaf, path) or get_path(root.right, leaf, path)):\n",
    "        return True\n",
    "    path.pop(-1)\n",
    "    return False"
   ]
  },
  {
   "cell_type": "markdown",
   "metadata": {},
   "source": [
    "Time O(n^2)\n",
    "Space O(h)"
   ]
  },
  {
   "cell_type": "code",
   "execution_count": 4,
   "metadata": {},
   "outputs": [],
   "source": [
    "def burn_tree(root, leaf):\n",
    "    if(root==None):\n",
    "        return -1\n",
    "    path = []\n",
    "    get_path(root, leaf, path)\n",
    "    path.pop(-1)\n",
    "    leaf_pos = len(path)\n",
    "    max_len = 0\n",
    "    print(\"path:\",[item.data for item in path])\n",
    "    while(len(path)>0):\n",
    "        curr = path.pop(-1)\n",
    "        curr_pos = len(path)\n",
    "        dist = leaf_pos - curr_pos\n",
    "        r_height=0\n",
    "        l_height = 0\n",
    "        if(curr.left!=None):\n",
    "            l_height, found1 = get_height(curr.left, leaf)\n",
    "            print(\"curr: \", curr.data, \"l_height: \", l_height)\n",
    "        if(curr.right!=None):\n",
    "            r_height, found2 = get_height(curr.right, leaf)\n",
    "            print(\"curr: \", curr.data,\" r_height: \", r_height)\n",
    "        if(found1 == True):\n",
    "            max_len = max(max_len, r_height+dist)\n",
    "        else:\n",
    "            max_len = max(max_len, l_height+dist)\n",
    "    return max_len"
   ]
  },
  {
   "cell_type": "markdown",
   "metadata": {},
   "source": [
    "<img src=\"../Images/video_14_burn_BT_from_leaf_2.png\">\n",
    "\n",
    "Time O(n^2)\n",
    "\n",
    "space O(h)"
   ]
  },
  {
   "cell_type": "code",
   "execution_count": 10,
   "metadata": {},
   "outputs": [],
   "source": [
    "def burn_tree_optimize(root, leaf, dist):\n",
    "    global res\n",
    "    if(root == None):\n",
    "        return -1, 0\n",
    "    if(root.data == leaf.data):\n",
    "        return 0 , 1\n",
    "    ldist = -1\n",
    "    rdist = -1\n",
    "    dist = -1\n",
    "    ldist, lh = burn_tree_optimize(root.left, leaf, ldist)\n",
    "    rdist, rh = burn_tree_optimize(root.right, leaf, rdist)\n",
    "    if(ldist != -1):\n",
    "        dist = ldist +1\n",
    "        res = max(res, rh+dist)\n",
    "    elif(rdist !=-1):\n",
    "        dist = rdist+1\n",
    "        res = max(res, lh+dist)\n",
    "    return dist, max(lh,rh)+1"
   ]
  },
  {
   "cell_type": "code",
   "execution_count": 22,
   "metadata": {},
   "outputs": [],
   "source": [
    "a = Node(10)\n",
    "a.left = Node(20)\n",
    "a.right = Node(30)\n",
    "\n",
    "#a.left.left = Node(40)\n",
    "# a.left.right = Node(5)\n",
    "a.right.left = Node(50)\n",
    "a.right.right = Node(60)\n",
    "\n",
    "# a.left.left.left = Node(8)\n",
    "# a.left.left.right = Node(9)\n",
    "# a.left.right.left = Node(10)\n",
    "# a.left.right.right = Node(11)\n",
    "a.right.left.left = Node(70)\n",
    "#a.right.left.right = Node(13)\n",
    "a.right.right.left = Node(80)\n",
    "a.right.right.right = Node(90)\n",
    "\n",
    "# '''\n",
    "#                    10\n",
    "#                 /     \\\n",
    "#                20     30\n",
    "#               /     /   \\\n",
    "#              40   50    60  \n",
    "#                   /    /  \\\n",
    "#                  70   80  90\n",
    "\n",
    "# '''"
   ]
  },
  {
   "cell_type": "code",
   "execution_count": 23,
   "metadata": {},
   "outputs": [
    {
     "name": "stdout",
     "output_type": "stream",
     "text": [
      "path: [10, 30, 60]\n",
      "curr:  60 l_height:  1\n",
      "curr:  60  r_height:  1\n",
      "curr:  30 l_height:  2\n",
      "curr:  30  r_height:  2\n",
      "curr:  10 l_height:  1\n",
      "curr:  10  r_height:  3\n"
     ]
    },
    {
     "data": {
      "text/plain": [
       "4"
      ]
     },
     "execution_count": 23,
     "metadata": {},
     "output_type": "execute_result"
    }
   ],
   "source": [
    "burn_tree(a, a.right.right.right)"
   ]
  },
  {
   "cell_type": "code",
   "execution_count": 24,
   "metadata": {},
   "outputs": [
    {
     "name": "stdout",
     "output_type": "stream",
     "text": [
      "4\n"
     ]
    }
   ],
   "source": [
    "global res\n",
    "res = 0\n",
    "burn_tree_optimize(a, a.right.right.right, -1)\n",
    "print(res)"
   ]
  },
  {
   "cell_type": "code",
   "execution_count": null,
   "metadata": {},
   "outputs": [],
   "source": []
  }
 ],
 "metadata": {
  "kernelspec": {
   "display_name": "Python 3",
   "language": "python",
   "name": "python3"
  },
  "language_info": {
   "codemirror_mode": {
    "name": "ipython",
    "version": 3
   },
   "file_extension": ".py",
   "mimetype": "text/x-python",
   "name": "python",
   "nbconvert_exporter": "python",
   "pygments_lexer": "ipython3",
   "version": "3.6.10"
  }
 },
 "nbformat": 4,
 "nbformat_minor": 4
}
