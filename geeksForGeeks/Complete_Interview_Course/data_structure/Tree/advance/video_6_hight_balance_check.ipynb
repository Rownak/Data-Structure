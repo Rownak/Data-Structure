{
 "cells": [
  {
   "cell_type": "markdown",
   "metadata": {},
   "source": [
    "Difference between right sub tree and left sub tree <=1 , then that is balanced tree"
   ]
  },
  {
   "cell_type": "markdown",
   "metadata": {},
   "source": [
    "<img src=\"../Images/advance_5_hight_balance_1.png\">"
   ]
  },
  {
   "cell_type": "code",
   "execution_count": 2,
   "metadata": {},
   "outputs": [],
   "source": [
    "class Node:\n",
    "    def __init__(self, val):\n",
    "        self.data = val\n",
    "        self.left = None\n",
    "        self.right = None"
   ]
  },
  {
   "cell_type": "code",
   "execution_count": 3,
   "metadata": {},
   "outputs": [],
   "source": [
    "def get_height(root):\n",
    "    if(root == None):\n",
    "        return 0\n",
    "    return 1 + max(get_height(root.left),get_height(root.right))"
   ]
  },
  {
   "cell_type": "markdown",
   "metadata": {},
   "source": [
    "<img src=\"../Images/advance_5_hight_balance_2.png\">\n",
    "\n",
    "Time complexity O(n^2)"
   ]
  },
  {
   "cell_type": "code",
   "execution_count": 4,
   "metadata": {},
   "outputs": [],
   "source": [
    "# O(n^2)\n",
    "def isBalance(root):\n",
    "    if(root == None):\n",
    "        return True\n",
    "    l_height = get_height(root.left)\n",
    "    r_height = get_height(root.right)\n",
    "\n",
    "    return (abs(l_height-r_height)<=1 and isBalance(root.left) and isBalance(root.right))"
   ]
  },
  {
   "cell_type": "markdown",
   "metadata": {},
   "source": [
    "<img src=\"../Images/advance_5_hight_balance_4.png\">\n",
    "\n",
    "Time complexity O(n^2)"
   ]
  },
  {
   "cell_type": "code",
   "execution_count": 11,
   "metadata": {},
   "outputs": [],
   "source": [
    "# O(n^2)\n",
    "def isBalance_optimized(root):\n",
    "    if(root == None):\n",
    "        return 0\n",
    "    l_height = isBalance_optimized(root.left)\n",
    "    if(l_height<0):\n",
    "        return -1\n",
    "    r_height = isBalance_optimized(root.right)\n",
    "    if(r_height<0):\n",
    "        return -1\n",
    "    if(abs(l_height-r_height)>1):\n",
    "        return -1\n",
    "    else:\n",
    "        return max(l_height,r_height)+1"
   ]
  },
  {
   "cell_type": "code",
   "execution_count": 18,
   "metadata": {},
   "outputs": [
    {
     "data": {
      "text/plain": [
       "'\\n                   7\\n                /                    5       3\\n             /   \\\\    /             6      2  2   1\\n \\n'"
      ]
     },
     "execution_count": 18,
     "metadata": {},
     "output_type": "execute_result"
    }
   ],
   "source": [
    "a = Node(7)\n",
    "a.left = Node(5)\n",
    "a.right = Node(3)\n",
    "\n",
    "a.left.left = Node(6)\n",
    "a.left.right = Node(2)\n",
    "a.right.left = Node(2)\n",
    "a.right.right = Node(1)\n",
    "\n",
    "a.left.left.left = Node(11)\n",
    "a.left.left.right = Node(11)\n",
    "#a.left.right.left = Node(6)\n",
    "#a.left.right.right = Node(13)\n",
    "# a.right.left.left = Node(11)\n",
    "# a.right.left.right = Node(11)\n",
    "# a.right.right.left = Node(6)\n",
    "# a.right.right.right = Node(6)\n",
    "\n",
    "#a.left.left.left.left = Node(6)\n",
    "#a.left.left.left.right = Node(12)\n",
    "\n",
    "'''\n",
    "                   7\n",
    "                /     \\\n",
    "               5       3\n",
    "             /   \\    / \\\n",
    "            6      2  2   1\n",
    " \n",
    "'''"
   ]
  },
  {
   "cell_type": "code",
   "execution_count": 19,
   "metadata": {},
   "outputs": [
    {
     "name": "stdout",
     "output_type": "stream",
     "text": [
      "4\n"
     ]
    }
   ],
   "source": [
    "print(isBalance_optimized(a))"
   ]
  },
  {
   "cell_type": "raw",
   "metadata": {},
   "source": []
  },
  {
   "cell_type": "code",
   "execution_count": null,
   "metadata": {},
   "outputs": [],
   "source": []
  }
 ],
 "metadata": {
  "kernelspec": {
   "display_name": "Python 3",
   "language": "python",
   "name": "python3"
  },
  "language_info": {
   "codemirror_mode": {
    "name": "ipython",
    "version": 3
   },
   "file_extension": ".py",
   "mimetype": "text/x-python",
   "name": "python",
   "nbconvert_exporter": "python",
   "pygments_lexer": "ipython3",
   "version": "3.6.10"
  }
 },
 "nbformat": 4,
 "nbformat_minor": 4
}
