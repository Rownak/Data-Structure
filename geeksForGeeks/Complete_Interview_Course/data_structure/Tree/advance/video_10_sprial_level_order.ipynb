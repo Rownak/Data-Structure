{
 "cells": [
  {
   "cell_type": "markdown",
   "metadata": {},
   "source": [
    "<img src=\"../Images/video_10_spirall_level_order.png\">\n",
    "\n",
    "Problem: traverse a tree spiral level order"
   ]
  },
  {
   "cell_type": "code",
   "execution_count": 4,
   "metadata": {},
   "outputs": [],
   "source": [
    "class Node:\n",
    "    def __init__(self, val):\n",
    "        self.data = val\n",
    "        self.right = None\n",
    "        self.left = None"
   ]
  },
  {
   "cell_type": "markdown",
   "metadata": {},
   "source": [
    "Time Complexity O(n^2) as we are reversing the level order traversal at every other iteration\n",
    "Space O(n) storing all the nodes"
   ]
  },
  {
   "cell_type": "code",
   "execution_count": 26,
   "metadata": {},
   "outputs": [],
   "source": [
    "def spiral_traverse(root):\n",
    "    if(root == None):\n",
    "        return None\n",
    "    \n",
    "    q= []\n",
    "    q.append(root)\n",
    "    spiral_list = []\n",
    "    reverse=False\n",
    "    while(len(q)>0):\n",
    "        \n",
    "        q_size = len(q)\n",
    "        level_list = []\n",
    "        for i in range(q_size):\n",
    "            curr = q.pop(0)\n",
    "            level_list.append(curr.data)\n",
    "            if(curr.left != None):\n",
    "                q.append(curr.left)\n",
    "            if(curr.right != None):\n",
    "                q.append(curr.right)\n",
    "        \n",
    "        if(len(level_list)>0):            \n",
    "            if(reverse):\n",
    "                level_list.reverse()\n",
    "                print(\"level: \", level_list)\n",
    "                spiral_list.extend(level_list)\n",
    "                reverse = False\n",
    "            else:\n",
    "                print(\"level: \", level_list)\n",
    "                spiral_list.extend(level_list)\n",
    "                reverse = True\n",
    "    return spiral_list"
   ]
  },
  {
   "cell_type": "code",
   "execution_count": 37,
   "metadata": {},
   "outputs": [],
   "source": [
    "a = Node(1)\n",
    "a.left = Node(2)\n",
    "a.right = Node(3)\n",
    "\n",
    "a.left.left = Node(4)\n",
    "a.left.right = Node(5)\n",
    "#a.right.left = Node(2)\n",
    "a.right.right = Node(6)\n",
    "\n",
    "a.left.left.left = Node(7)\n",
    "a.left.left.right = Node(8)\n",
    "a.left.right.left = Node(9)\n",
    "a.left.right.right = Node(10)\n",
    "#a.right.left.left = Node(11)\n",
    "#a.right.left.right = Node(11)\n",
    "#a.right.right.left = Node(6)\n",
    "a.right.right.right = Node(11)\n",
    "\n",
    "a.left.left.left.left = Node(12)\n",
    "a.left.left.left.right = Node(13)\n",
    "\n",
    "# '''\n",
    "#                    1\n",
    "#                 /     \\\n",
    "#                2       3\n",
    "#              /   \\      \\\n",
    "#             4      5      6\n",
    "#            / \\    / \\      \\\n",
    "#           7   8  9  10      11\n",
    "#          / \\\n",
    "#        12   13\n",
    "# '''"
   ]
  },
  {
   "cell_type": "code",
   "execution_count": 38,
   "metadata": {},
   "outputs": [
    {
     "name": "stdout",
     "output_type": "stream",
     "text": [
      "level:  [1]\n",
      "level:  [3, 2]\n",
      "level:  [4, 5, 6]\n",
      "level:  [11, 10, 9, 8, 7]\n",
      "level:  [12, 13]\n"
     ]
    }
   ],
   "source": [
    "spiral= spiral_traverse(a)"
   ]
  },
  {
   "cell_type": "code",
   "execution_count": 39,
   "metadata": {},
   "outputs": [
    {
     "data": {
      "text/plain": [
       "[1, 3, 2, 4, 5, 6, 11, 10, 9, 8, 7, 12, 13]"
      ]
     },
     "execution_count": 39,
     "metadata": {},
     "output_type": "execute_result"
    }
   ],
   "source": [
    "spiral"
   ]
  },
  {
   "cell_type": "markdown",
   "metadata": {},
   "source": [
    "\n",
    "<img src=\"../Images/video_10_spirall_level_order_2.png\">\n",
    "\n",
    "Time Complexity: O(n) upper bound O(4n)\n",
    "Space : O(n)"
   ]
  },
  {
   "cell_type": "code",
   "execution_count": 44,
   "metadata": {},
   "outputs": [],
   "source": [
    "def spiral_traverse_sol(root):\n",
    "    if(root == None):\n",
    "        return None\n",
    "    q= []\n",
    "    stack=[]\n",
    "    q.append(root)\n",
    "    reverse=False\n",
    "    while(len(q)>0):\n",
    "        q_size = len(q)\n",
    "        for i in range(q_size):\n",
    "            curr = q.pop(0)\n",
    "            if(reverse):\n",
    "                stack.append(curr)\n",
    "            else:\n",
    "                print(curr.data, end = \" \")\n",
    "            if(curr.left != None):\n",
    "                q.append(curr.left)\n",
    "            if(curr.right != None):\n",
    "                q.append(curr.right)\n",
    "        \n",
    "        if(reverse):\n",
    "            while(len(stack)>0):\n",
    "                print(stack.pop().data, end=\" \")\n",
    "        print(\"\\n\")\n",
    "        reverse = not reverse"
   ]
  },
  {
   "cell_type": "code",
   "execution_count": 45,
   "metadata": {},
   "outputs": [
    {
     "name": "stdout",
     "output_type": "stream",
     "text": [
      "1 \n",
      "\n",
      "3 2 \n",
      "\n",
      "4 5 6 \n",
      "\n",
      "11 10 9 8 7 \n",
      "\n",
      "12 13 \n",
      "\n"
     ]
    }
   ],
   "source": [
    "spiral= spiral_traverse_sol(a)\n",
    "spiral"
   ]
  },
  {
   "cell_type": "markdown",
   "metadata": {},
   "source": [
    "<img src=\"../Images/video_10_spirall_level_order_3.png\">\n",
    "\n",
    "Time Complexity: O(n) upper bound O(2n)\n",
    "Space : O(n)"
   ]
  },
  {
   "cell_type": "code",
   "execution_count": 48,
   "metadata": {},
   "outputs": [],
   "source": [
    "def spiral_traverse_sol_2(root):\n",
    "    if(root == None):\n",
    "        return None\n",
    "    stack1= []\n",
    "    stack2=[]\n",
    "    stack1.append(root)\n",
    "    reverse=False\n",
    "    while(len(stack1)>0 or len(stack2)>0):\n",
    "        if(reverse):\n",
    "            s_size = len(stack2)\n",
    "        else:\n",
    "            s_size = len(stack1)\n",
    "        for i in range(s_size):\n",
    "            if(reverse):\n",
    "                curr = stack2.pop()\n",
    "                if(curr.right != None):\n",
    "                    stack1.append(curr.right)\n",
    "                if(curr.left != None):\n",
    "                    stack1.append(curr.left)\n",
    "            else:\n",
    "                curr = stack1.pop()\n",
    "                if(curr.left != None):\n",
    "                    stack2.append(curr.left)\n",
    "                if(curr.right != None):\n",
    "                    stack2.append(curr.right)\n",
    "                \n",
    "            print(curr.data, end = \" \")\n",
    "        reverse = not reverse"
   ]
  },
  {
   "cell_type": "code",
   "execution_count": 49,
   "metadata": {},
   "outputs": [
    {
     "name": "stdout",
     "output_type": "stream",
     "text": [
      "1 3 2 4 5 6 11 10 9 8 7 12 13 "
     ]
    }
   ],
   "source": [
    "spiral= spiral_traverse_sol_2(a)"
   ]
  },
  {
   "cell_type": "code",
   "execution_count": null,
   "metadata": {},
   "outputs": [],
   "source": []
  }
 ],
 "metadata": {
  "kernelspec": {
   "display_name": "Python 3",
   "language": "python",
   "name": "python3"
  },
  "language_info": {
   "codemirror_mode": {
    "name": "ipython",
    "version": 3
   },
   "file_extension": ".py",
   "mimetype": "text/x-python",
   "name": "python",
   "nbconvert_exporter": "python",
   "pygments_lexer": "ipython3",
   "version": "3.6.10"
  }
 },
 "nbformat": 4,
 "nbformat_minor": 4
}
