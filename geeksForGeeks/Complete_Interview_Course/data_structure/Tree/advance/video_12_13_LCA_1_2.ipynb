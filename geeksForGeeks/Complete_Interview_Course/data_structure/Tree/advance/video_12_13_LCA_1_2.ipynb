{
 "cells": [
  {
   "cell_type": "markdown",
   "metadata": {},
   "source": [
    "<img src=\"../Images/video_12_lca.png\">\n",
    "Problem: Find out the Lowest common ancestor of two nodes in a tree\n",
    "\n",
    "every parant and parant of parant... are the ancestor of a node\n",
    "\n",
    "LCA is usefull to find distance between two nodes"
   ]
  },
  {
   "cell_type": "code",
   "execution_count": 1,
   "metadata": {},
   "outputs": [],
   "source": [
    "class Node:\n",
    "    def __init__(self,val):\n",
    "        self.right = None\n",
    "        self.left = None\n",
    "        self.data = val"
   ]
  },
  {
   "cell_type": "markdown",
   "metadata": {},
   "source": [
    "<img src=\"../Images/video_12_lca_part1.png\">\n",
    "Time Theta(n)\n",
    "Space Theta(n)"
   ]
  },
  {
   "cell_type": "code",
   "execution_count": 2,
   "metadata": {},
   "outputs": [],
   "source": [
    "def find_path(root, path, val):\n",
    "    \n",
    "    if(root == None):\n",
    "        return False\n",
    "    path.append(root)\n",
    "    if(root.data == val):\n",
    "        return True\n",
    "    if(find_path(root.left, path, val) or find_path(root.right, path, val)):\n",
    "        return True\n",
    "    \n",
    "    path.pop()\n",
    "    \n",
    "    return False"
   ]
  },
  {
   "cell_type": "code",
   "execution_count": 28,
   "metadata": {},
   "outputs": [],
   "source": [
    "def get_lca(root, n1, n2):\n",
    "    path1 = []\n",
    "   \n",
    "    path2 = []\n",
    "    if(find_path(root, path2, n2.data) == False or  find_path(root, path1, n1.data) == False):\n",
    "        return None\n",
    "    print(\"path1:\", [val.data for val in path1])\n",
    "    print(\"path2:\", [val.data for val in path2])\n",
    "    i=1\n",
    "    while(i< len(path1) and i< len(path2)):\n",
    "        if(path1[i].data != path2[i].data):\n",
    "            return path1[i-1]\n",
    "        i+=1\n",
    "    return path1[i-1]"
   ]
  },
  {
   "cell_type": "code",
   "execution_count": 29,
   "metadata": {},
   "outputs": [],
   "source": [
    "a = Node(10)\n",
    "a.left = Node(20)\n",
    "a.right = Node(30)\n",
    "\n",
    "# a.left.left = Node(4)\n",
    "# a.left.right = Node(5)\n",
    "a.right.left = Node(40)\n",
    "a.right.right = Node(50)\n",
    "\n",
    "# a.left.left.left = Node(8)\n",
    "# a.left.left.right = Node(9)\n",
    "# a.left.right.left = Node(10)\n",
    "# a.left.right.right = Node(11)\n",
    "a.right.left.left = Node(60)\n",
    "#a.right.left.right = Node(13)\n",
    "a.right.right.left = Node(70)\n",
    "a.right.right.right = Node(80)\n",
    "\n",
    "\n",
    "# '''\n",
    "#                    10\n",
    "#                 /     \\\n",
    "#                20     30\n",
    "#                      /  \\\n",
    "#                    40   50  \n",
    "#                   /    /  \\\n",
    "#                  60   70  80\n",
    "\n",
    "# '''"
   ]
  },
  {
   "cell_type": "code",
   "execution_count": 30,
   "metadata": {},
   "outputs": [
    {
     "name": "stdout",
     "output_type": "stream",
     "text": [
      "path1: [10, 30]\n",
      "path2: [10, 30, 50, 80]\n"
     ]
    },
    {
     "data": {
      "text/plain": [
       "30"
      ]
     },
     "execution_count": 30,
     "metadata": {},
     "output_type": "execute_result"
    }
   ],
   "source": [
    "res1 = get_lca(a, a.right, a.right.right.right)\n",
    "res1.data"
   ]
  },
  {
   "cell_type": "code",
   "execution_count": 31,
   "metadata": {},
   "outputs": [],
   "source": [
    "def get_lca_optimize(root, prev,n1, n2):\n",
    "    global lca\n",
    "    if(root == None):\n",
    "        return None\n",
    "    if(lca != None):\n",
    "        return lca\n",
    "    currr_found = None\n",
    "    if(root.data == n1.data):\n",
    "        currr_found = n1\n",
    "    elif(root.data == n2.data):\n",
    "        currr_found = n2\n",
    "    left_found = get_lca_optimize(root.left, root, n1, n2)\n",
    "    right_found = get_lca_optimize(root.right, root, n1, n2)\n",
    "    if(currr_found == None):\n",
    "        if(left_found == None and right_found == None):\n",
    "            return None\n",
    "        if(left_found != None and right_found != None):\n",
    "            print(\"found as left right:\", root.data)\n",
    "            lca = root\n",
    "            return lca\n",
    "        elif(left_found != None):\n",
    "            return left_found\n",
    "        elif(right_found != None):\n",
    "            return right_found\n",
    "    elif(currr_found != None and (left_found != None or right_found != None)):\n",
    "        print(\"found as child:\", prev.data)\n",
    "        lca = prev\n",
    "        return lca\n",
    "    return currr_found"
   ]
  },
  {
   "cell_type": "code",
   "execution_count": 33,
   "metadata": {},
   "outputs": [
    {
     "name": "stdout",
     "output_type": "stream",
     "text": [
      "found as child: 10\n"
     ]
    },
    {
     "data": {
      "text/plain": [
       "10"
      ]
     },
     "execution_count": 33,
     "metadata": {},
     "output_type": "execute_result"
    }
   ],
   "source": [
    "global lca\n",
    "lca = None\n",
    "res2 = get_lca_optimize(a, None, a.right, a.right.right.right)\n",
    "res2.data"
   ]
  },
  {
   "cell_type": "markdown",
   "metadata": {},
   "source": [
    "<img src=\"../Images/video_12_lca_part2.png\">\n",
    "Time Theta(n)\n",
    "Space Theta(n)"
   ]
  },
  {
   "cell_type": "code",
   "execution_count": 1,
   "metadata": {},
   "outputs": [],
   "source": [
    "def get_lca_optimize2(root, n1, n2):\n",
    "    if(root == None):\n",
    "        return None\n",
    "    if(root.data == n1.data or root.data == n2.data):\n",
    "        return root\n",
    "    lca1 = get_lca_optimize2(root.left, n1, n2)\n",
    "    lca2 = get_lca_optimize2(root.right, n1, n2)\n",
    "    \n",
    "    if(lca1!=None and lca2!=None):\n",
    "        return root\n",
    "    if(lca1!= None):\n",
    "        return lca1\n",
    "    elif(lca2!=None):\n",
    "        return lca2\n",
    "    else:\n",
    "        return None"
   ]
  },
  {
   "cell_type": "code",
   "execution_count": 42,
   "metadata": {},
   "outputs": [
    {
     "data": {
      "text/plain": [
       "30"
      ]
     },
     "execution_count": 42,
     "metadata": {},
     "output_type": "execute_result"
    }
   ],
   "source": [
    "# '''\n",
    "#                    10\n",
    "#                 /     \\\n",
    "#                20     30\n",
    "#                      /  \\\n",
    "#                    40   50  \n",
    "#                   /    /  \\\n",
    "#                  60   70  80\n",
    "\n",
    "# '''\n",
    "res3 = get_lca_optimize2(a, a.right, a.right.right)\n",
    "res3.data"
   ]
  },
  {
   "cell_type": "code",
   "execution_count": null,
   "metadata": {},
   "outputs": [],
   "source": []
  }
 ],
 "metadata": {
  "kernelspec": {
   "display_name": "Python 3",
   "language": "python",
   "name": "python3"
  },
  "language_info": {
   "codemirror_mode": {
    "name": "ipython",
    "version": 3
   },
   "file_extension": ".py",
   "mimetype": "text/x-python",
   "name": "python",
   "nbconvert_exporter": "python",
   "pygments_lexer": "ipython3",
   "version": "3.6.10"
  }
 },
 "nbformat": 4,
 "nbformat_minor": 4
}
