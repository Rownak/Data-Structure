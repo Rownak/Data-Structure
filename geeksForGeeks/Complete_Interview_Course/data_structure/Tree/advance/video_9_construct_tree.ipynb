{
 "cells": [
  {
   "cell_type": "markdown",
   "metadata": {},
   "source": [
    "<img src=\"../Images/video_9_construct_tree.png\">\n",
    "\n",
    "Problem: construct binary tree from inorder and preorder.\n",
    "\n",
    "Note that, you must need inorder and another order to construct a tree"
   ]
  },
  {
   "cell_type": "code",
   "execution_count": 94,
   "metadata": {},
   "outputs": [],
   "source": [
    "import matplotlib.pyplot as plt\n",
    "import numpy as np\n",
    "def drawBST_(T, x0, x1, y, y_inc,ax):\n",
    "    if T is not None:\n",
    "        xm = (x0+x1)/2\n",
    "        yn = y-y_inc\n",
    "        if T.left is not None:\n",
    "            p=np.array([[xm,y], [(x0+xm)/2,yn]])\n",
    "            ax.plot(p[:,0],p[:,1],linewidth=1,color='k')\n",
    "            drawBST_(T.left,x0,xm,yn, y_inc,ax)\n",
    "        if T.right is not None:\n",
    "            p=np.array([[xm,y], [(x1+xm)/2,yn]])\n",
    "            ax.plot(p[:,0],p[:,1],linewidth=1,color='k')\n",
    "            drawBST_(T.right,xm,x1,yn, y_inc,ax)\n",
    "        ax.text(xm,y, str(T.data), size=10,ha=\"center\", va=\"center\",\n",
    "            bbox=dict(facecolor='w',boxstyle=\"circle\"))\n",
    "\n",
    "def drawBST(T): \n",
    "    #plt.close('all') \n",
    "    fig, ax = plt.subplots()\n",
    "    drawBST_(T, 0, 800, 800, 80, ax)\n",
    "    ax.set_aspect(1.0)\n",
    "    ax.axis('off') \n",
    "    plt.show()"
   ]
  },
  {
   "cell_type": "code",
   "execution_count": 18,
   "metadata": {},
   "outputs": [],
   "source": [
    "class Node:\n",
    "    def __init__(self, val):\n",
    "        self.left = None\n",
    "        self.right = None\n",
    "        self.data = val"
   ]
  },
  {
   "cell_type": "code",
   "execution_count": null,
   "metadata": {},
   "outputs": [],
   "source": [
    "def inorder_travers(root):\n",
    "    if(root==None):\n",
    "        return\n",
    "    inorder_travers(root.left)\n",
    "    print(root.data)\n",
    "    inorder_travers(root.right)"
   ]
  },
  {
   "cell_type": "code",
   "execution_count": 80,
   "metadata": {},
   "outputs": [],
   "source": [
    "def divide(preorder, inorder):\n",
    "    root_data = preorder[0]\n",
    "    if(root_data not in inorder):\n",
    "        return None, None, None\n",
    "    preorder.pop(0)\n",
    "    root = Node(root_data)\n",
    "    root_idx = inorder.index(root_data)\n",
    "    left_arr = inorder[:root_idx]\n",
    "    right_arr = inorder[root_idx+1:]\n",
    "    return root, left_arr, right_arr"
   ]
  },
  {
   "cell_type": "code",
   "execution_count": 81,
   "metadata": {},
   "outputs": [],
   "source": [
    "def recursive_build_tree(root, left_arr, right_arr, preorder, inorder):\n",
    "    print(\"root: \",root.data)\n",
    "    print(\"left: \",left_arr,\"right: \", right_arr)\n",
    "    \n",
    "    if(len(left_arr)==0 and len(right_arr)==0):\n",
    "        return root\n",
    "    \n",
    "    left_root, left_left_arr, left_right_arr = divide(preorder, left_arr) \n",
    "    if(left_root==None):\n",
    "        root.left=None\n",
    "    else:\n",
    "        root.left = recursive_build_tree(left_root, left_left_arr, left_right_arr, preorder, inorder)\n",
    "    \n",
    "    right_root, right_left_arr, right_right_arr = divide(preorder, right_arr) \n",
    "    if(right_root==None):\n",
    "        root.right=None\n",
    "    else:\n",
    "        root.right = recursive_build_tree(right_root, right_left_arr, right_right_arr, preorder, inorder)\n",
    "    return root"
   ]
  },
  {
   "cell_type": "code",
   "execution_count": 82,
   "metadata": {},
   "outputs": [],
   "source": [
    "def construct_tree(preorder, inorder):\n",
    "    if(len(preorder)==0 or len(inorder)==0):\n",
    "        return None\n",
    "    root, left_arr, right_arr = divide(preorder, inorder)\n",
    "    root = recursive_build_tree(root, left_arr, right_arr, preorder, inorder)\n",
    "    return root"
   ]
  },
  {
   "cell_type": "code",
   "execution_count": 88,
   "metadata": {},
   "outputs": [
    {
     "name": "stdout",
     "output_type": "stream",
     "text": [
      "root:  10\n",
      "left:  [40, 20, 50] right:  [30, 80, 70, 90]\n",
      "root:  20\n",
      "left:  [40] right:  [50]\n",
      "root:  40\n",
      "left:  [] right:  []\n",
      "root:  50\n",
      "left:  [] right:  []\n",
      "root:  30\n",
      "left:  [] right:  [80, 70, 90]\n",
      "root:  70\n",
      "left:  [80] right:  [90]\n",
      "root:  80\n",
      "left:  [] right:  []\n",
      "root:  90\n",
      "left:  [] right:  []\n"
     ]
    }
   ],
   "source": [
    "inorder =[40,20,50, 10, 30, 80,70,90] \n",
    "preorder = [10,20,40,50, 30, 70,80,90]\n",
    "    \n",
    "root=construct_tree(preorder, inorder)"
   ]
  },
  {
   "cell_type": "code",
   "execution_count": 95,
   "metadata": {},
   "outputs": [
    {
     "data": {
      "image/png": "[encoded data removed]",
      "text/plain": [
       "<Figure size 432x288 with 1 Axes>"
      ]
     },
     "metadata": {
      "needs_background": "light"
     },
     "output_type": "display_data"
    }
   ],
   "source": [
    "drawBST(root)"
   ]
  },
  {
   "cell_type": "markdown",
   "metadata": {},
   "source": [
    "<img src=\"../Images/video_9_construct_tree_2.png\">\n",
    "\n",
    "Time Complexity: O(n^2)\n",
    "Space : O(1)\n",
    "We can achive O(n) time using hashTable. That case space will become O(n)"
   ]
  },
  {
   "cell_type": "code",
   "execution_count": 117,
   "metadata": {},
   "outputs": [],
   "source": [
    "global pre_ix\n",
    "pre_ix=0\n",
    "def recursive_build_tree_sol(inorder, preorder, l_start_ix, r_end_ix):\n",
    "    global pre_ix\n",
    "    \n",
    "    if(l_start_ix>r_end_ix):\n",
    "        return None\n",
    "    root = Node(preorder[pre_ix])\n",
    "    root_idx = inorder.index(preorder[pre_ix])\n",
    "#     print(\"l_start: \",l_start_ix)\n",
    "#     print(\"r_end: \",r_end_ix)\n",
    "#     print(\"root_ix: \",root_idx )\n",
    "#     print(\"root: \", root.data)\n",
    "    pre_ix+=1\n",
    "    root.left = recursive_build_tree_sol(inorder, preorder, l_start_ix, root_idx-1)\n",
    "    root.right = recursive_build_tree_sol(inorder, preorder, root_idx+1, r_end_ix)\n",
    "\n",
    "    return root"
   ]
  },
  {
   "cell_type": "code",
   "execution_count": 118,
   "metadata": {},
   "outputs": [],
   "source": [
    "inorder =[40,20,50, 10, 30, 80,70,90] \n",
    "preorder = [10,20,40,50, 30, 70,80,90]\n",
    "root=recursive_build_tree_sol(inorder, preorder,0,len(preorder)-1)"
   ]
  },
  {
   "cell_type": "code",
   "execution_count": 119,
   "metadata": {},
   "outputs": [
    {
     "data": {
      "image/png": "[encoded data removed]",
      "text/plain": [
       "<Figure size 432x288 with 1 Axes>"
      ]
     },
     "metadata": {
      "needs_background": "light"
     },
     "output_type": "display_data"
    }
   ],
   "source": [
    "drawBST(root)"
   ]
  },
  {
   "cell_type": "markdown",
   "metadata": {},
   "source": [
    "# Using dictionary\n",
    "\n",
    "Time Complexity: O(n)\n",
    "Space : O(n)"
   ]
  },
  {
   "cell_type": "code",
   "execution_count": 127,
   "metadata": {},
   "outputs": [],
   "source": [
    "global pre_ix\n",
    "pre_ix=0\n",
    "def recursive_build_tree_sol_2(inorder_dict, preorder, l_start_ix, r_end_ix):\n",
    "    global pre_ix\n",
    "    \n",
    "    if(l_start_ix>r_end_ix):\n",
    "        return None\n",
    "    root = Node(preorder[pre_ix])\n",
    "    root_idx = inorder_dict.get(preorder[pre_ix])\n",
    "#     print(\"l_start: \",l_start_ix)\n",
    "#     print(\"r_end: \",r_end_ix)\n",
    "#     print(\"root_ix: \",root_idx )\n",
    "#     print(\"root: \", root.data)\n",
    "    pre_ix+=1\n",
    "    root.left = recursive_build_tree_sol_2(inorder_dict, preorder, l_start_ix, root_idx-1)\n",
    "    root.right = recursive_build_tree_sol_2(inorder_dict, preorder, root_idx+1, r_end_ix)\n",
    "    return root"
   ]
  },
  {
   "cell_type": "code",
   "execution_count": 128,
   "metadata": {},
   "outputs": [
    {
     "name": "stdout",
     "output_type": "stream",
     "text": [
      "{40: 0, 20: 1, 50: 2, 10: 3, 30: 4, 80: 5, 70: 6, 90: 7}\n"
     ]
    }
   ],
   "source": [
    "inorder =[40,20,50, 10, 30, 80,70,90] \n",
    "preorder = [10,20,40,50, 30, 70,80,90]\n",
    "inorder_dict = {}\n",
    "ix=0\n",
    "for item in inorder:\n",
    "    inorder_dict[item]=ix\n",
    "    ix+=1\n",
    "print(inorder_dict)\n",
    "root=recursive_build_tree_sol_2(inorder_dict, preorder,0,len(preorder)-1)"
   ]
  },
  {
   "cell_type": "code",
   "execution_count": 129,
   "metadata": {},
   "outputs": [
    {
     "data": {
      "image/png": "[encoded data removed]",
      "text/plain": [
       "<Figure size 432x288 with 1 Axes>"
      ]
     },
     "metadata": {
      "needs_background": "light"
     },
     "output_type": "display_data"
    }
   ],
   "source": [
    "drawBST(root)"
   ]
  },
  {
   "cell_type": "code",
   "execution_count": 130,
   "metadata": {},
   "outputs": [
    {
     "data": {
      "text/plain": [
       "2"
      ]
     },
     "execution_count": 130,
     "metadata": {},
     "output_type": "execute_result"
    }
   ],
   "source": [
    "x = [10,20,30,40,50]\n",
    "x.index(30)"
   ]
  },
  {
   "cell_type": "code",
   "execution_count": null,
   "metadata": {},
   "outputs": [],
   "source": []
  }
 ],
 "metadata": {
  "kernelspec": {
   "display_name": "Python 3",
   "language": "python",
   "name": "python3"
  },
  "language_info": {
   "codemirror_mode": {
    "name": "ipython",
    "version": 3
   },
   "file_extension": ".py",
   "mimetype": "text/x-python",
   "name": "python",
   "nbconvert_exporter": "python",
   "pygments_lexer": "ipython3",
   "version": "3.6.10"
  }
 },
 "nbformat": 4,
 "nbformat_minor": 4
}
