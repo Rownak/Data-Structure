{
 "cells": [
  {
   "cell_type": "markdown",
   "metadata": {},
   "source": [
    "<img src=\"../Images/left_view_of_binaryTree.png\">\n",
    "\n",
    "Problem: print left node at each level"
   ]
  },
  {
   "cell_type": "code",
   "execution_count": 2,
   "metadata": {},
   "outputs": [],
   "source": [
    "class Node:\n",
    "    def __init__(self, val):\n",
    "        self.data = val\n",
    "        self.left = None\n",
    "        self.right = None"
   ]
  },
  {
   "cell_type": "markdown",
   "metadata": {},
   "source": [
    "<../img src=\"Images/left_view_of_binaryTree_iterative.png\">\n",
    "\n",
    "Its a Queue based level order traversal of tree with some condition to print only left node\n",
    "\n",
    "Time complexity O(n) also it is $\\theta$(n)\n",
    "\n",
    "Aux Space $\\theta$(W) W = Width of each level"
   ]
  },
  {
   "cell_type": "code",
   "execution_count": 14,
   "metadata": {},
   "outputs": [],
   "source": [
    "def left_view_q(root):\n",
    "    if(root==None):\n",
    "        return\n",
    "    q = []\n",
    "    curr = root\n",
    "    q.append(curr)\n",
    "    q.append(None)\n",
    "    print(curr.data, end=' ')\n",
    "    while(len(q)>1):\n",
    "        top = q.pop(0)\n",
    "        if(top==None):\n",
    "            q.append(None)\n",
    "            print(q[0].data, end=' ')\n",
    "            continue\n",
    "        if(top.left!=None):\n",
    "            q.append(top.left)\n",
    "        if(top.right!=None):\n",
    "            q.append(top.right)\n",
    "    return "
   ]
  },
  {
   "cell_type": "markdown",
   "metadata": {},
   "source": [
    "<img src=\"../Images/left_view_of_binaryTree_recursive.png\">\n",
    "Its a preorder traversal of tree with some condition to print\n",
    "\n",
    "Time complexity O(n) also it is $\\theta$(n)\n",
    "\n",
    "Aux Space $\\theta$(h) h = height"
   ]
  },
  {
   "cell_type": "code",
   "execution_count": 27,
   "metadata": {},
   "outputs": [],
   "source": [
    "def left_view_recursive(root):\n",
    "    left_most_node_recursive(root,1)\n",
    "def left_most_node_recursive(root,level):\n",
    "    global maxLevel\n",
    "    if(root==None):\n",
    "        return\n",
    "    if(maxLevel<level):\n",
    "        print(root.data, end=' ')\n",
    "        maxLevel = level\n",
    "    left_most_node_recursive(root.left,level+1)\n",
    "    left_most_node_recursive(root.right,level+1)\n",
    "    \n",
    "    return"
   ]
  },
  {
   "cell_type": "code",
   "execution_count": 22,
   "metadata": {},
   "outputs": [],
   "source": [
    "a = Node(10)\n",
    "a.left = Node(50)\n",
    "a.right = Node(60)\n",
    "\n",
    "# a.left.left = Node(6)\n",
    "# a.left.right = Node(2)\n",
    "a.right.left = Node(70)\n",
    "a.right.right = Node(90)\n",
    "\n",
    "# a.left.left.left = Node(11)\n",
    "# a.left.left.right = Node(11)\n",
    "# a.left.right.left = Node(6)\n",
    "# a.left.right.right = Node(13)\n",
    "# #a.right.left.left = Node(11)\n",
    "a.right.left.right = Node(8)\n",
    "# #a.right.right.left = Node(6)\n",
    "# a.right.right.right = Node(6)\n",
    "\n",
    "# a.left.left.left.left = Node(6)\n",
    "# a.left.left.left.right = Node(12)\n",
    "\n",
    "\n",
    "#                    10\n",
    "#                 /     \\\n",
    "#                50     60\n",
    "#                       / \\\n",
    "#                      70 90\n",
    "#                       \\  \n",
    "#                       8  \n",
    "\n"
   ]
  },
  {
   "cell_type": "code",
   "execution_count": 29,
   "metadata": {},
   "outputs": [
    {
     "name": "stdout",
     "output_type": "stream",
     "text": [
      "10 50 70 8 "
     ]
    }
   ],
   "source": [
    "left_view_q(a)"
   ]
  },
  {
   "cell_type": "code",
   "execution_count": 30,
   "metadata": {},
   "outputs": [
    {
     "name": "stdout",
     "output_type": "stream",
     "text": [
      "10 50 70 8 "
     ]
    }
   ],
   "source": [
    "maxLevel = 0\n",
    "left_view_recursive(a)"
   ]
  },
  {
   "cell_type": "code",
   "execution_count": null,
   "metadata": {},
   "outputs": [],
   "source": []
  }
 ],
 "metadata": {
  "kernelspec": {
   "display_name": "Python 3",
   "language": "python",
   "name": "python3"
  },
  "language_info": {
   "codemirror_mode": {
    "name": "ipython",
    "version": 3
   },
   "file_extension": ".py",
   "mimetype": "text/x-python",
   "name": "python",
   "nbconvert_exporter": "python",
   "pygments_lexer": "ipython3",
   "version": "3.6.10"
  }
 },
 "nbformat": 4,
 "nbformat_minor": 4
}
