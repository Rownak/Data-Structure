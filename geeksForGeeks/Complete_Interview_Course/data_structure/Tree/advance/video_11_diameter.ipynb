{
 "cells": [
  {
   "cell_type": "markdown",
   "metadata": {},
   "source": [
    "<img src=\"../Images/video_11_diameter_1.png\">\n",
    "Problem: Calculate the longest path in a tree, which is the diameter of the tree"
   ]
  },
  {
   "cell_type": "code",
   "execution_count": 52,
   "metadata": {},
   "outputs": [],
   "source": [
    "class Node:\n",
    "    def __init__(self,val):\n",
    "        self.right = None\n",
    "        self.left = None\n",
    "        self.data = val"
   ]
  },
  {
   "cell_type": "markdown",
   "metadata": {},
   "source": [
    "<img src=\"../Images/video_11_diameter.png\">\n",
    "\n",
    "Time O(n^2)\n",
    "Space O(h)"
   ]
  },
  {
   "cell_type": "code",
   "execution_count": 53,
   "metadata": {},
   "outputs": [],
   "source": [
    "def get_height(root):\n",
    "    if(root==None):\n",
    "        return 0\n",
    "    return max(get_height(root.left), get_height(root.right))+1"
   ]
  },
  {
   "cell_type": "code",
   "execution_count": 54,
   "metadata": {},
   "outputs": [],
   "source": [
    "def get_diameter(root):\n",
    "    if(root==None):\n",
    "        return 0\n",
    "    l_h = get_height(root.left)\n",
    "    r_h = get_height(root.right)\n",
    "    mx_h = l_h+r_h+1\n",
    "    return max(mx_h,max(get_diameter(root.left), get_diameter(root.right)))"
   ]
  },
  {
   "cell_type": "markdown",
   "metadata": {},
   "source": [
    "<img src=\"../Images/video_11_diameter_2.png\">\n",
    "\n",
    "Time O(n)\n",
    "Space O(h)"
   ]
  },
  {
   "cell_type": "code",
   "execution_count": 58,
   "metadata": {},
   "outputs": [],
   "source": [
    "def get_diameter_optimize(root):\n",
    "    if(root==None):\n",
    "        return 0, 0\n",
    "    left_h, max_l = get_diameter_optimize(root.left)\n",
    "    right_h, max_r = get_diameter_optimize(root.right)\n",
    "    max_d = max(max(max_l,max_r), left_h+right_h+1)\n",
    "    return max(left_h,right_h)+1, max_d"
   ]
  },
  {
   "cell_type": "code",
   "execution_count": 59,
   "metadata": {},
   "outputs": [],
   "source": [
    "a = Node(1)\n",
    "a.left = Node(2)\n",
    "a.right = Node(3)\n",
    "\n",
    "a.left.left = Node(4)\n",
    "a.left.right = Node(5)\n",
    "a.right.left = Node(6)\n",
    "#a.right.right = Node(7)\n",
    "\n",
    "a.left.left.left = Node(8)\n",
    "a.left.left.right = Node(9)\n",
    "a.left.right.left = Node(10)\n",
    "a.left.right.right = Node(11)\n",
    "#a.right.left.left = Node(12)\n",
    "#a.right.left.right = Node(13)\n",
    "#a.right.right.left = Node(14)\n",
    "#a.right.right.right = Node(15)\n",
    "\n",
    "a.left.left.left.left = Node(16)\n",
    "a.left.left.left.right = Node(17)\n",
    "#a.left.left.right.left = Node(18)\n",
    "#a.left.left.right.right = Node(19)\n",
    "a.left.right.left.left = Node(20)\n",
    "a.left.left.left.right = Node(21)\n",
    "\n",
    "# '''\n",
    "#                    1\n",
    "#                 /     \\\n",
    "#                2       3\n",
    "#              /   \\      \n",
    "#             4      5  \n",
    "#            / \\    / \\     \n",
    "#           8   9  10  11      \n",
    "#          / \\     /\\\n",
    "#        16   17  20 21\n",
    "# '''"
   ]
  },
  {
   "cell_type": "code",
   "execution_count": 60,
   "metadata": {},
   "outputs": [
    {
     "data": {
      "text/plain": [
       "7"
      ]
     },
     "execution_count": 60,
     "metadata": {},
     "output_type": "execute_result"
    }
   ],
   "source": [
    "get_diameter(a)"
   ]
  },
  {
   "cell_type": "code",
   "execution_count": 61,
   "metadata": {},
   "outputs": [
    {
     "data": {
      "text/plain": [
       "(5, 7)"
      ]
     },
     "execution_count": 61,
     "metadata": {},
     "output_type": "execute_result"
    }
   ],
   "source": [
    "get_diameter_optimize(a)"
   ]
  },
  {
   "cell_type": "code",
   "execution_count": null,
   "metadata": {},
   "outputs": [],
   "source": []
  }
 ],
 "metadata": {
  "kernelspec": {
   "display_name": "Python 3",
   "language": "python",
   "name": "python3"
  },
  "language_info": {
   "codemirror_mode": {
    "name": "ipython",
    "version": 3
   },
   "file_extension": ".py",
   "mimetype": "text/x-python",
   "name": "python",
   "nbconvert_exporter": "python",
   "pygments_lexer": "ipython3",
   "version": "3.6.10"
  }
 },
 "nbformat": 4,
 "nbformat_minor": 4
}
