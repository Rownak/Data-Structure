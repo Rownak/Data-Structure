{
 "cells": [
  {
   "cell_type": "markdown",
   "metadata": {},
   "source": [
    "<img src=\"../Images/video_8_convert_tree_to_doubly_linkList.png\">\n",
    "\n",
    "Problem: Convert a tree to doubly linked_list"
   ]
  },
  {
   "cell_type": "code",
   "execution_count": 1,
   "metadata": {},
   "outputs": [],
   "source": [
    "class Node:\n",
    "    def __init__(self, val):\n",
    "        self.data = val\n",
    "        self.right = None\n",
    "        self.left = None"
   ]
  },
  {
   "cell_type": "code",
   "execution_count": null,
   "metadata": {},
   "outputs": [],
   "source": []
  },
  {
   "cell_type": "markdown",
   "metadata": {},
   "source": [
    "\n",
    "<img src=\"../Images/video_8_convert_tree_to_doubly_linkList_2.png\">\n",
    "inorder traversal\n",
    "Time O(n)\n",
    "Space O(h)"
   ]
  },
  {
   "cell_type": "code",
   "execution_count": 13,
   "metadata": {},
   "outputs": [],
   "source": [
    "global prev\n",
    "prev = None\n",
    "\n",
    "def BT2D_link(root):\n",
    "    global prev\n",
    "    if (root == None):\n",
    "        return root\n",
    "    head = BT2D_link(root.left)\n",
    "    \n",
    "    if(prev == None):\n",
    "        head = root\n",
    "    else:\n",
    "        root.left = prev\n",
    "        prev.right = root\n",
    "    prev = root\n",
    "    BT2D_link(root.right)\n",
    "    return head"
   ]
  },
  {
   "cell_type": "code",
   "execution_count": 14,
   "metadata": {},
   "outputs": [],
   "source": [
    "a = Node(1)\n",
    "a.left = Node(2)\n",
    "a.right = Node(3)\n",
    "\n",
    "a.left.left = Node(4)\n",
    "a.left.right = Node(5)\n",
    "#a.right.left = Node(2)\n",
    "a.right.right = Node(6)\n",
    "\n",
    "# a.left.left.left = Node(7)\n",
    "# a.left.left.right = Node(8)\n",
    "# a.left.right.left = Node(9)\n",
    "# a.left.right.right = Node(10)\n",
    "#a.right.left.left = Node(11)\n",
    "#a.right.left.right = Node(11)\n",
    "#a.right.right.left = Node(6)\n",
    "# a.right.right.right = Node(11)\n",
    "\n",
    "# a.left.left.left.left = Node(12)\n",
    "# a.left.left.left.right = Node(13)\n",
    "\n",
    "# '''\n",
    "#                    1\n",
    "#                 /     \\\n",
    "#                2       3\n",
    "#              /   \\      \\\n",
    "#             4      5      6\n",
    "#"
   ]
  },
  {
   "cell_type": "code",
   "execution_count": 15,
   "metadata": {},
   "outputs": [],
   "source": [
    "head = BT2D_link(a)"
   ]
  },
  {
   "cell_type": "code",
   "execution_count": 18,
   "metadata": {},
   "outputs": [
    {
     "data": {
      "text/plain": [
       "2"
      ]
     },
     "execution_count": 18,
     "metadata": {},
     "output_type": "execute_result"
    }
   ],
   "source": []
  },
  {
   "cell_type": "code",
   "execution_count": null,
   "metadata": {},
   "outputs": [],
   "source": []
  }
 ],
 "metadata": {
  "kernelspec": {
   "display_name": "Python 3",
   "language": "python",
   "name": "python3"
  },
  "language_info": {
   "codemirror_mode": {
    "name": "ipython",
    "version": 3
   },
   "file_extension": ".py",
   "mimetype": "text/x-python",
   "name": "python",
   "nbconvert_exporter": "python",
   "pygments_lexer": "ipython3",
   "version": "3.6.10"
  }
 },
 "nbformat": 4,
 "nbformat_minor": 4
}
