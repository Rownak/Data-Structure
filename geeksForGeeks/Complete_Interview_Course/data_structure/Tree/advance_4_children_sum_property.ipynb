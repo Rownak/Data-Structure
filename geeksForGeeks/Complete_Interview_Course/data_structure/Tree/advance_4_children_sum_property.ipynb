{
 "cells": [
  {
   "cell_type": "markdown",
   "metadata": {},
   "source": [
    "<img src=\"Images/children_sum.png\">\n",
    "\n",
    "check if every node is sum of it's children"
   ]
  },
  {
   "cell_type": "code",
   "execution_count": 2,
   "metadata": {},
   "outputs": [],
   "source": [
    "class Node:\n",
    "    def __init__(self, val):\n",
    "        self.data = val\n",
    "        self.left = None\n",
    "        self.right = None"
   ]
  },
  {
   "cell_type": "code",
   "execution_count": 20,
   "metadata": {},
   "outputs": [],
   "source": [
    "def check_children_sum(root):\n",
    "    if(root==None):\n",
    "        return True\n",
    "    if(root.left!=None and root.right!=None):\n",
    "        if(root.data == root.left.data+root.right.data):\n",
    "            return (check_children_sum(root.left) and check_children_sum(root.right))\n",
    "        else:\n",
    "            return False\n",
    "    elif(root.left!=None and root.right==None):\n",
    "        if(root.data == root.left.data):\n",
    "            return (check_children_sum(root.left))\n",
    "        else:\n",
    "            return False\n",
    "    elif(root.left==None and root.right!=None):\n",
    "        if(root.data == root.right.data):\n",
    "            return (check_children_sum(root.right))\n",
    "        else:\n",
    "            return False\n",
    "    else:\n",
    "        return True"
   ]
  },
  {
   "cell_type": "markdown",
   "metadata": {},
   "source": [
    "<img src=\"Images/children_sum_sol.png\">\n",
    "Its a Queue based level order traversal of tree with some condition to print only left node\n",
    "\n",
    "Time complexity O(n) also it is $\\theta$(n)\n",
    "\n",
    "Aux Space $\\theta$(h) h = height of the tree"
   ]
  },
  {
   "cell_type": "code",
   "execution_count": 33,
   "metadata": {},
   "outputs": [],
   "source": [
    "def check_children_sum_2(root):\n",
    "    if(root==None):\n",
    "        return True\n",
    "    if(root.left==None and root.right==None):\n",
    "        return True\n",
    "    sum_node = 0\n",
    "    if(root.left!=None):\n",
    "        sum_node+= root.left.data\n",
    "    if(root.right!=None):\n",
    "        sum_node+= root.right.data\n",
    "    \n",
    "    return (root.data == sum_node and check_children_sum_2(root.left) and check_children_sum_2(root.right))"
   ]
  },
  {
   "cell_type": "code",
   "execution_count": 34,
   "metadata": {},
   "outputs": [],
   "source": [
    "a = Node(20)\n",
    "a.left = Node(8)\n",
    "a.right = Node(12)\n",
    "\n",
    "a.left.left = Node(3)\n",
    "a.left.right = Node(5)\n",
    "# a.right.left = Node(70)\n",
    "# a.right.right = Node(90)\n",
    "\n",
    "# a.left.left.left = Node(11)\n",
    "# a.left.left.right = Node(11)\n",
    "# a.left.right.left = Node(6)\n",
    "# a.left.right.right = Node(13)\n",
    "# #a.right.left.left = Node(11)\n",
    "#a.right.left.right = Node(8)\n",
    "# #a.right.right.left = Node(6)\n",
    "# a.right.right.right = Node(6)\n",
    "\n",
    "# a.left.left.left.left = Node(6)\n",
    "# a.left.left.left.right = Node(12)\n",
    "\n",
    "\n",
    "#                    20\n",
    "#                 /     \\\n",
    "#                8      12\n",
    "#               / \\\n",
    "#              3   5  "
   ]
  },
  {
   "cell_type": "code",
   "execution_count": 35,
   "metadata": {},
   "outputs": [
    {
     "data": {
      "text/plain": [
       "True"
      ]
     },
     "execution_count": 35,
     "metadata": {},
     "output_type": "execute_result"
    }
   ],
   "source": [
    "check_children_sum_2(a)"
   ]
  },
  {
   "cell_type": "code",
   "execution_count": null,
   "metadata": {},
   "outputs": [],
   "source": []
  }
 ],
 "metadata": {
  "kernelspec": {
   "display_name": "Python 3",
   "language": "python",
   "name": "python3"
  },
  "language_info": {
   "codemirror_mode": {
    "name": "ipython",
    "version": 3
   },
   "file_extension": ".py",
   "mimetype": "text/x-python",
   "name": "python",
   "nbconvert_exporter": "python",
   "pygments_lexer": "ipython3",
   "version": "3.6.10"
  }
 },
 "nbformat": 4,
 "nbformat_minor": 4
}
