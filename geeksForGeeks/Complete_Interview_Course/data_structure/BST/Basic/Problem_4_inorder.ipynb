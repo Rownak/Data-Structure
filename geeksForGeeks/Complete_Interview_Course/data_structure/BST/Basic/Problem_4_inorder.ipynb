{
 "cells": [
  {
   "cell_type": "code",
   "execution_count": null,
   "metadata": {},
   "outputs": [],
   "source": [
    "def InOrder_helper(root, res_list):\n",
    "    \n",
    "    if(root):\n",
    "        InOrder_helper(root.left, res_list)\n",
    "        res_list.append(root.val)\n",
    "        InOrder_helper(root.right, res_list)\n",
    "    return res_list\n",
    "def InOrder(root):\n",
    "    #code here\n",
    "    return InOrder_helper(root, res_list=[])"
   ]
  },
  {
   "cell_type": "code",
   "execution_count": null,
   "metadata": {},
   "outputs": [],
   "source": [
    "def InOrder(root):\n",
    "    #code here\n",
    "    if(root == None):\n",
    "        return []\n",
    "    return InOrder(root.left) + [root.val] + InOrder(root.right)"
   ]
  },
  {
   "cell_type": "code",
   "execution_count": null,
   "metadata": {},
   "outputs": [],
   "source": [
    "#User function Template for python3\n",
    "\n",
    "\"\"\"\n",
    "@Node Template -\n",
    "class Node:\n",
    "    def __init__(self,key):\n",
    "        self.left = None\n",
    "        self.right = None\n",
    "        self.val = key\n",
    "\"\"\"\n",
    "\n",
    "\n",
    "\n",
    "#{ \n",
    "#  Driver Code Starts\n",
    "#Initial Template for Python 3\n",
    "\n",
    "class Node:\n",
    "    def __init__(self,key):\n",
    "        self.left = None\n",
    "        self.right = None\n",
    "        self.val = key\n",
    "\n",
    "def insert(root,node):\n",
    "    if root == None:\n",
    "        root = node\n",
    "    else:\n",
    "        if root.val < node.val:\n",
    "            if root.right is None:\n",
    "                root.right = node\n",
    "            else:\n",
    "                insert(root.right, node)\n",
    "        else:\n",
    "            if root.left is None:\n",
    "                root.left = node\n",
    "            else:\n",
    "                insert(root.left, node)\n",
    "\n",
    "\n",
    "if __name__ == \"__main__\":\n",
    "    t = int(input())\n",
    "    for ti in range(t):\n",
    "        n = int(input())\n",
    "        arr = [int(x) for x in input().strip().split()]\n",
    "        root = Node(arr[0])\n",
    "        for i in range(1, n):\n",
    "            insert(root, Node(arr[i]))\n",
    "        res = InOrder(root)\n",
    "        for i in range (len(res)):\n",
    "            print (res[i], end=\" \")\n",
    "        print()\n",
    "\n",
    "# } Driver Code Ends"
   ]
  }
 ],
 "metadata": {
  "kernelspec": {
   "display_name": "Python 3",
   "language": "python",
   "name": "python3"
  },
  "language_info": {
   "codemirror_mode": {
    "name": "ipython",
    "version": 3
   },
   "file_extension": ".py",
   "mimetype": "text/x-python",
   "name": "python",
   "nbconvert_exporter": "python",
   "pygments_lexer": "ipython3",
   "version": "3.7.6"
  }
 },
 "nbformat": 4,
 "nbformat_minor": 4
}
