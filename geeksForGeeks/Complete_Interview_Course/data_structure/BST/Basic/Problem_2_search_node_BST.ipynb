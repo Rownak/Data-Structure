{
 "cells": [
  {
   "cell_type": "markdown",
   "metadata": {},
   "source": [
    "Search a node in BST \n",
    "Given a Binary Search Tree and a node value X, find if node with value X is present in the BST or not. \n",
    "\n",
    "Example 1:\n",
    "\n",
    "Input:\n",
    "         2\n",
    "          \\\n",
    "          81\n",
    "        /    \\\n",
    "      42      87\n",
    "    /   \\       \\\n",
    "   45   66      90\n",
    "x = 87\n",
    "Output: 1\n",
    "Explanation: As 87 is present in the\n",
    "given nodes , so the output will be\n",
    "1.\n",
    "Example 2:\n",
    "\n",
    "Input:\n",
    "      6\n",
    "       \\\n",
    "        7\n",
    "       / \\\n",
    "      8   9\n",
    "x = 11\n",
    "Output: 0\n",
    "Explanation: As 11 is not present in \n",
    "he given nodes , so the output will\n",
    "be 0.\n",
    "\n",
    "Your Task:\n",
    "You don't need to read input or print anything. Complete the function search() which returns true if the node with value x is present in the BST else returns false. \n",
    "\n",
    "\n",
    "Expected Time Complexity: O(Height of the BST)\n",
    "Expected Auxiliary Space: O(1).\n",
    "\n",
    "\n",
    "Constraints:\n",
    "1 <= Number of nodes <= 100"
   ]
  },
  {
   "cell_type": "code",
   "execution_count": 4,
   "metadata": {},
   "outputs": [],
   "source": [
    "class Node:\n",
    "    \"\"\" Class Node \"\"\"\n",
    "    def __init__(self, value):\n",
    "        self.left = None\n",
    "        self.data = value\n",
    "        self.right = None"
   ]
  },
  {
   "cell_type": "code",
   "execution_count": 5,
   "metadata": {},
   "outputs": [],
   "source": [
    "class BST:\n",
    "    def search(self, node, data):\n",
    "        #code here\n",
    "        if(node == None):\n",
    "            return False\n",
    "        if(data==node.data):\n",
    "            return True\n",
    "        elif(data<node.data):\n",
    "            return self.search(node.left, data)\n",
    "        else:\n",
    "            return self.search(node.right, data)"
   ]
  },
  {
   "cell_type": "code",
   "execution_count": 7,
   "metadata": {},
   "outputs": [
    {
     "data": {
      "text/plain": [
       "False"
      ]
     },
     "execution_count": 7,
     "metadata": {},
     "output_type": "execute_result"
    }
   ],
   "source": [
    "x = BST()\n",
    "x.search(None,4)"
   ]
  },
  {
   "cell_type": "code",
   "execution_count": 6,
   "metadata": {},
   "outputs": [
    {
     "name": "stdout",
     "output_type": "stream",
     "text": [
      "1\n",
      "5\n",
      "3 1 2 4 5\n",
      "4\n"
     ]
    },
    {
     "ename": "NameError",
     "evalue": "name 'search' is not defined",
     "output_type": "error",
     "traceback": [
      "\u001b[0;31m---------------------------------------------------------------------------\u001b[0m",
      "\u001b[0;31mNameError\u001b[0m                                 Traceback (most recent call last)",
      "\u001b[0;32m<ipython-input-6-7f96d246a573>\u001b[0m in \u001b[0;36m<module>\u001b[0;34m\u001b[0m\n\u001b[1;32m     52\u001b[0m         \u001b[0mnum\u001b[0m \u001b[0;34m=\u001b[0m \u001b[0mint\u001b[0m\u001b[0;34m(\u001b[0m\u001b[0minput\u001b[0m\u001b[0;34m(\u001b[0m\u001b[0;34m)\u001b[0m\u001b[0;34m)\u001b[0m\u001b[0;34m\u001b[0m\u001b[0;34m\u001b[0m\u001b[0m\n\u001b[1;32m     53\u001b[0m         \u001b[0mfind\u001b[0m \u001b[0;34m=\u001b[0m \u001b[0mBST\u001b[0m\u001b[0;34m(\u001b[0m\u001b[0;34m)\u001b[0m\u001b[0;34m\u001b[0m\u001b[0;34m\u001b[0m\u001b[0m\n\u001b[0;32m---> 54\u001b[0;31m         \u001b[0;32mif\u001b[0m \u001b[0mfind\u001b[0m\u001b[0;34m.\u001b[0m\u001b[0msearch\u001b[0m\u001b[0;34m(\u001b[0m\u001b[0mroot\u001b[0m\u001b[0;34m,\u001b[0m \u001b[0mnum\u001b[0m\u001b[0;34m)\u001b[0m\u001b[0;34m:\u001b[0m\u001b[0;34m\u001b[0m\u001b[0;34m\u001b[0m\u001b[0m\n\u001b[0m\u001b[1;32m     55\u001b[0m             \u001b[0mprint\u001b[0m\u001b[0;34m(\u001b[0m\u001b[0;36m1\u001b[0m\u001b[0;34m)\u001b[0m\u001b[0;34m\u001b[0m\u001b[0;34m\u001b[0m\u001b[0m\n\u001b[1;32m     56\u001b[0m         \u001b[0;32melse\u001b[0m\u001b[0;34m:\u001b[0m\u001b[0;34m\u001b[0m\u001b[0;34m\u001b[0m\u001b[0m\n",
      "\u001b[0;32m<ipython-input-5-6aa6d2601521>\u001b[0m in \u001b[0;36msearch\u001b[0;34m(self, node, data)\u001b[0m\n\u001b[1;32m      9\u001b[0m             \u001b[0;32mreturn\u001b[0m \u001b[0msearch\u001b[0m\u001b[0;34m(\u001b[0m\u001b[0mself\u001b[0m\u001b[0;34m,\u001b[0m \u001b[0mnode\u001b[0m\u001b[0;34m.\u001b[0m\u001b[0mleft\u001b[0m\u001b[0;34m,\u001b[0m \u001b[0mdata\u001b[0m\u001b[0;34m)\u001b[0m\u001b[0;34m\u001b[0m\u001b[0;34m\u001b[0m\u001b[0m\n\u001b[1;32m     10\u001b[0m         \u001b[0;32melse\u001b[0m\u001b[0;34m:\u001b[0m\u001b[0;34m\u001b[0m\u001b[0;34m\u001b[0m\u001b[0m\n\u001b[0;32m---> 11\u001b[0;31m             \u001b[0;32mreturn\u001b[0m \u001b[0msearch\u001b[0m\u001b[0;34m(\u001b[0m\u001b[0mself\u001b[0m\u001b[0;34m,\u001b[0m \u001b[0mnode\u001b[0m\u001b[0;34m.\u001b[0m\u001b[0mright\u001b[0m\u001b[0;34m,\u001b[0m \u001b[0mdata\u001b[0m\u001b[0;34m)\u001b[0m\u001b[0;34m\u001b[0m\u001b[0;34m\u001b[0m\u001b[0m\n\u001b[0m",
      "\u001b[0;31mNameError\u001b[0m: name 'search' is not defined"
     ]
    }
   ],
   "source": [
    "#Your task is to complete this function\n",
    "#Function should return True/False or 1/0\n",
    "'''\n",
    "class Node:\n",
    "    \"\"\" Class Node \"\"\"\n",
    "    def __init__(self, value):\n",
    "        self.left = None\n",
    "        self.data = value\n",
    "        self.right = None\n",
    "'''\n",
    "\n",
    "\n",
    "\n",
    "\n",
    "\n",
    "\n",
    "#{ \n",
    "#  Driver Code Starts\n",
    "\n",
    "\n",
    "class Tree:\n",
    "    def createNode(self, data):\n",
    "        return Node(data)\n",
    "    \n",
    "    def insert(self, node, data):\n",
    "        if node is None:\n",
    "            return self.createNode(data)\n",
    "        else:\n",
    "            if data < node.data:\n",
    "                node.left = self.insert(node.left, data)\n",
    "            else:\n",
    "                node.right = self.insert(node.right, data)\n",
    "            return node\n",
    "\n",
    "    def traverseInorder(self, root):\n",
    "        if root is not None:\n",
    "            print(root.data, end= \" \")\n",
    "            self.traverseInorder(root.left)\n",
    "            self.traverseInorder(root.right)\n",
    "    \n",
    "if __name__=='__main__':\n",
    "    t=int(input())\n",
    "    for i in range(t):\n",
    "        n=int(input())\n",
    "        arr = input().strip().split()\n",
    "        root = None\n",
    "        tree = Tree()\n",
    "        root = tree.insert(root, int(arr[0]))\n",
    "        for j in range(1, n):\n",
    "            root = tree.insert(root, int(arr[j]))\n",
    "        #tree.traverseInorder(root)\n",
    "        num = int(input())\n",
    "        find = BST()\n",
    "        if find.search(root, num):\n",
    "            print(1)\n",
    "        else:\n",
    "            print(0)\n",
    "\n",
    "# } Driver Code Ends"
   ]
  },
  {
   "cell_type": "code",
   "execution_count": null,
   "metadata": {},
   "outputs": [],
   "source": []
  }
 ],
 "metadata": {
  "kernelspec": {
   "display_name": "Python 3",
   "language": "python",
   "name": "python3"
  },
  "language_info": {
   "codemirror_mode": {
    "name": "ipython",
    "version": 3
   },
   "file_extension": ".py",
   "mimetype": "text/x-python",
   "name": "python",
   "nbconvert_exporter": "python",
   "pygments_lexer": "ipython3",
   "version": "3.7.6"
  }
 },
 "nbformat": 4,
 "nbformat_minor": 4
}
