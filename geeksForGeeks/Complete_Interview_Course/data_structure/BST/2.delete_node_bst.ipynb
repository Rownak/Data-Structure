{
 "cells": [
  {
   "cell_type": "code",
   "execution_count": 1,
   "metadata": {},
   "outputs": [],
   "source": [
    "\n",
    "# Tree Node\n",
    "class Node:\n",
    "    def __init__(self, val):\n",
    "        self.right = None\n",
    "        self.data = val\n",
    "        self.left = None\n",
    "\n",
    "def insert(root, Key):\n",
    "    if(root==None):\n",
    "        return Node(Key)\n",
    "    if(Key<root.data):\n",
    "        root.left = insert(root.left, Key)\n",
    "    elif(Key>root.data):\n",
    "        root.right = insert(root.right, Key)\n",
    "    return root\n",
    "\n",
    "def inorder(root):\n",
    "    if(root==None):\n",
    "        return\n",
    "    inorder(root.left)\n",
    "    print(root.data)\n",
    "    inorder(root.right)"
   ]
  },
  {
   "cell_type": "code",
   "execution_count": null,
   "metadata": {},
   "outputs": [],
   "source": []
  },
  {
   "cell_type": "code",
   "execution_count": 42,
   "metadata": {},
   "outputs": [],
   "source": [
    "def find_succ(root):\n",
    "    if(root.right == None):\n",
    "        return None\n",
    "    root=root.right\n",
    "    while(root.left!=None):\n",
    "        root = root.left\n",
    "    return root\n",
    "# Return the root of the modified BST after deleting the node with value X\n",
    "def deleteNode(root, X):\n",
    "    # code here.\n",
    "    if(root == None):\n",
    "        return None\n",
    "    if(X<root.data):\n",
    "        root.left = deleteNode(root.left, X)\n",
    "    elif(X>root.data):\n",
    "        root.right = deleteNode(root.right, X)\n",
    "    else:\n",
    "        print(\"found \",X)\n",
    "        if(root.left == None):\n",
    "            return root.right\n",
    "        elif(root.right == None):\n",
    "            return root.left\n",
    "        else:\n",
    "            x = find_succ(root)\n",
    "            root.data = x.data\n",
    "            root.right = deleteNode(root.right, x.data)\n",
    "    return root"
   ]
  },
  {
   "cell_type": "code",
   "execution_count": 43,
   "metadata": {},
   "outputs": [
    {
     "data": {
      "text/plain": [
       "<__main__.Node at 0x1105e7320>"
      ]
     },
     "execution_count": 43,
     "metadata": {},
     "output_type": "execute_result"
    }
   ],
   "source": [
    "root = Node(2)\n",
    "insert(root,1)\n",
    "insert(root,3)\n",
    "insert(root,5)\n",
    "insert(root,4)"
   ]
  },
  {
   "cell_type": "code",
   "execution_count": 44,
   "metadata": {},
   "outputs": [
    {
     "name": "stdout",
     "output_type": "stream",
     "text": [
      "found  4\n"
     ]
    },
    {
     "data": {
      "text/plain": [
       "<__main__.Node at 0x1105e7320>"
      ]
     },
     "execution_count": 44,
     "metadata": {},
     "output_type": "execute_result"
    }
   ],
   "source": [
    "deleteNode(root, 4)"
   ]
  },
  {
   "cell_type": "code",
   "execution_count": 45,
   "metadata": {},
   "outputs": [
    {
     "name": "stdout",
     "output_type": "stream",
     "text": [
      "1\n",
      "2\n",
      "3\n",
      "5\n"
     ]
    }
   ],
   "source": [
    "inorder(root)"
   ]
  },
  {
   "cell_type": "code",
   "execution_count": null,
   "metadata": {},
   "outputs": [],
   "source": []
  }
 ],
 "metadata": {
  "kernelspec": {
   "display_name": "Python 3",
   "language": "python",
   "name": "python3"
  },
  "language_info": {
   "codemirror_mode": {
    "name": "ipython",
    "version": 3
   },
   "file_extension": ".py",
   "mimetype": "text/x-python",
   "name": "python",
   "nbconvert_exporter": "python",
   "pygments_lexer": "ipython3",
   "version": "3.6.10"
  }
 },
 "nbformat": 4,
 "nbformat_minor": 4
}
