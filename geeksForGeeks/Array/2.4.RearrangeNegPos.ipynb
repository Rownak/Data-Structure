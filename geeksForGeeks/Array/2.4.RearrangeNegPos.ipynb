{
 "cells": [
  {
   "cell_type": "code",
   "execution_count": 3,
   "metadata": {},
   "outputs": [
    {
     "name": "stdout",
     "output_type": "stream",
     "text": [
      "4 -3 5 -1 6 -7 2 8 9 "
     ]
    }
   ],
   "source": [
    "#  Python program to put positive numbers at even indexes (0,  // 2, 4,..) and \n",
    "#  negative numbers at odd indexes (1, 3, 5, ..) \n",
    "  \n",
    "# The main function that rearranges elements of given array.  \n",
    "# It puts  positive elements at even indexes (0, 2, ..) and  \n",
    "# negative numbers at odd indexes (1, 3, ..). \n",
    "def rearrange(arr, n): \n",
    "    # The following few lines are similar to partition process \n",
    "    # of QuickSort.  The idea is to consider 0 as pivot and \n",
    "    # divide the array around it. \n",
    "    i = -1\n",
    "    for j in range(n): \n",
    "        if (arr[j] < 0): \n",
    "            i += 1\n",
    "            # swapping of arr \n",
    "            arr[i], arr[j] = arr[j], arr[i] \n",
    "   \n",
    "    # Now all positive numbers are at end and negative numbers \n",
    "    # at the beginning of array. Initialize indexes for starting \n",
    "    # point of positive and negative numbers to be swapped \n",
    "    pos, neg = i+1, 0\n",
    "   \n",
    "    # Increment the negative index by 2 and positive index by 1, \n",
    "    # i.e., swap every alternate negative number with next  \n",
    "    # positive number \n",
    "    while (pos < n and neg < pos and arr[neg] < 0): \n",
    "  \n",
    "        # swapping of arr \n",
    "        arr[neg], arr[pos] = arr[pos], arr[neg] \n",
    "        pos += 1\n",
    "        neg += 2\n",
    "  \n",
    "# A utility function to print an array \n",
    "def printArray(arr, n): \n",
    "      \n",
    "    for i in range(n): \n",
    "        print(arr[i], end=\" \") \n",
    "   \n",
    "# Driver program to test above functions \n",
    "arr = [-1, 2, -3, 4, 5, 6, -7, 8, 9] \n",
    "n = len(arr) \n",
    "rearrange(arr, n) \n",
    "printArray(arr, n) \n",
    "  \n",
    "# Contributed by Afzal "
   ]
  },
  {
   "cell_type": "code",
   "execution_count": null,
   "metadata": {},
   "outputs": [],
   "source": []
  }
 ],
 "metadata": {
  "kernelspec": {
   "display_name": "Python 3",
   "language": "python",
   "name": "python3"
  },
  "language_info": {
   "codemirror_mode": {
    "name": "ipython",
    "version": 3
   },
   "file_extension": ".py",
   "mimetype": "text/x-python",
   "name": "python",
   "nbconvert_exporter": "python",
   "pygments_lexer": "ipython3",
   "version": "3.7.3"
  }
 },
 "nbformat": 4,
 "nbformat_minor": 2
}
