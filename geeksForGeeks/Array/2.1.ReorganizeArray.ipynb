{
 "cells": [
  {
   "cell_type": "code",
   "execution_count": 4,
   "metadata": {},
   "outputs": [
    {
     "name": "stdout",
     "output_type": "stream",
     "text": [
      "[-1, 1, 2, 3, 4, -1, 6, -1, -1, 9]\n"
     ]
    }
   ],
   "source": [
    "#code\n",
    "\n",
    "def rearrangeArray(arr):\n",
    "    neg1 = 0\n",
    "    for i, num in enumerate(arr):\n",
    "        if(num<0):\n",
    "            neg1=neg1+1\n",
    "            continue\n",
    "        tmp1 = arr[num]\n",
    "        arr[num] = num \n",
    "        arr[i] = -1\n",
    "        neg1 = neg1-1\n",
    "        while(tmp1 != -1):\n",
    "            tmp2 = arr[tmp1]\n",
    "            arr[tmp1] = tmp1\n",
    "            tmp1 = tmp2\n",
    "        neg1=neg1+1\n",
    "        \n",
    "\n",
    "                \n",
    "    \n",
    "\n",
    "#t = int(input())\n",
    "#n = int(input())\n",
    "#arr = [int(x) for x in input().split()]\n",
    "arr = [-1,-1,6,1,9,3,4,-1,2,-1]\n",
    "rearrangeArray(arr)\n",
    "print(arr)"
   ]
  },
  {
   "cell_type": "code",
   "execution_count": null,
   "metadata": {},
   "outputs": [],
   "source": []
  }
 ],
 "metadata": {
  "kernelspec": {
   "display_name": "Python 3",
   "language": "python",
   "name": "python3"
  },
  "language_info": {
   "codemirror_mode": {
    "name": "ipython",
    "version": 3
   },
   "file_extension": ".py",
   "mimetype": "text/x-python",
   "name": "python",
   "nbconvert_exporter": "python",
   "pygments_lexer": "ipython3",
   "version": "3.7.3"
  }
 },
 "nbformat": 4,
 "nbformat_minor": 2
}
