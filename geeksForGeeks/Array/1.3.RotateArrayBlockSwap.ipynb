{
 "cells": [
  {
   "cell_type": "code",
   "execution_count": 1,
   "metadata": {},
   "outputs": [],
   "source": [
    "#code\n",
    "def swap2(arr, fi, si, d):\n",
    "    \n",
    "    for i in range(d):\n",
    "        tmp = arr[si+i]\n",
    "        arr[si+i] = arr[fi+i]\n",
    "        arr[fi+i] = tmp"
   ]
  },
  {
   "cell_type": "code",
   "execution_count": 2,
   "metadata": {},
   "outputs": [],
   "source": [
    "def leftRotate(arr, d, n):  \n",
    "    if(d == 0 or d == n):  \n",
    "        return;  \n",
    "    i = d  \n",
    "    j = n - d  \n",
    "    while (i != j):  \n",
    "          \n",
    "        if(i < j): # A is shorter \n",
    "            swap2(arr, d - i, d + j - i, i)  \n",
    "            j -= i  \n",
    "          \n",
    "        else: # B is shorter \n",
    "            swap2(arr, d - i, d, j)  \n",
    "            i -= j  \n",
    "      \n",
    "    swap2(arr, d - i, d, i)"
   ]
  },
  {
   "cell_type": "code",
   "execution_count": 6,
   "metadata": {},
   "outputs": [
    {
     "name": "stdout",
     "output_type": "stream",
     "text": [
      "5\n",
      "1 2 3 4 5 6 7 8 9 10 11 12\n",
      "6 7 8 9 10 11 12 1 2 3 4 5\n"
     ]
    }
   ],
   "source": [
    "d = int(input())\n",
    "arr = [int(x) for x in input().split()]\n",
    "leftRotate(arr, d, len(arr))\n",
    "print(*arr)"
   ]
  },
  {
   "cell_type": "code",
   "execution_count": null,
   "metadata": {},
   "outputs": [],
   "source": []
  }
 ],
 "metadata": {
  "kernelspec": {
   "display_name": "Python 3",
   "language": "python",
   "name": "python3"
  },
  "language_info": {
   "codemirror_mode": {
    "name": "ipython",
    "version": 3
   },
   "file_extension": ".py",
   "mimetype": "text/x-python",
   "name": "python",
   "nbconvert_exporter": "python",
   "pygments_lexer": "ipython3",
   "version": "3.7.3"
  }
 },
 "nbformat": 4,
 "nbformat_minor": 2
}
