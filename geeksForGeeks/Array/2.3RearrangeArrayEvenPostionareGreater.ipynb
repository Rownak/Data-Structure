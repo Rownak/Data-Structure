{
 "cells": [
  {
   "cell_type": "markdown",
   "metadata": {},
   "source": [
    "Rearrange array such that arr[i] >= arr[j] if i is even and arr[i]<=arr[j] if i is odd and j < i\n",
    "Given an array of n elements. Our task is to write a program to rearrange the array such that elements at even positions are greater than all elements before it and elements at odd positions are less than all elements before it."
   ]
  },
  {
   "cell_type": "code",
   "execution_count": 54,
   "metadata": {},
   "outputs": [
    {
     "data": {
      "text/plain": [
       "[1, 2, 3, 4, 5, 6, 7]"
      ]
     },
     "execution_count": 54,
     "metadata": {},
     "output_type": "execute_result"
    }
   ],
   "source": [
    "x = [1, 2, 3, 4, 5, 6, 7]\n",
    "x.sort()\n",
    "x"
   ]
  },
  {
   "cell_type": "code",
   "execution_count": 69,
   "metadata": {},
   "outputs": [
    {
     "name": "stdout",
     "output_type": "stream",
     "text": [
      "[5, 6, 7]\n",
      "[1, 2, 3, 4]\n"
     ]
    }
   ],
   "source": [
    "n = len(x)\n",
    "evenPos = int(n/2)\n",
    "oddPos = n-evenPos\n",
    "evenPos\n",
    "print(x[evenPos+1:])\n",
    "print(x[:oddPos])"
   ]
  },
  {
   "cell_type": "code",
   "execution_count": 70,
   "metadata": {},
   "outputs": [],
   "source": [
    "tempArr = np.empty(n, dtype = object) "
   ]
  },
  {
   "cell_type": "code",
   "execution_count": 71,
   "metadata": {},
   "outputs": [],
   "source": [
    "j=0\n",
    "k=oddPos-1\n",
    "i=0\n",
    "for i in range(n):\n",
    "    if(i%2==0 and k>=0):\n",
    "        tempArr[i]= x[k]\n",
    "        k-=1\n",
    "    else:\n",
    "        tempArr[i]= x[j]\n",
    "        j+=1\n",
    "    i+=1"
   ]
  },
  {
   "cell_type": "code",
   "execution_count": 72,
   "metadata": {},
   "outputs": [
    {
     "data": {
      "text/plain": [
       "array([4, 1, 3, 2, 2, 3, 1], dtype=object)"
      ]
     },
     "execution_count": 72,
     "metadata": {},
     "output_type": "execute_result"
    }
   ],
   "source": [
    "tempArr"
   ]
  },
  {
   "cell_type": "code",
   "execution_count": null,
   "metadata": {},
   "outputs": [],
   "source": []
  },
  {
   "cell_type": "code",
   "execution_count": 43,
   "metadata": {},
   "outputs": [
    {
     "name": "stdout",
     "output_type": "stream",
     "text": [
      "3\n",
      "4\n",
      "4 5 3 6 2 7 1 "
     ]
    }
   ],
   "source": [
    "# Python3 code to rearrange the array \n",
    "# as per the given condition \n",
    "import array as a \n",
    "import numpy as np \n",
    "  \n",
    "# function to rearrange the array \n",
    "def rearrangeArr(arr, n): \n",
    "      \n",
    "    # total even positions \n",
    "    evenPos = int(n / 2) \n",
    "      \n",
    "    print(evenPos)\n",
    "    # total odd positions \n",
    "    oddPos = n - evenPos \n",
    "    print(oddPos)\n",
    "    # intialising empty array in python \n",
    "    tempArr = np.empty(n, dtype = object) \n",
    "  \n",
    "    # copy original array in an \n",
    "    # auxiliary array \n",
    "    for i in range(0, n): \n",
    "          \n",
    "        tempArr[i] = arr[i] \n",
    "  \n",
    "    # sort the auxiliary array \n",
    "    tempArr.sort() \n",
    "  \n",
    "    j = oddPos - 1\n",
    "  \n",
    "    # fill up odd position in original \n",
    "    # array \n",
    "    for i in range(0, n, 2): \n",
    "  \n",
    "        arr[i] = tempArr[j] \n",
    "        j = j - 1\n",
    "      \n",
    "    j = oddPos \n",
    "  \n",
    "    # fill up even positions in original \n",
    "    # array \n",
    "    for i in range(1, n, 2): \n",
    "        arr[i] = tempArr[j] \n",
    "        j = j + 1\n",
    "      \n",
    "    # display array \n",
    "    for i in range(0, n): \n",
    "        print (arr[i], end = ' ') \n",
    "  \n",
    "# Driver code \n",
    "arr = a.array('i', [ 1, 2, 3, 4, 5, 6, 7 ]) \n",
    "rearrangeArr(arr, 7) "
   ]
  },
  {
   "cell_type": "code",
   "execution_count": null,
   "metadata": {},
   "outputs": [],
   "source": []
  }
 ],
 "metadata": {
  "kernelspec": {
   "display_name": "Python 3",
   "language": "python",
   "name": "python3"
  },
  "language_info": {
   "codemirror_mode": {
    "name": "ipython",
    "version": 3
   },
   "file_extension": ".py",
   "mimetype": "text/x-python",
   "name": "python",
   "nbconvert_exporter": "python",
   "pygments_lexer": "ipython3",
   "version": "3.7.3"
  }
 },
 "nbformat": 4,
 "nbformat_minor": 2
}
