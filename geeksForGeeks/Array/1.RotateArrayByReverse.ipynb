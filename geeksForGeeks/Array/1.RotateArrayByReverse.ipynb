{
 "cells": [
  {
   "cell_type": "code",
   "execution_count": 1,
   "metadata": {},
   "outputs": [],
   "source": [
    "def reverse(arr, start, end):\n",
    "    while(start<end):\n",
    "        temp = arr[start]\n",
    "        arr[start]=arr[end]\n",
    "        arr[end]=temp\n",
    "        start=start+1\n",
    "        end=end-1"
   ]
  },
  {
   "cell_type": "code",
   "execution_count": 2,
   "metadata": {},
   "outputs": [],
   "source": [
    "def leftRotate(arr, d):\n",
    "    n = len(arr)\n",
    "    reverse(arr,0, d-1)\n",
    "    reverse(arr,d, n-1)\n",
    "    reverse(arr,0, n-1)"
   ]
  },
  {
   "cell_type": "code",
   "execution_count": 3,
   "metadata": {},
   "outputs": [],
   "source": [
    "def printArr(arr):\n",
    "    for i in range(len(arr)):\n",
    "        print(arr[i])"
   ]
  },
  {
   "cell_type": "code",
   "execution_count": 4,
   "metadata": {},
   "outputs": [
    {
     "name": "stdout",
     "output_type": "stream",
     "text": [
      "1\n",
      "5\n",
      "1 2 3 4 5\n",
      "2\n",
      "3 4 5 1 2\n"
     ]
    }
   ],
   "source": [
    "#main Method\n",
    "testCases = int(input())\n",
    "for i in range(testCases):\n",
    "    n = int(input())\n",
    "    arr = []\n",
    "    arr = [int(x) for x in input().split()]\n",
    "    d = int(input())\n",
    "    leftRotate(arr, d)\n",
    "    print(*arr)"
   ]
  },
  {
   "cell_type": "code",
   "execution_count": null,
   "metadata": {},
   "outputs": [],
   "source": []
  }
 ],
 "metadata": {
  "kernelspec": {
   "display_name": "Python 3",
   "language": "python",
   "name": "python3"
  },
  "language_info": {
   "codemirror_mode": {
    "name": "ipython",
    "version": 3
   },
   "file_extension": ".py",
   "mimetype": "text/x-python",
   "name": "python",
   "nbconvert_exporter": "python",
   "pygments_lexer": "ipython3",
   "version": "3.7.3"
  }
 },
 "nbformat": 4,
 "nbformat_minor": 2
}
