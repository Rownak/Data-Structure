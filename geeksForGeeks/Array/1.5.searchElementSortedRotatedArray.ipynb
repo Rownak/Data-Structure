{
 "cells": [
  {
   "cell_type": "code",
   "execution_count": 48,
   "metadata": {},
   "outputs": [],
   "source": [
    "def bSearchPivot(arr, start, end):\n",
    "    if(start==end):\n",
    "        return start\n",
    "    elif(end-start==1):\n",
    "        return start\n",
    "    mid = int((start+end)/2)\n",
    "    if(arr[start]>arr[mid]):\n",
    "        return bSearchPivot(arr, start, mid)\n",
    "    else:\n",
    "        return bSearchPivot(arr, mid, end)"
   ]
  },
  {
   "cell_type": "code",
   "execution_count": 49,
   "metadata": {},
   "outputs": [],
   "source": [
    "def bSearch(arr, start, end, val):\n",
    "    if(start==end):\n",
    "        if(arr[start]==val):\n",
    "            return start\n",
    "        else:\n",
    "            return -1\n",
    "    elif(start>end):\n",
    "        return -1\n",
    "    mid = int((start+end)/2)\n",
    "    if(arr[mid]==val):\n",
    "        return mid\n",
    "    if(arr[mid]>val):\n",
    "        return bSearch(arr, start, mid-1, val)\n",
    "    else:\n",
    "        return bSearch(arr, mid+1, end, val)"
   ]
  },
  {
   "cell_type": "code",
   "execution_count": 51,
   "metadata": {},
   "outputs": [
    {
     "name": "stdout",
     "output_type": "stream",
     "text": [
      "1\n",
      "2\n",
      "1 2\n",
      "4\n",
      "-1\n"
     ]
    }
   ],
   "source": [
    "t = int(input())\n",
    "\n",
    "for i in range(t):\n",
    "    n=int(input())\n",
    "    x=[int(x) for x in input().split()]\n",
    "    val=int(input())\n",
    "    s=0\n",
    "    e=n-1\n",
    "    pivot = bSearchPivot(x, s, e)\n",
    "    if(x[pivot]==val):\n",
    "        print(pivot)\n",
    "    else:\n",
    "        res1=bSearch(x, s, pivot-1, val)\n",
    "        res2=bSearch(x, pivot+1, e, val)\n",
    "        if(res1>=0):\n",
    "            print(res1)\n",
    "        elif(res2>=0):\n",
    "            print(res2)\n",
    "        else:\n",
    "            print(res2)\n",
    "    "
   ]
  },
  {
   "cell_type": "code",
   "execution_count": null,
   "metadata": {},
   "outputs": [],
   "source": []
  }
 ],
 "metadata": {
  "kernelspec": {
   "display_name": "Python 3",
   "language": "python",
   "name": "python3"
  },
  "language_info": {
   "codemirror_mode": {
    "name": "ipython",
    "version": 3
   },
   "file_extension": ".py",
   "mimetype": "text/x-python",
   "name": "python",
   "nbconvert_exporter": "python",
   "pygments_lexer": "ipython3",
   "version": "3.6.8"
  }
 },
 "nbformat": 4,
 "nbformat_minor": 2
}
