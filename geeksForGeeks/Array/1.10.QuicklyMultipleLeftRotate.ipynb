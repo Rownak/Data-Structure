{
 "cells": [
  {
   "cell_type": "markdown",
   "metadata": {},
   "source": [
    "Quickly find multiple left rotations of an array | Set 1\n",
    "\n",
    "Given an array of size n and multiple values around which we need to left rotate the array. How to quickly find multiple left rotations?"
   ]
  },
  {
   "cell_type": "code",
   "execution_count": 9,
   "metadata": {},
   "outputs": [
    {
     "name": "stdout",
     "output_type": "stream",
     "text": [
      "3\n",
      "\n",
      "5\n",
      "\n",
      "7\n",
      "\n"
     ]
    }
   ],
   "source": [
    "# Python3 implementation of  \n",
    "# left rotation of an array  \n",
    "# K number of times  \n",
    "  \n",
    "# Function to left rotate \n",
    "# an array k times \n",
    "def leftRotate(arr, n, k): \n",
    "      \n",
    "    # Print array  \n",
    "    # after k rotations \n",
    "    for i in range(k, k + n): \n",
    "        print(str(arr[i % n]),  \n",
    "                   end = \" \") \n",
    "  \n",
    "# Driver Code \n",
    "arr = [1, 3, 5, 7, 9] \n",
    "n = len(arr) \n",
    "k = 2; \n",
    "leftRotate(arr, n, k) \n",
    "print() \n",
    "  \n",
    "k = 3; \n",
    "leftRotate(arr, n, k) \n",
    "print() \n",
    "  \n",
    "k = 4\n",
    "leftRotate(arr, n, k) \n",
    "print() "
   ]
  },
  {
   "cell_type": "code",
   "execution_count": null,
   "metadata": {},
   "outputs": [],
   "source": []
  }
 ],
 "metadata": {
  "kernelspec": {
   "display_name": "Python 3",
   "language": "python",
   "name": "python3"
  },
  "language_info": {
   "codemirror_mode": {
    "name": "ipython",
    "version": 3
   },
   "file_extension": ".py",
   "mimetype": "text/x-python",
   "name": "python",
   "nbconvert_exporter": "python",
   "pygments_lexer": "ipython3",
   "version": "3.6.8"
  }
 },
 "nbformat": 4,
 "nbformat_minor": 2
}
