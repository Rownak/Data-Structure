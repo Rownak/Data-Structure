{
 "cells": [
  {
   "cell_type": "markdown",
   "metadata": {},
   "source": [
    "Find a rotation with maximum hamming distance\n",
    "Given an array of n elements, create a new array which is a rotation of given array and hamming distance between both the arrays is maximum.\n",
    "Hamming distance between two arrays or strings of equal length is the number of positions at which the corresponding character(elements) are different.\n",
    "\n",
    "Note: There can be more than one output for the given input.\n",
    "\n",
    "Examples:\n",
    "\n",
    "\n",
    "\n",
    "Input :  1 4 1\n",
    "Output :  2\n",
    "Explanation:  \n",
    "Maximum hamming distance = 2.\n",
    "We get this hamming distance with 4 1 1 \n",
    "or 1 1 4 \n",
    "\n",
    "input :  N = 4\n",
    "         2 4 8 0\n",
    "output :  4\n",
    "Explanation: \n",
    "Maximum hamming distance = 4\n",
    "We get this hamming distance with 4 8 0 2.\n",
    "All the places can be occupied by another digit.\n",
    "Other solutions can be 8 0 2 4, 4 0 2 8 etc. "
   ]
  },
  {
   "cell_type": "code",
   "execution_count": 2,
   "metadata": {},
   "outputs": [
    {
     "name": "stdout",
     "output_type": "stream",
     "text": [
      "2\n"
     ]
    }
   ],
   "source": [
    "arr = [1,4,1]\n",
    "\n",
    "n = len(arr)\n",
    "ham = 0\n",
    "maxHam = -1\n",
    "maxRot = 1\n",
    "#for rotation k\n",
    "for k in range(1,n):\n",
    "    ham=0\n",
    "    #check the hamming distance with original array\n",
    "    for i in range(n):\n",
    "        # (k+i)%n is the index after rotation\n",
    "        if(arr[i]!=arr[(k+i)%n]):\n",
    "            ham+=1\n",
    "    if(ham>maxHam):\n",
    "        maxHam=ham\n",
    "        maxRot = k\n",
    "print(maxHam)"
   ]
  },
  {
   "cell_type": "code",
   "execution_count": null,
   "metadata": {},
   "outputs": [],
   "source": []
  }
 ],
 "metadata": {
  "kernelspec": {
   "display_name": "Python 3",
   "language": "python",
   "name": "python3"
  },
  "language_info": {
   "codemirror_mode": {
    "name": "ipython",
    "version": 3
   },
   "file_extension": ".py",
   "mimetype": "text/x-python",
   "name": "python",
   "nbconvert_exporter": "python",
   "pygments_lexer": "ipython3",
   "version": "3.6.8"
  }
 },
 "nbformat": 4,
 "nbformat_minor": 2
}
