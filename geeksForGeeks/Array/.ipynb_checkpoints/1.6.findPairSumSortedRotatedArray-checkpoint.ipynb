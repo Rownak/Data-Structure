{
 "cells": [
  {
   "cell_type": "code",
   "execution_count": 6,
   "metadata": {},
   "outputs": [],
   "source": [
    "def findPivot(arr, start, end, n):\n",
    "    # This condition is needed to  \n",
    "    # handle the case when array \n",
    "    # is not rotated at all \n",
    "    if(start<end):\n",
    "        return end-1\n",
    "    \n",
    "    # If there is only one  \n",
    "    # element left \n",
    "    if(start==end):\n",
    "        return start\n",
    "    \n",
    "    # Find mid \n",
    "    # (start + end)/2 \n",
    "    mid = (int)((start+end)/2)\n",
    "    print('mid: ', mid)\n",
    "    \n",
    "    # Check if element (mid) is \n",
    "    # max element. Consider  \n",
    "    # the cases like {3, 4, 5, 1, 2} \n",
    "    \n",
    "    if(mid<end and arr[mid]>arr[mid+1]):\n",
    "        return mid\n",
    "    \n",
    "    # Check if element (mid-1) is \n",
    "    # max element. Consider  \n",
    "    # the cases like {3, 4, 5, 1, 2} \n",
    "    \n",
    "    if(mid>start and arr[mid-1]>arr[mid]):\n",
    "        return mid-1\n",
    "    \n",
    "    \n",
    "    # Decide whether we need to go \n",
    "    # to left half or right half \n",
    "    if(arr[start]>arr[mid]):\n",
    "        return findPivot(arr, start, mid-1, n)\n",
    "    return findPivot(arr, mid+1, end, n)"
   ]
  },
  {
   "cell_type": "code",
   "execution_count": 7,
   "metadata": {},
   "outputs": [
    {
     "data": {
      "text/plain": [
       "5"
      ]
     },
     "execution_count": 7,
     "metadata": {},
     "output_type": "execute_result"
    }
   ],
   "source": [
    "x = [5,6,7,8,1,2,4]\n",
    "n = len(x)\n",
    "y = findPivot(x, 0, n-1, n )\n",
    "y"
   ]
  },
  {
   "cell_type": "code",
   "execution_count": 73,
   "metadata": {},
   "outputs": [],
   "source": [
    "def findSum(arr, left, right, n, key):\n",
    "    # no sum\n",
    "    if(left==right):\n",
    "        return -1\n",
    "    # search from the end\n",
    "    elif(left<0):\n",
    "        left = n-1\n",
    "    #search from the start\n",
    "    elif(right>n-1):\n",
    "        right = 0\n",
    "    \n",
    "    sumValue = arr[left]+arr[right]\n",
    "    \n",
    "    # increase right as going right will provide greater values\n",
    "    if(sumValue<key):\n",
    "        return findSum(arr, left, right+1, n, key)\n",
    "    # decrease left as going left will provide lower values\n",
    "    elif(sumValue>key):\n",
    "        return findSum(arr, left-1, right, n, key)\n",
    "    # sum is found\n",
    "    elif(sumValue==key):\n",
    "        return left, right\n",
    "    "
   ]
  },
  {
   "cell_type": "code",
   "execution_count": 75,
   "metadata": {},
   "outputs": [
    {
     "data": {
      "text/plain": [
       "(3, 4)"
      ]
     },
     "execution_count": 75,
     "metadata": {},
     "output_type": "execute_result"
    }
   ],
   "source": [
    "x = [5,6,7,8,1,2,4]\n",
    "key = 9\n",
    "n=len(x)\n",
    "y = findPivot(x,0,n-1, n)\n",
    "if(y==len(x)-1):\n",
    "    print(-1)\n",
    "z = findSum(x, y, y+1, n, key)\n",
    "z"
   ]
  },
  {
   "cell_type": "code",
   "execution_count": 1,
   "metadata": {},
   "outputs": [],
   "source": [
    "def findPivot(arr, start, end, n):\n",
    "    if(start==end):\n",
    "        return start\n",
    "    mid = (int)((start+end)/2)\n",
    "    #checking if the pivot is the leftmost\n",
    "    if(mid==0 and arr[mid]>arr[mid+1]):\n",
    "        return mid\n",
    "    #checking if the pivot is just before the rightmost\n",
    "    elif(mid==n-1 and arr[mid]<arr[mid-1]):\n",
    "        return mid-1\n",
    "    #find the pivot in middle of array\n",
    "    elif(arr[mid]>arr[mid-1] and arr[mid]>arr[mid+1]):\n",
    "        return mid\n",
    "    \n",
    "    \n",
    "    #pivot is at left part\n",
    "    if(arr[mid]<arr[start]):\n",
    "        return findPivot(arr, start, mid, n)\n",
    "    #pivot is at right part\n",
    "    elif(arr[mid]>arr[end]):\n",
    "        return findPivot(arr, mid, end, n)\n",
    "    # array is sorted so pivot is at the end\n",
    "    else:\n",
    "        return end\n",
    "        \n",
    "def findSum(arr, left, right, n, key):\n",
    "    # no sum\n",
    "    if(left==right):\n",
    "        return False\n",
    "    # search from the end\n",
    "    elif(left<0):\n",
    "        left = n-1\n",
    "    #search from the start\n",
    "    elif(right>n-1):\n",
    "        right = 0\n",
    "    \n",
    "    sumValue = arr[left]+arr[right]\n",
    "    \n",
    "    # increase right as going right will provide greater values\n",
    "    if(sumValue<key):\n",
    "        return findSum(arr, left, (right+1)%n, n, key)\n",
    "    # decrease left as going left will provide lower values\n",
    "    elif(sumValue>key):\n",
    "        return findSum(arr, (n+left-1)%n, right, n, key)\n",
    "    # sum is found\n",
    "    elif(sumValue==key):\n",
    "        return True\n",
    "    return False\n",
    "    \n",
    "    \n",
    "def pairInSortedRotated( arr, n, x ):\n",
    "    y=findPivot(arr, 0, n-1, n)\n",
    "    return findSum(arr, y, (y+1)%n, n, key)"
   ]
  },
  {
   "cell_type": "code",
   "execution_count": 3,
   "metadata": {},
   "outputs": [
    {
     "data": {
      "text/plain": [
       "True"
      ]
     },
     "execution_count": 3,
     "metadata": {},
     "output_type": "execute_result"
    }
   ],
   "source": [
    "x = [5,6,7,8,1,2,4]\n",
    "key = 9\n",
    "n=len(x)\n",
    "pairInSortedRotated(x, n, key)"
   ]
  },
  {
   "cell_type": "code",
   "execution_count": null,
   "metadata": {},
   "outputs": [],
   "source": []
  }
 ],
 "metadata": {
  "kernelspec": {
   "display_name": "Python 3",
   "language": "python",
   "name": "python3"
  },
  "language_info": {
   "codemirror_mode": {
    "name": "ipython",
    "version": 3
   },
   "file_extension": ".py",
   "mimetype": "text/x-python",
   "name": "python",
   "nbconvert_exporter": "python",
   "pygments_lexer": "ipython3",
   "version": "3.7.3"
  }
 },
 "nbformat": 4,
 "nbformat_minor": 2
}
