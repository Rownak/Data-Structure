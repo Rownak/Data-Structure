{
 "cells": [
  {
   "cell_type": "markdown",
   "metadata": {},
   "source": [
    "Minimum swaps required to bring all elements less than or equal to k together\n",
    "Given an array of n positive integers and a number k. Find the minimum number of swaps required to bring all the numbers less than or equal to k together.\n",
    "\n",
    "Input:  arr[] = {2, 1, 5, 6, 3}, k = 3\n",
    "Output: 1\n",
    "\n",
    "Explanation: \n",
    "To bring elements 2, 1, 3 together, swap \n",
    "element '5' with '3' such that final array\n",
    "will be-\n",
    "arr[] = {2, 1, 3, 6, 5}\n",
    "\n",
    "Input:  arr[] = {2, 7, 9, 5, 8, 7, 4}, k = 5\n",
    "Output: 2"
   ]
  },
  {
   "cell_type": "markdown",
   "metadata": {},
   "source": [
    "1. count (countK) how many numbers are less than or equal to k\n",
    "2. Starting from the beginning, count how many numbers is greater than k in between the range countK\n",
    "3. take the minimum"
   ]
  },
  {
   "cell_type": "code",
   "execution_count": 86,
   "metadata": {},
   "outputs": [],
   "source": [
    "\n",
    "def minSwapsKtogether(arr, k):\n",
    "    n=len(arr)\n",
    "    countK=0\n",
    "    #counting all the elements that are less or equal to k\n",
    "    for i in range(n):\n",
    "        if(arr[i]<=k):\n",
    "            countK+=1\n",
    "    minCount=10000\n",
    "    # loop the range countK from 0 to end-countK and check if any range have minimum value to swap\n",
    "    for i in range(0, n-countK+1):\n",
    "        count=0\n",
    "        #print('i',i, 'end', i+countK)\n",
    "        for j in range(i, i+countK):\n",
    "            if(arr[j]>k):\n",
    "                count+=1\n",
    "        #print('c',count)\n",
    "        minCount = min(count,minCount)\n",
    "\n",
    "    print(minCount)"
   ]
  },
  {
   "cell_type": "code",
   "execution_count": 87,
   "metadata": {},
   "outputs": [
    {
     "name": "stdout",
     "output_type": "stream",
     "text": [
      "0\n"
     ]
    }
   ],
   "source": [
    "arr = [497, 444, 294, 120]\n",
    "k=155\n",
    "minSwapsKtogether(arr, k)"
   ]
  },
  {
   "cell_type": "code",
   "execution_count": null,
   "metadata": {},
   "outputs": [],
   "source": []
  }
 ],
 "metadata": {
  "kernelspec": {
   "display_name": "Python 3",
   "language": "python",
   "name": "python3"
  },
  "language_info": {
   "codemirror_mode": {
    "name": "ipython",
    "version": 3
   },
   "file_extension": ".py",
   "mimetype": "text/x-python",
   "name": "python",
   "nbconvert_exporter": "python",
   "pygments_lexer": "ipython3",
   "version": "3.7.3"
  }
 },
 "nbformat": 4,
 "nbformat_minor": 2
}
