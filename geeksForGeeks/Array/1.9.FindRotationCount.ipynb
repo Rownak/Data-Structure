{
 "cells": [
  {
   "cell_type": "code",
   "execution_count": null,
   "metadata": {},
   "outputs": [],
   "source": [
    "#code\n",
    "\n",
    "def rotationCount(arr):\n",
    "    n = len(arr)\n",
    "    for i in range(n-1):\n",
    "        if(arr[i]>arr[i+1]):\n",
    "            break;\n",
    "    if(arr[i]>arr[i+1]):\n",
    "        return i+1\n",
    "    else:\n",
    "        return 0\n",
    "\n",
    "t = int(input())\n",
    "for i in range(t):\n",
    "    n = input()\n",
    "    arr= [int(x) for x in input().split()]\n",
    "    out = rotationCount(arr)\n",
    "    print(out)"
   ]
  },
  {
   "cell_type": "code",
   "execution_count": 32,
   "metadata": {},
   "outputs": [
    {
     "name": "stdout",
     "output_type": "stream",
     "text": [
      "1\n"
     ]
    }
   ],
   "source": [
    "# Binary Search based Python3  \n",
    "# program to find number of  \n",
    "# rotations in a sorted and \n",
    "# rotated array. \n",
    "  \n",
    "# Returns count of rotations for \n",
    "# an array which is first sorted  \n",
    "# in ascending order, then rotated \n",
    "def rotationCountLoop(arr, l, h):\n",
    "    n = len(arr)\n",
    "    for i in range(l,h-1):\n",
    "        if(arr[i]>arr[i+1]):\n",
    "            break;\n",
    "    if(arr[i]>arr[i+1]):\n",
    "        return i+1\n",
    "    else:\n",
    "        return 0\n",
    "def countRotations(arr,low, high): \n",
    "  \n",
    "    # This condition is needed to  \n",
    "    # handle the case when array \n",
    "    # is not rotated at all \n",
    "    if (high < low): \n",
    "        return 0\n",
    "  \n",
    "    # If there is only one  \n",
    "    # element left \n",
    "    if (high == low): \n",
    "        return low \n",
    "  \n",
    "    # Find mid \n",
    "    # (low + high)/2  \n",
    "    mid = low + (high - low)/2;  \n",
    "    mid = int(mid) \n",
    "    # Check if element (mid+1) is \n",
    "    # minimum element. Consider  \n",
    "    # the cases like {3, 4, 5, 1, 2} \n",
    "    if (mid < high and arr[mid+1] < arr[mid]): \n",
    "        return (mid+1) \n",
    "  \n",
    "    # Check if mid itself is  \n",
    "    # minimum element \n",
    "    if (mid > low and arr[mid] < arr[mid - 1]): \n",
    "        return mid \n",
    "  \n",
    "    # Decide whether we need to go \n",
    "    # to left half or right half \n",
    "    if (arr[high] > arr[mid]):\n",
    "        return countRotations(arr, low, mid-1); \n",
    "    if (arr[low] > arr[mid]):\n",
    "        return countRotations(arr, mid+1, high) \n",
    "    else:\n",
    "        return rotationCountLoop(arr, low, high) \n",
    "  \n",
    "# Driver code \n",
    "arr = [2, 1, 2, 2, 2] \n",
    "n = len(arr) \n",
    "print(countRotations(arr, 0, n-1))"
   ]
  },
  {
   "cell_type": "code",
   "execution_count": 18,
   "metadata": {},
   "outputs": [
    {
     "name": "stdout",
     "output_type": "stream",
     "text": [
      "1\n",
      "5\n",
      "2 1 2 2 2\n",
      "mid 2\n",
      "mid 3\n",
      "4\n"
     ]
    }
   ],
   "source": [
    "t = int(input())\n",
    "for i in range(t):\n",
    "    n = int(input())\n",
    "    arr= [int(x) for x in input().split()]\n",
    "    out = countRotations(arr, 0, n-1)\n",
    "    print(out)"
   ]
  },
  {
   "cell_type": "code",
   "execution_count": 22,
   "metadata": {},
   "outputs": [
    {
     "name": "stdout",
     "output_type": "stream",
     "text": [
      "4\n"
     ]
    }
   ],
   "source": [
    "#code\n",
    "\n",
    "def rotationCount(arr, l, r):\n",
    "\n",
    "    if(l>r):\n",
    "        return 0\n",
    "    if(l==r):\n",
    "        return r\n",
    "    mid = l + (r - l)/2;  \n",
    "    mid = int(mid)\n",
    "    #print('mid',mid)\n",
    "    if(mid<r and arr[mid]>arr[mid+1]):\n",
    "        return mid+1\n",
    "    if(mid>l and arr[mid]< arr[mid-1]):\n",
    "        return mid\n",
    "    \n",
    "    if(arr[r]>arr[mid]):\n",
    "        return rotationCount(arr, l, mid-1)\n",
    "    return rotationCount(arr, mid+1, r)\n",
    "# Driver code \n",
    "arr = [2, 1, 2, 2, 2] \n",
    "n = len(arr) \n",
    "print(rotationCount(arr, 0, n-1)) \n",
    "    \n"
   ]
  },
  {
   "cell_type": "code",
   "execution_count": null,
   "metadata": {},
   "outputs": [],
   "source": [
    "t = int(input())\n",
    "for i in range(t):\n",
    "    n = int(input())\n",
    "    arr= [int(x) for x in input().split()]\n",
    "    out = rotationCount(arr, 0, n-1, n)\n",
    "    print(out)"
   ]
  }
 ],
 "metadata": {
  "kernelspec": {
   "display_name": "Python 3",
   "language": "python",
   "name": "python3"
  },
  "language_info": {
   "codemirror_mode": {
    "name": "ipython",
    "version": 3
   },
   "file_extension": ".py",
   "mimetype": "text/x-python",
   "name": "python",
   "nbconvert_exporter": "python",
   "pygments_lexer": "ipython3",
   "version": "3.6.8"
  }
 },
 "nbformat": 4,
 "nbformat_minor": 2
}
