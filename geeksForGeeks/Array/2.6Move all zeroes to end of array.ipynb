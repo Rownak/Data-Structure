{
 "cells": [
  {
   "cell_type": "markdown",
   "metadata": {},
   "source": [
    "Move all zeroes to end of array\n",
    "Given an array of random numbers, Push all the zero’s of a given array to the end of the array. For example, if the given arrays is {1, 9, 8, 4, 0, 0, 2, 7, 0, 6, 0}, it should be changed to {1, 9, 8, 4, 2, 7, 6, 0, 0, 0, 0}. The order of all other elements should be same. Expected time complexity is O(n) and extra space is O(1).\n",
    "\n",
    "Example:\n",
    "\n",
    "Input :  arr[] = {1, 2, 0, 4, 3, 0, 5, 0};\n",
    "Output : arr[] = {1, 2, 4, 3, 5, 0, 0};\n",
    "\n",
    "Input : arr[]  = {1, 2, 0, 0, 0, 3, 6};\n",
    "Output : arr[] = {1, 2, 3, 6, 0, 0, 0};"
   ]
  },
  {
   "cell_type": "code",
   "execution_count": 11,
   "metadata": {},
   "outputs": [],
   "source": [
    "def moveZeroEnd(arr):\n",
    "    k = len(arr)-1\n",
    "    zeroCount=0\n",
    "    j=0\n",
    "    for i in range(len(arr)):\n",
    "        if(arr[i]==0):\n",
    "            zeroCount+=1\n",
    "        elif(arr[i]!=0):\n",
    "            arr[j]=arr[i]\n",
    "            j+=1\n",
    "    for k in range(j,len(arr)):\n",
    "        arr[k]=0\n",
    "    #print('j', j)\n",
    "    #print('zeroCount', zeroCount)\n",
    "    print(*arr)"
   ]
  },
  {
   "cell_type": "markdown",
   "metadata": {},
   "source": [
    "execution time: 0.08"
   ]
  },
  {
   "cell_type": "code",
   "execution_count": 12,
   "metadata": {},
   "outputs": [
    {
     "name": "stdout",
     "output_type": "stream",
     "text": [
      "j 8\n",
      "zeroCount 9\n",
      "[1, 2, 3, 4, 5, 6, 7, 8, 0, 0, 0, 0, 0, 0, 0, 0, 0]\n"
     ]
    }
   ],
   "source": [
    "x = [1,2,3,0,0,0,4,0,5,0,0,6,7,8,0,0,0]\n",
    "moveZeroEnd(x)"
   ]
  },
  {
   "cell_type": "code",
   "execution_count": 13,
   "metadata": {},
   "outputs": [],
   "source": [
    "def moveZeroEnd2(arr):\n",
    "    j=0\n",
    "    for i in range(len(arr)):\n",
    "        if(arr[i]!=0):\n",
    "            arr[i], arr[j] = arr[j], arr[i]\n",
    "            j+=1\n",
    "    print(*arr)"
   ]
  },
  {
   "cell_type": "code",
   "execution_count": 14,
   "metadata": {},
   "outputs": [
    {
     "name": "stdout",
     "output_type": "stream",
     "text": [
      "1 2 3 4 5 6 7 8 0 0 0 0 0 0 0 0 0\n"
     ]
    }
   ],
   "source": [
    "x = [1,2,3,0,0,0,4,0,5,0,0,6,7,8,0,0,0]\n",
    "moveZeroEnd2(x)"
   ]
  },
  {
   "cell_type": "code",
   "execution_count": null,
   "metadata": {},
   "outputs": [],
   "source": [
    "Execution Time:0.08"
   ]
  }
 ],
 "metadata": {
  "kernelspec": {
   "display_name": "Python 3",
   "language": "python",
   "name": "python3"
  },
  "language_info": {
   "codemirror_mode": {
    "name": "ipython",
    "version": 3
   },
   "file_extension": ".py",
   "mimetype": "text/x-python",
   "name": "python",
   "nbconvert_exporter": "python",
   "pygments_lexer": "ipython3",
   "version": "3.6.8"
  }
 },
 "nbformat": 4,
 "nbformat_minor": 2
}
