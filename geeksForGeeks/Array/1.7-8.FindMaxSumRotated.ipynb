{
 "cells": [
  {
   "cell_type": "markdown",
   "metadata": {},
   "source": [
    "Find maximum value of Sum( i*arr[i]) with only rotations on given array allowed\n",
    "\n",
    "Given an array, only rotation operation is allowed on array. We can rotate the array as many times as we want. Return the maximum possbile of summation of i*arr[i].\n",
    "\n",
    "Examples :\n",
    "\n",
    "Input: arr[] = {1, 20, 2, 10}\n",
    "\n",
    "Output: 72\n",
    "\n",
    "We can 72 by rotating array twice.\n",
    "\n",
    "{2, 10, 1, 20}\n",
    "\n",
    "20*3 + 1*2 + 10*1 + 2*0 = 72\n",
    "\n",
    "Input: arr[] = {10, 1, 2, 3, 4, 5, 6, 7, 8, 9};\n",
    "\n",
    "Output: 330\n",
    "\n",
    "We can 330 by rotating array 9 times.\n",
    "\n",
    "{1, 2, 3, 4, 5, 6, 7, 8, 9, 10};\n",
    "\n",
    "0*1 + 1*2 + 2*3 ... 9*10 = 330"
   ]
  },
  {
   "cell_type": "markdown",
   "metadata": {},
   "source": [
    "$R_0 = 0*arr[0] + 1*arr[1] + 2*arr[2] + ..... +(n-2)*arr[n-2] + (n-1)*arr[n-1]$\n",
    "$R_1 = 0*arr[n-1] + 1*arr[0] + 2*arr[1] + ..... +(n-2)*arr[n-3] + (n-1)*arr[n-2]$\n",
    "$R_2 = 0*arr[n-2] + 1*arr[n-1] + 2*arr[0] + ..... + (n-1)*arr[n-3]$\n",
    "\n",
    "$R_1 - R_0 = arr[0] + arr[1] + .... + arr[n-2] - (n-1)*arr[n-1] $\n",
    "$R_1 - R_0 = arr[0] + arr[1] + .... + arr[n-2] + arr[n-1] + n*arr[n-1] $\n",
    "\n",
    "$R_2 - R_1 = arr[0] + arr[1] + .... + arr[n-1] + n*arr[n-2] $\n",
    "\n",
    "$R_j - R_{j-1} = arrSum + n*arr[n-j] $\n",
    "\n"
   ]
  },
  {
   "cell_type": "code",
   "execution_count": 4,
   "metadata": {},
   "outputs": [],
   "source": [
    "arr = [8, 3, 1, 2]\n",
    "n=len(arr)\n",
    "sumArr = 0\n",
    "curVal = 0\n",
    "# Finding arrSum and R_0= currVal\n",
    "for i, num in enumerate(arr):\n",
    "    sumArr = sumArr + num\n",
    "    curVal = curVal + i*num\n",
    "maxArr = curVal\n"
   ]
  },
  {
   "cell_type": "markdown",
   "metadata": {},
   "source": [
    "$R_0 = maxArr$\n",
    "\n",
    "Find $R_1-R_0$ using the above formula\n",
    "\n",
    "Then use loop to find next $R_j$\n",
    "\n",
    "$R_j - R_{j-1} + R_{j-1}$"
   ]
  },
  {
   "cell_type": "code",
   "execution_count": 5,
   "metadata": {},
   "outputs": [
    {
     "name": "stdout",
     "output_type": "stream",
     "text": [
      "29\n"
     ]
    }
   ],
   "source": [
    "for i in range(1,n):\n",
    "    curVal =  curVal + sumArr - n*arr[n-i]\n",
    "    if(curVal>maxArr):\n",
    "        maxArr=curVal\n",
    "print(maxArr)      "
   ]
  },
  {
   "cell_type": "code",
   "execution_count": null,
   "metadata": {},
   "outputs": [],
   "source": []
  }
 ],
 "metadata": {
  "kernelspec": {
   "display_name": "Python 3",
   "language": "python",
   "name": "python3"
  },
  "language_info": {
   "codemirror_mode": {
    "name": "ipython",
    "version": 3
   },
   "file_extension": ".py",
   "mimetype": "text/x-python",
   "name": "python",
   "nbconvert_exporter": "python",
   "pygments_lexer": "ipython3",
   "version": "3.6.8"
  }
 },
 "nbformat": 4,
 "nbformat_minor": 2
}
