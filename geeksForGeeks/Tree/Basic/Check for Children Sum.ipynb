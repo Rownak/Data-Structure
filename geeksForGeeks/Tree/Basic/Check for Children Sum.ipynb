{
 "cells": [
  {
   "cell_type": "code",
   "execution_count": 41,
   "metadata": {},
   "outputs": [],
   "source": [
    "class Node:\n",
    "    def __init__(self, data):\n",
    "        self.data = data\n",
    "        self.left = None\n",
    "        self.right = None"
   ]
  },
  {
   "cell_type": "code",
   "execution_count": 48,
   "metadata": {},
   "outputs": [],
   "source": [
    "def check_children_sum(root):\n",
    "    if(root == None):\n",
    "        return 0\n",
    "    elif(root.left==None and root.right==None):\n",
    "        return root.data\n",
    "    root_sum= check_children_sum(root.left)+check_children_sum(root.right)\n",
    "    #print(root_sum)\n",
    "    return root_sum"
   ]
  },
  {
   "cell_type": "code",
   "execution_count": 72,
   "metadata": {},
   "outputs": [],
   "source": [
    "def check_children_sum_sim(root):\n",
    "    l_sum =0\n",
    "    r_sum =0\n",
    "    \n",
    "    if(root==None or (root.left==None and root.right == None)):\n",
    "        return True\n",
    "    if(root.left!=None):\n",
    "        l_sum = root.left.data\n",
    "    if(root.right!=None):\n",
    "        r_sum = root.right.data\n",
    "    #print(\"root_data:\",root.data)\n",
    "    #print(\"sum:\",l_sum+r_sum)\n",
    "\n",
    "    return (root.data == (l_sum+r_sum)) and check_children_sum_sim(root.left) and check_children_sum_sim(root.right)"
   ]
  },
  {
   "cell_type": "code",
   "execution_count": 73,
   "metadata": {},
   "outputs": [],
   "source": [
    "a = Node(10)\n",
    "a.left = Node(8)\n",
    "a.right = Node(2)\n",
    "a.left.left = Node(5)\n",
    "a.left.right = Node(3)\n",
    "a.right.right = Node(2)\n",
    "a.left.left.left = Node(3)\n",
    "a.left.left.right = Node(2)\n",
    "a.right.right.left = Node(1)\n",
    "a.right.right.right = Node(2)"
   ]
  },
  {
   "cell_type": "code",
   "execution_count": 74,
   "metadata": {},
   "outputs": [
    {
     "data": {
      "text/plain": [
       "False"
      ]
     },
     "execution_count": 74,
     "metadata": {},
     "output_type": "execute_result"
    }
   ],
   "source": [
    "check_children_sum_sim(a)"
   ]
  },
  {
   "cell_type": "code",
   "execution_count": 75,
   "metadata": {},
   "outputs": [
    {
     "data": {
      "text/plain": [
       "11"
      ]
     },
     "execution_count": 75,
     "metadata": {},
     "output_type": "execute_result"
    }
   ],
   "source": [
    "check_children_sum(a)"
   ]
  },
  {
   "cell_type": "code",
   "execution_count": null,
   "metadata": {},
   "outputs": [],
   "source": []
  }
 ],
 "metadata": {
  "kernelspec": {
   "display_name": "Python 3",
   "language": "python",
   "name": "python3"
  },
  "language_info": {
   "codemirror_mode": {
    "name": "ipython",
    "version": 3
   },
   "file_extension": ".py",
   "mimetype": "text/x-python",
   "name": "python",
   "nbconvert_exporter": "python",
   "pygments_lexer": "ipython3",
   "version": "3.6.10"
  }
 },
 "nbformat": 4,
 "nbformat_minor": 4
}
