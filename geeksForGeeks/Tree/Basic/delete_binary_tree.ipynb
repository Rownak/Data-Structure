{
 "cells": [
  {
   "cell_type": "code",
   "execution_count": 9,
   "metadata": {},
   "outputs": [],
   "source": [
    "class NewNode:\n",
    "    def __init__(self, item):\n",
    "        self.item = item\n",
    "        self.left = None\n",
    "        self.right = None\n"
   ]
  },
  {
   "cell_type": "code",
   "execution_count": 50,
   "metadata": {},
   "outputs": [],
   "source": [
    "def deleteDeepMostNode(root, del_node):\n",
    "    if(root == None):\n",
    "        return None\n",
    "    q=[]\n",
    "    q.append(root)\n",
    "    while(len(q)>0):\n",
    "        temp = q.pop(0)\n",
    "        if(temp is del_node):\n",
    "            temp = None\n",
    "            return\n",
    "        if(temp.left):\n",
    "            if(temp.left is del_node):\n",
    "                temp.left = None\n",
    "                return\n",
    "            else:\n",
    "                q.append(temp.left)\n",
    "        if(temp.right):\n",
    "            if(temp.right is del_node):\n",
    "                temp.right = None\n",
    "                return\n",
    "            else:\n",
    "                q.append(temp.right)"
   ]
  },
  {
   "cell_type": "code",
   "execution_count": 58,
   "metadata": {},
   "outputs": [],
   "source": [
    "def deletion(root, key):\n",
    "    if(root == None):\n",
    "        return None\n",
    "    if(root.right == None or root.left == None):\n",
    "        if(root.item == key):\n",
    "            root = None\n",
    "            return None\n",
    "        else:\n",
    "            return root\n",
    "    q=[]\n",
    "    q.append(root)\n",
    "    key_node = None\n",
    "    while(len(q)>0):\n",
    "        temp = q.pop(0)\n",
    "        if(temp.item == key):\n",
    "            key_node = temp\n",
    "        if(temp.left is not None):\n",
    "            q.append(temp.left)\n",
    "        if(temp.right):\n",
    "            q.append(temp.right)\n",
    "    if(key_node):\n",
    "        x = temp.item\n",
    "        deleteDeepMostNode(root, temp)\n",
    "        \n",
    "        key_node.item = x\n",
    "    return root"
   ]
  },
  {
   "cell_type": "code",
   "execution_count": 59,
   "metadata": {},
   "outputs": [],
   "source": [
    "def inorder(root):\n",
    "    if(not root):\n",
    "        return\n",
    "    inorder(root.left)\n",
    "    print(root.item, \" \")\n",
    "    inorder(root.right)"
   ]
  },
  {
   "cell_type": "code",
   "execution_count": 60,
   "metadata": {},
   "outputs": [],
   "source": [
    "import numpy as np\n",
    "import matplotlib.pyplot as plt\n",
    "def drawBST_(T, x0, x1, y, y_inc,ax):\n",
    "    if T is not None:\n",
    "        xm = (x0+x1)/2\n",
    "        yn = y-y_inc\n",
    "        if T.left is not None:\n",
    "            p=np.array([[xm,y], [(x0+xm)/2,yn]])\n",
    "            ax.plot(p[:,0],p[:,1],linewidth=1,color='k')\n",
    "            drawBST_(T.left,x0,xm,yn, y_inc,ax)\n",
    "        if T.right is not None:\n",
    "            p=np.array([[xm,y], [(x1+xm)/2,yn]])\n",
    "            ax.plot(p[:,0],p[:,1],linewidth=1,color='k')\n",
    "            drawBST_(T.right,xm,x1,yn, y_inc,ax)\n",
    "        ax.text(xm,y, str(T.item), size=10,ha=\"center\", va=\"center\",\n",
    "            bbox=dict(facecolor='w',boxstyle=\"circle\"))\n",
    "\n",
    "def drawBST(T): \n",
    "    #plt.close('all') \n",
    "    fig, ax = plt.subplots()\n",
    "    drawBST_(T, 0, 800, 800, 80, ax)\n",
    "    ax.set_aspect(1.0)\n",
    "    ax.axis('off') \n",
    "    plt.show()"
   ]
  },
  {
   "cell_type": "code",
   "execution_count": 61,
   "metadata": {},
   "outputs": [
    {
     "name": "stdout",
     "output_type": "stream",
     "text": [
      "The tree before the deletion:\n",
      "7  \n",
      "11  \n",
      "12  \n",
      "10  \n",
      "15  \n",
      "9  \n",
      "8  \n"
     ]
    },
    {
     "data": {
      "image/png": "[encoded data removed]",
      "text/plain": [
       "<matplotlib.figure.Figure at 0x111da7da0>"
      ]
     },
     "metadata": {
      "needs_background": "light"
     },
     "output_type": "display_data"
    }
   ],
   "source": [
    "root = NewNode(10) \n",
    "root.left = NewNode(11) \n",
    "root.left.left = NewNode(7) \n",
    "root.left.right = NewNode(12) \n",
    "root.right = NewNode(9) \n",
    "root.right.left = NewNode(15) \n",
    "root.right.right = NewNode(8) \n",
    "print(\"The tree before the deletion:\") \n",
    "inorder(root) \n",
    "drawBST(root)"
   ]
  },
  {
   "cell_type": "code",
   "execution_count": 62,
   "metadata": {},
   "outputs": [],
   "source": [
    "root = deletion(root, 11)"
   ]
  },
  {
   "cell_type": "code",
   "execution_count": 63,
   "metadata": {},
   "outputs": [
    {
     "data": {
      "image/png": "[encoded data removed]",
      "text/plain": [
       "<matplotlib.figure.Figure at 0x111cbd5c0>"
      ]
     },
     "metadata": {
      "needs_background": "light"
     },
     "output_type": "display_data"
    }
   ],
   "source": [
    "drawBST(root)"
   ]
  },
  {
   "cell_type": "code",
   "execution_count": 64,
   "metadata": {},
   "outputs": [
    {
     "name": "stdout",
     "output_type": "stream",
     "text": [
      "7  \n",
      "8  \n",
      "12  \n",
      "10  \n",
      "15  \n",
      "9  \n"
     ]
    }
   ],
   "source": [
    "inorder(root) "
   ]
  },
  {
   "cell_type": "code",
   "execution_count": 65,
   "metadata": {},
   "outputs": [
    {
     "data": {
      "image/png": "[encoded data removed]",
      "text/plain": [
       "<matplotlib.figure.Figure at 0x1117c75f8>"
      ]
     },
     "metadata": {
      "needs_background": "light"
     },
     "output_type": "display_data"
    }
   ],
   "source": [
    "root = deletion(root, 10)\n",
    "drawBST(root)"
   ]
  },
  {
   "cell_type": "code",
   "execution_count": null,
   "metadata": {},
   "outputs": [],
   "source": []
  }
 ],
 "metadata": {
  "kernelspec": {
   "display_name": "Python 3",
   "language": "python",
   "name": "python3"
  },
  "language_info": {
   "codemirror_mode": {
    "name": "ipython",
    "version": 3
   },
   "file_extension": ".py",
   "mimetype": "text/x-python",
   "name": "python",
   "nbconvert_exporter": "python",
   "pygments_lexer": "ipython3",
   "version": "3.6.10"
  }
 },
 "nbformat": 4,
 "nbformat_minor": 4
}
