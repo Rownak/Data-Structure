{
 "cells": [
  {
   "cell_type": "code",
   "execution_count": 3,
   "metadata": {},
   "outputs": [],
   "source": [
    "class Node:\n",
    "    def __init__(self, data):\n",
    "        self.data = data\n",
    "        self.left = None\n",
    "        self.right = None"
   ]
  },
  {
   "cell_type": "code",
   "execution_count": 4,
   "metadata": {},
   "outputs": [],
   "source": [
    "def search(root, inorder):\n",
    "    for i in range(len(inorder)):\n",
    "        if(inorder[i]==root):\n",
    "            return i"
   ]
  },
  {
   "cell_type": "code",
   "execution_count": 5,
   "metadata": {},
   "outputs": [],
   "source": [
    "def search_in_level(inorder, levelorder):\n",
    "    new_level = []\n",
    "    for item in levelorder:\n",
    "        if(item in inorder):\n",
    "            new_level.append(item)\n",
    "    return new_level"
   ]
  },
  {
   "cell_type": "code",
   "execution_count": 6,
   "metadata": {},
   "outputs": [],
   "source": [
    "def construct_tree(inorder, levelorder):\n",
    "    if(len(inorder)==1):\n",
    "        top = levelorder.pop(0)\n",
    "        root = Node(top)\n",
    "        return root\n",
    "    elif(len(levelorder)<1):\n",
    "        return None\n",
    "    top = levelorder.pop(0)\n",
    "    print(\"top\",top)\n",
    "    print(\"in\", inorder)\n",
    "    root = Node(top)\n",
    "    top_pos = search(top, inorder)\n",
    "    new_level =search_in_level(inorder[0:top_pos],levelorder)\n",
    "    root.left = construct_tree(inorder[0:top_pos], new_level)\n",
    "    new_level =search_in_level(inorder[top_pos+1:],levelorder)\n",
    "    root.right = construct_tree(inorder[top_pos+1:], new_level)\n",
    "    return root"
   ]
  },
  {
   "cell_type": "code",
   "execution_count": 10,
   "metadata": {},
   "outputs": [
    {
     "name": "stdout",
     "output_type": "stream",
     "text": [
      "top A\n",
      "in ['D', 'B', 'E', 'A', 'C', 'F']\n",
      "top B\n",
      "in ['D', 'B', 'E']\n",
      "top C\n",
      "in ['C', 'F']\n"
     ]
    }
   ],
   "source": [
    "inorder = [\"D\", \"B\", \"E\", \"A\", \"C\", \"F\"]\n",
    "levelorder = [\"A\", \"B\", \"C\", \"D\", \"E\", \"F\"]\n",
    "root = None\n",
    "root = construct_tree(inorder, levelorder)"
   ]
  },
  {
   "cell_type": "code",
   "execution_count": 11,
   "metadata": {},
   "outputs": [],
   "source": [
    "import matplotlib.pyplot as plt\n",
    "import numpy as np\n",
    "def drawBST_(T, x0, x1, y, y_inc,ax):\n",
    "    if T is not None:\n",
    "        xm = (x0+x1)/2\n",
    "        yn = y-y_inc\n",
    "        if T.left is not None:\n",
    "            p=np.array([[xm,y], [(x0+xm)/2,yn]])\n",
    "            ax.plot(p[:,0],p[:,1],linewidth=1,color='k')\n",
    "            drawBST_(T.left,x0,xm,yn, y_inc,ax)\n",
    "        if T.right is not None:\n",
    "            p=np.array([[xm,y], [(x1+xm)/2,yn]])\n",
    "            ax.plot(p[:,0],p[:,1],linewidth=1,color='k')\n",
    "            drawBST_(T.right,xm,x1,yn, y_inc,ax)\n",
    "        ax.text(xm,y, str(T.data), size=10,ha=\"center\", va=\"center\",\n",
    "            bbox=dict(facecolor='w',boxstyle=\"circle\"))\n",
    "\n",
    "def drawBST(T): \n",
    "    #plt.close('all') \n",
    "    fig, ax = plt.subplots()\n",
    "    drawBST_(T, 0, 800, 800, 80, ax)\n",
    "    ax.set_aspect(1.0)\n",
    "    ax.axis('off') \n",
    "    plt.show()"
   ]
  },
  {
   "cell_type": "code",
   "execution_count": 12,
   "metadata": {},
   "outputs": [
    {
     "data": {
      "image/png": "[encoded data removed]",
      "text/plain": [
       "<matplotlib.figure.Figure at 0x10ebb9860>"
      ]
     },
     "metadata": {
      "needs_background": "light"
     },
     "output_type": "display_data"
    }
   ],
   "source": [
    "drawBST(root)"
   ]
  },
  {
   "cell_type": "code",
   "execution_count": null,
   "metadata": {},
   "outputs": [],
   "source": []
  }
 ],
 "metadata": {
  "kernelspec": {
   "display_name": "Python 3",
   "language": "python",
   "name": "python3"
  },
  "language_info": {
   "codemirror_mode": {
    "name": "ipython",
    "version": 3
   },
   "file_extension": ".py",
   "mimetype": "text/x-python",
   "name": "python",
   "nbconvert_exporter": "python",
   "pygments_lexer": "ipython3",
   "version": "3.6.10"
  }
 },
 "nbformat": 4,
 "nbformat_minor": 4
}
