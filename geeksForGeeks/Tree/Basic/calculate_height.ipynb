{
 "cells": [
  {
   "cell_type": "code",
   "execution_count": 7,
   "metadata": {},
   "outputs": [],
   "source": [
    "class NewNode:\n",
    "    def __init__(self, item):\n",
    "        self.item = item\n",
    "        self.left = None\n",
    "        self.right = None"
   ]
  },
  {
   "cell_type": "code",
   "execution_count": 11,
   "metadata": {},
   "outputs": [],
   "source": [
    "def calculate_height(temp):\n",
    "    if(temp == None):\n",
    "        return 0\n",
    "    left_h = calculate_height(temp.left) \n",
    "    right_h = calculate_height(temp.right)\n",
    "    if(left_h>right_h):\n",
    "        return left_h+1\n",
    "    else:\n",
    "        return right_h+1"
   ]
  },
  {
   "cell_type": "code",
   "execution_count": 8,
   "metadata": {},
   "outputs": [],
   "source": [
    "def inorder(temp):\n",
    "    if(not temp):\n",
    "        return \n",
    "    inorder(temp.left)\n",
    "    print(temp.item,\" \")\n",
    "    inorder(temp.right)\n",
    "def insert(temp,key):\n",
    "    q = []\n",
    "    q.append(temp)\n",
    "    \n",
    "    while(len(q)>0):\n",
    "        temp = q.pop(0)\n",
    "        \n",
    "        if(temp.left == None):\n",
    "            temp.left = NewNode(key)\n",
    "            break\n",
    "        else:\n",
    "            q.append(temp.left)\n",
    "        if(temp.right == None):\n",
    "            temp.right = NewNode(key)\n",
    "            break\n",
    "        else:\n",
    "            q.append(temp.right)\n",
    "def drawBST_(T, x0, x1, y, y_inc,ax):\n",
    "    if T is not None:\n",
    "        xm = (x0+x1)/2\n",
    "        yn = y-y_inc\n",
    "        if T.left is not None:\n",
    "            p=np.array([[xm,y], [(x0+xm)/2,yn]])\n",
    "            ax.plot(p[:,0],p[:,1],linewidth=1,color='k')\n",
    "            drawBST_(T.left,x0,xm,yn, y_inc,ax)\n",
    "        if T.right is not None:\n",
    "            p=np.array([[xm,y], [(x1+xm)/2,yn]])\n",
    "            ax.plot(p[:,0],p[:,1],linewidth=1,color='k')\n",
    "            drawBST_(T.right,xm,x1,yn, y_inc,ax)\n",
    "        ax.text(xm,y, str(T.item), size=10,ha=\"center\", va=\"center\",\n",
    "            bbox=dict(facecolor='w',boxstyle=\"circle\"))\n",
    "\n",
    "def drawBST(T): \n",
    "    #plt.close('all') \n",
    "    fig, ax = plt.subplots()\n",
    "    drawBST_(T, 0, 800, 800, 80, ax)\n",
    "    ax.set_aspect(1.0)\n",
    "    ax.axis('off') \n",
    "    plt.show()"
   ]
  },
  {
   "cell_type": "code",
   "execution_count": 13,
   "metadata": {},
   "outputs": [
    {
     "data": {
      "image/png": "[encoded data removed]",
      "text/plain": [
       "<matplotlib.figure.Figure at 0x1142fb198>"
      ]
     },
     "metadata": {
      "needs_background": "light"
     },
     "output_type": "display_data"
    }
   ],
   "source": [
    "import matplotlib.pyplot as plt\n",
    "import numpy as np\n",
    "root = NewNode(10)  \n",
    "root.left = NewNode(11)  \n",
    "root.left.left = NewNode(7)  \n",
    "root.right = NewNode(9)  \n",
    "root.right.left = NewNode(15)  \n",
    "root.right.right = NewNode(8)  \n",
    "root.right.right.right = NewNode(99)  \n",
    "drawBST(root)"
   ]
  },
  {
   "cell_type": "code",
   "execution_count": 14,
   "metadata": {},
   "outputs": [
    {
     "data": {
      "text/plain": [
       "4"
      ]
     },
     "execution_count": 14,
     "metadata": {},
     "output_type": "execute_result"
    }
   ],
   "source": [
    "calculate_height(root)"
   ]
  },
  {
   "cell_type": "code",
   "execution_count": null,
   "metadata": {},
   "outputs": [],
   "source": []
  }
 ],
 "metadata": {
  "kernelspec": {
   "display_name": "Python 3",
   "language": "python",
   "name": "python3"
  },
  "language_info": {
   "codemirror_mode": {
    "name": "ipython",
    "version": 3
   },
   "file_extension": ".py",
   "mimetype": "text/x-python",
   "name": "python",
   "nbconvert_exporter": "python",
   "pygments_lexer": "ipython3",
   "version": "3.6.10"
  }
 },
 "nbformat": 4,
 "nbformat_minor": 4
}
