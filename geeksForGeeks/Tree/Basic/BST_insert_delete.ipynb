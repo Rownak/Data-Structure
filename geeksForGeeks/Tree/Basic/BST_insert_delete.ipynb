{
 "cells": [
  {
   "cell_type": "code",
   "execution_count": 3,
   "metadata": {},
   "outputs": [],
   "source": [
    "class Node:\n",
    "    def __init__(self, data):\n",
    "        self.data = data\n",
    "        self.left = None\n",
    "        self.right = None"
   ]
  },
  {
   "cell_type": "code",
   "execution_count": 4,
   "metadata": {},
   "outputs": [],
   "source": [
    "def insert(root, new_node):\n",
    "    if(root == None):\n",
    "        root = new_node\n",
    "        return\n",
    "    if(new_node.data<root.data):\n",
    "        if(root.left == None):\n",
    "            root.left = new_node\n",
    "        else:\n",
    "            insert(root.left, new_node)\n",
    "    else:\n",
    "        if(root.right == None):\n",
    "            root.right = new_node\n",
    "        else:\n",
    "            insert(root.right, new_node)"
   ]
  },
  {
   "cell_type": "code",
   "execution_count": null,
   "metadata": {},
   "outputs": [],
   "source": [
    "def delete(root, data):\n",
    "    "
   ]
  },
  {
   "cell_type": "code",
   "execution_count": 8,
   "metadata": {},
   "outputs": [],
   "source": [
    "import matplotlib.pyplot as plt\n",
    "import numpy as np\n",
    "def drawBST_(T, x0, x1, y, y_inc,ax):\n",
    "    if T is not None:\n",
    "        xm = (x0+x1)/2\n",
    "        yn = y-y_inc\n",
    "        if T.left is not None:\n",
    "            p=np.array([[xm,y], [(x0+xm)/2,yn]])\n",
    "            ax.plot(p[:,0],p[:,1],linewidth=1,color='k')\n",
    "            drawBST_(T.left,x0,xm,yn, y_inc,ax)\n",
    "        if T.right is not None:\n",
    "            p=np.array([[xm,y], [(x1+xm)/2,yn]])\n",
    "            ax.plot(p[:,0],p[:,1],linewidth=1,color='k')\n",
    "            drawBST_(T.right,xm,x1,yn, y_inc,ax)\n",
    "        ax.text(xm,y, str(T.data), size=10,ha=\"center\", va=\"center\",\n",
    "            bbox=dict(facecolor='w',boxstyle=\"circle\"))\n",
    "\n",
    "def drawBST(T): \n",
    "    #plt.close('all') \n",
    "    fig, ax = plt.subplots()\n",
    "    drawBST_(T, 0, 800, 800, 80, ax)\n",
    "    ax.set_aspect(1.0)\n",
    "    ax.axis('off') \n",
    "    plt.show()"
   ]
  },
  {
   "cell_type": "code",
   "execution_count": 9,
   "metadata": {},
   "outputs": [],
   "source": [
    "root = Node(50)\n",
    "insert(root, Node(40))\n",
    "insert(root, Node(70))\n",
    "insert(root, Node(60))\n",
    "insert(root, Node(80))\n"
   ]
  },
  {
   "cell_type": "code",
   "execution_count": 10,
   "metadata": {},
   "outputs": [
    {
     "data": {
      "image/png": "[encoded data removed]",
      "text/plain": [
       "<matplotlib.figure.Figure at 0x106477ef0>"
      ]
     },
     "metadata": {
      "needs_background": "light"
     },
     "output_type": "display_data"
    }
   ],
   "source": [
    "drawBST(root)"
   ]
  },
  {
   "cell_type": "code",
   "execution_count": null,
   "metadata": {},
   "outputs": [],
   "source": []
  }
 ],
 "metadata": {
  "kernelspec": {
   "display_name": "Python 3",
   "language": "python",
   "name": "python3"
  },
  "language_info": {
   "codemirror_mode": {
    "name": "ipython",
    "version": 3
   },
   "file_extension": ".py",
   "mimetype": "text/x-python",
   "name": "python",
   "nbconvert_exporter": "python",
   "pygments_lexer": "ipython3",
   "version": "3.6.10"
  }
 },
 "nbformat": 4,
 "nbformat_minor": 4
}
