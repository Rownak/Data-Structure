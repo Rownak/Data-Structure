{
 "cells": [
  {
   "cell_type": "markdown",
   "metadata": {},
   "source": [
    "Remove Dups: Write code to remove duplicates from an unsorted linked list.\n",
    "FOLLOW UP\n",
    "How would you solve this problem if a temporary buffer is not allowed?\n",
    "Hints: #"
   ]
  },
  {
   "cell_type": "code",
   "execution_count": 1,
   "metadata": {},
   "outputs": [],
   "source": [
    "class Node:\n",
    "    def __init__(self, data):\n",
    "        self.data = data\n",
    "        self.next = None\n",
    "\n",
    "    def __repr__(self):\n",
    "        return self.data\n",
    "class LinkedList:\n",
    "    def __init__(self, nodes=None):\n",
    "        self.head = None\n",
    "        \n",
    "        if nodes is not None:\n",
    "            node = Node(data=nodes.pop(0))\n",
    "            self.head=node\n",
    "            \n",
    "            for elem in nodes:\n",
    "                node.next = Node(data=elem)\n",
    "                node = node.next\n",
    "                 \n",
    "    def __repr__(self):\n",
    "        nodes = []\n",
    "        curr = self.head\n",
    "        while curr is not None:\n",
    "            nodes.append(curr.data)\n",
    "            curr = curr.next\n",
    "        nodes.append(\"None\")\n",
    "        return \"->\".join(str(data) for data in nodes)\n",
    "    \n",
    "    def __iter__(self):\n",
    "        node = self.head\n",
    "        while node is not None:\n",
    "            yield node\n",
    "            node = node.next\n",
    "    def add_first(self, node):\n",
    "        node.next = self.head\n",
    "        self.head = node\n",
    "        \n",
    "    def add_last(self, node):\n",
    "        if not self.head:\n",
    "            self.head = node\n",
    "            return\n",
    "        for current_node in self:\n",
    "            pass\n",
    "        current_node.next = node\n",
    "        \n",
    "    def add_after(self, target_node_data, new_node):\n",
    "        if not self.head:\n",
    "            raise Exception(\"List is empty\")\n",
    "\n",
    "        for node in self:\n",
    "            if node.data == target_node_data:\n",
    "                new_node.next = node.next\n",
    "                node.next = new_node\n",
    "                return\n",
    "\n",
    "        raise Exception(\"Node with data '%s' not found\" % target_node_data)"
   ]
  },
  {
   "cell_type": "code",
   "execution_count": 31,
   "metadata": {},
   "outputs": [],
   "source": [
    "# This method use extra space -- a set -- to store the unique data.\n",
    "\n",
    "def kth_to_last(llist, k):\n",
    "    if(llist.head is None):\n",
    "        return None\n",
    "    \n",
    "    node1 = llist.head\n",
    "    node2 = llist.head\n",
    "    count = 0\n",
    "    \n",
    "    # node2 should point after k node from the head\n",
    "    while(count<k):\n",
    "        if(node2 is not None):\n",
    "            node2 = node2.next\n",
    "        else:\n",
    "            return None\n",
    "        count+=1\n",
    "    \n",
    "    while(node2 is not None):\n",
    "        node1 = node1.next\n",
    "        node2 = node2.next\n",
    "    \n",
    "    return node1.data"
   ]
  },
  {
   "cell_type": "code",
   "execution_count": 38,
   "metadata": {},
   "outputs": [
    {
     "data": {
      "text/plain": [
       "5->3->1->8->5->3->7->4->None"
      ]
     },
     "execution_count": 38,
     "metadata": {},
     "output_type": "execute_result"
    }
   ],
   "source": [
    "llist = LinkedList([5,3,1,8,5,3,7,4])\n",
    "llist"
   ]
  },
  {
   "cell_type": "code",
   "execution_count": 39,
   "metadata": {},
   "outputs": [
    {
     "name": "stdout",
     "output_type": "stream",
     "text": [
      "4\n"
     ]
    }
   ],
   "source": [
    "data = kth_to_last(llist, 1)\n",
    "print(data)"
   ]
  },
  {
   "cell_type": "code",
   "execution_count": null,
   "metadata": {},
   "outputs": [],
   "source": []
  }
 ],
 "metadata": {
  "kernelspec": {
   "display_name": "Python 3",
   "language": "python",
   "name": "python3"
  },
  "language_info": {
   "codemirror_mode": {
    "name": "ipython",
    "version": 3
   },
   "file_extension": ".py",
   "mimetype": "text/x-python",
   "name": "python",
   "nbconvert_exporter": "python",
   "pygments_lexer": "ipython3",
   "version": "3.6.10"
  }
 },
 "nbformat": 4,
 "nbformat_minor": 4
}
