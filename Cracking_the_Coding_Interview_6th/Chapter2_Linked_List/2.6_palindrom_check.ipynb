{
 "cells": [
  {
   "cell_type": "markdown",
   "metadata": {},
   "source": [
    "Remove Dups: Write code to remove duplicates from an unsorted linked list.\n",
    "FOLLOW UP\n",
    "How would you solve this problem if a temporary buffer is not allowed?\n",
    "Hints: #"
   ]
  },
  {
   "cell_type": "code",
   "execution_count": 45,
   "metadata": {},
   "outputs": [],
   "source": [
    "class Node:\n",
    "    def __init__(self, data):\n",
    "        self.data = data\n",
    "        self.next = None\n",
    "\n",
    "    def __repr__(self):\n",
    "        return self.data\n",
    "class LinkedList:\n",
    "    def __init__(self, nodes=None):\n",
    "        self.head = None\n",
    "        \n",
    "        if nodes is not None:\n",
    "            node = Node(data=nodes.pop(0))\n",
    "            self.head=node\n",
    "            \n",
    "            for elem in nodes:\n",
    "                node.next = Node(data=elem)\n",
    "                node = node.next\n",
    "                 \n",
    "    def __repr__(self):\n",
    "        nodes = []\n",
    "        curr = self.head\n",
    "        while curr is not None:\n",
    "            nodes.append(curr.data)\n",
    "            curr = curr.next\n",
    "        nodes.append(\"None\")\n",
    "        return \"->\".join(str(data) for data in nodes)\n",
    "    \n",
    "    def __iter__(self):\n",
    "        node = self.head\n",
    "        while node is not None:\n",
    "            yield node\n",
    "            node = node.next\n",
    "    def add_first(self, node):\n",
    "        print(\"adding first\")\n",
    "        node.next = self.head\n",
    "        self.head = node\n",
    "        print(self)\n",
    "        return self\n",
    "        \n",
    "    def add_last(self, node):\n",
    "        if not self.head:\n",
    "            self.head = node\n",
    "            return\n",
    "        for current_node in self:\n",
    "            pass\n",
    "        current_node.next = node\n",
    "        \n",
    "    def add_after(self, target_node_data, new_node):\n",
    "        if not self.head:\n",
    "            raise Exception(\"List is empty\")\n",
    "\n",
    "        for node in self:\n",
    "            if node.data == target_node_data:\n",
    "                new_node.next = node.next\n",
    "                node.next = new_node\n",
    "                return\n",
    "    def delete_a_node(self, delete_node, prev_node):\n",
    "        \n",
    "        if(prev_node == None):\n",
    "            self.head = delete_node.next\n",
    "            return self\n",
    "        else:\n",
    "            prev_node.next = delete_node.next\n",
    "        return prev_node.next"
   ]
  },
  {
   "cell_type": "code",
   "execution_count": 93,
   "metadata": {},
   "outputs": [],
   "source": [
    "# This method use extra space -- a set -- to store the unique data.\n",
    "\n",
    "def palindrom_check(llist, curr):\n",
    "    if(curr== None):\n",
    "        return True\n",
    "    else:\n",
    "        is_p = palindrom_check(llist, curr.next)\n",
    "    \n",
    "    if(is_p== False):\n",
    "        return False\n",
    "    if(llist.head == None):\n",
    "        return True\n",
    "    elif(llist.head.next==None):\n",
    "        return True\n",
    "    left = llist.head.data\n",
    "    print(\"left:\",left)\n",
    "    print(\"curr data\", curr.data)\n",
    "\n",
    "    if(left==curr.data):\n",
    "        llist.head=llist.head.next\n",
    "        curr.next=None\n",
    "        return True\n",
    "    else:\n",
    "        return False\n",
    "        "
   ]
  },
  {
   "cell_type": "code",
   "execution_count": 97,
   "metadata": {},
   "outputs": [
    {
     "name": "stdout",
     "output_type": "stream",
     "text": [
      "a->b->c->d->x->c->b->a->None\n",
      "left: a\n",
      "curr data a\n",
      "left: b\n",
      "curr data b\n",
      "left: c\n",
      "curr data c\n",
      "left: d\n",
      "curr data x\n",
      "False\n"
     ]
    }
   ],
   "source": [
    "llist = LinkedList([\"a\",\"b\",\"c\",\"d\",\"x\",\"c\",\"b\",\"a\"])\n",
    "print(llist)\n",
    "is_palindrom = palindrom_check(llist, llist.head)\n",
    "print(is_palindrom)"
   ]
  },
  {
   "cell_type": "code",
   "execution_count": 98,
   "metadata": {},
   "outputs": [
    {
     "name": "stdout",
     "output_type": "stream",
     "text": [
      "d->x->c->None\n"
     ]
    }
   ],
   "source": [
    "print(llist)"
   ]
  },
  {
   "cell_type": "code",
   "execution_count": null,
   "metadata": {},
   "outputs": [],
   "source": []
  }
 ],
 "metadata": {
  "kernelspec": {
   "display_name": "Python 3",
   "language": "python",
   "name": "python3"
  },
  "language_info": {
   "codemirror_mode": {
    "name": "ipython",
    "version": 3
   },
   "file_extension": ".py",
   "mimetype": "text/x-python",
   "name": "python",
   "nbconvert_exporter": "python",
   "pygments_lexer": "ipython3",
   "version": "3.6.10"
  }
 },
 "nbformat": 4,
 "nbformat_minor": 4
}
