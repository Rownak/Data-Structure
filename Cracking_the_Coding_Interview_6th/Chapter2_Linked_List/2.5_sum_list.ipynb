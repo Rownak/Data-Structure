{
 "cells": [
  {
   "cell_type": "markdown",
   "metadata": {},
   "source": [
    "Remove Dups: Write code to remove duplicates from an unsorted linked list.\n",
    "FOLLOW UP\n",
    "How would you solve this problem if a temporary buffer is not allowed?\n",
    "Hints: #"
   ]
  },
  {
   "cell_type": "code",
   "execution_count": 5,
   "metadata": {},
   "outputs": [],
   "source": [
    "class Node:\n",
    "    def __init__(self, data):\n",
    "        self.data = data\n",
    "        self.next = None\n",
    "\n",
    "    def __repr__(self):\n",
    "        return self.data\n",
    "class LinkedList:\n",
    "    def __init__(self, nodes=None):\n",
    "        self.head = None\n",
    "        \n",
    "        if nodes is not None:\n",
    "            node = Node(data=nodes.pop(0))\n",
    "            self.head=node\n",
    "            \n",
    "            for elem in nodes:\n",
    "                node.next = Node(data=elem)\n",
    "                node = node.next\n",
    "                 \n",
    "    def __repr__(self):\n",
    "        nodes = []\n",
    "        curr = self.head\n",
    "        while curr is not None:\n",
    "            nodes.append(curr.data)\n",
    "            curr = curr.next\n",
    "        nodes.append(\"None\")\n",
    "        return \"->\".join(str(data) for data in nodes)\n",
    "    \n",
    "    def __iter__(self):\n",
    "        node = self.head\n",
    "        while node is not None:\n",
    "            yield node\n",
    "            node = node.next\n",
    "    def add_first(self, node):\n",
    "        print(\"adding first\")\n",
    "        node.next = self.head\n",
    "        self.head = node\n",
    "        print(self)\n",
    "        return self\n",
    "        \n",
    "    def add_last(self, node):\n",
    "        if not self.head:\n",
    "            self.head = node\n",
    "            return\n",
    "        for current_node in self:\n",
    "            pass\n",
    "        current_node.next = node\n",
    "        \n",
    "    def add_after(self, target_node_data, new_node):\n",
    "        if not self.head:\n",
    "            raise Exception(\"List is empty\")\n",
    "\n",
    "        for node in self:\n",
    "            if node.data == target_node_data:\n",
    "                new_node.next = node.next\n",
    "                node.next = new_node\n",
    "                return\n",
    "    def delete_a_node(self, delete_node, prev_node):\n",
    "        \n",
    "        if(prev_node == None):\n",
    "            self.head = delete_node.next\n",
    "            return self\n",
    "        else:\n",
    "            prev_node.next = delete_node.next\n",
    "        return prev_node.next"
   ]
  },
  {
   "cell_type": "code",
   "execution_count": 28,
   "metadata": {},
   "outputs": [],
   "source": [
    "# This method use extra space -- a set -- to store the unique data.\n",
    "\n",
    "def calculate_sum(node1, node2, sum_l, carry):\n",
    "    if(node1 == None and node2 == None):\n",
    "        if(carry==0):\n",
    "            return sum_l\n",
    "        else:\n",
    "            sum_l.add_last(Node(carry))\n",
    "            return sum_l\n",
    "    elif(node1 == None):\n",
    "        node1 = Node(0)\n",
    "    elif(node2 == None):\n",
    "        node2 = Node(0)\n",
    "    print(\"node1.data\",node1.data)\n",
    "    print(\"node1.data\",node2.data)\n",
    "    print(\"carry\",carry)\n",
    "    sum_result = node1.data+node2.data+carry\n",
    "    carry = int(sum_result/10)\n",
    "    sum_result = sum_result%10\n",
    "    sum_node = Node(sum_result)\n",
    "    sum_l.add_last(sum_node)\n",
    "    \n",
    "    # Recursion call\n",
    "    \n",
    "    \n",
    "    return calculate_sum(node1.next, node2.next, sum_l, carry)"
   ]
  },
  {
   "cell_type": "code",
   "execution_count": 29,
   "metadata": {},
   "outputs": [
    {
     "name": "stdout",
     "output_type": "stream",
     "text": [
      "node1.data 9\n",
      "node1.data 5\n",
      "carry 0\n",
      "node1.data 1\n",
      "node1.data 5\n",
      "carry 1\n",
      "node1.data 8\n",
      "node1.data 5\n",
      "carry 0\n",
      "node1.data 0\n",
      "node1.data 9\n",
      "carry 1\n"
     ]
    }
   ],
   "source": [
    "llist1 = LinkedList([9,1,8])\n",
    "llist2 = LinkedList([5,5,5,9])\n",
    "sum_l = LinkedList()\n",
    "carry = 0\n",
    "sum_l = calculate_sum(llist1.head, llist2.head, sum_l, carry)"
   ]
  },
  {
   "cell_type": "code",
   "execution_count": 30,
   "metadata": {},
   "outputs": [
    {
     "name": "stdout",
     "output_type": "stream",
     "text": [
      "4->7->3->0->1->None\n"
     ]
    }
   ],
   "source": [
    "print(sum_l)"
   ]
  },
  {
   "cell_type": "code",
   "execution_count": null,
   "metadata": {},
   "outputs": [],
   "source": []
  }
 ],
 "metadata": {
  "kernelspec": {
   "display_name": "Python 3",
   "language": "python",
   "name": "python3"
  },
  "language_info": {
   "codemirror_mode": {
    "name": "ipython",
    "version": 3
   },
   "file_extension": ".py",
   "mimetype": "text/x-python",
   "name": "python",
   "nbconvert_exporter": "python",
   "pygments_lexer": "ipython3",
   "version": "3.6.10"
  }
 },
 "nbformat": 4,
 "nbformat_minor": 4
}
