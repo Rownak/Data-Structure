{
 "cells": [
  {
   "cell_type": "markdown",
   "metadata": {},
   "source": [
    "Intersection: Given two (singly) linked lists, determine if the two lists intersect. Return the intersecting\n",
    "node. Note that the intersection is defined based on reference, not value. That is, if the kth\n",
    "node of the first linked list is the exact same node (by reference) as the jth node of the second\n",
    "linked list, then they are intersecting.\n",
    "Hints: #"
   ]
  },
  {
   "cell_type": "code",
   "execution_count": 6,
   "metadata": {},
   "outputs": [],
   "source": [
    "class Node:\n",
    "    def __init__(self, data):\n",
    "        self.data = data\n",
    "        self.next = None\n",
    "\n",
    "    def __repr__(self):\n",
    "        return self.data\n",
    "class LinkedList:\n",
    "    def __init__(self, nodes=None):\n",
    "        self.head = None\n",
    "        \n",
    "        if nodes is not None:\n",
    "            node = Node(data=nodes.pop(0))\n",
    "            self.head=node\n",
    "            \n",
    "            for elem in nodes:\n",
    "                node.next = Node(data=elem)\n",
    "                node = node.next\n",
    "                 \n",
    "    def __repr__(self):\n",
    "        nodes = []\n",
    "        curr = self.head\n",
    "        while curr is not None:\n",
    "            nodes.append(curr.data)\n",
    "            curr = curr.next\n",
    "        nodes.append(\"None\")\n",
    "        return \"->\".join(str(data) for data in nodes)\n",
    "    \n",
    "    def __iter__(self):\n",
    "        node = self.head\n",
    "        while node is not None:\n",
    "            yield node\n",
    "            node = node.next\n",
    "    def add_first(self, node):\n",
    "        print(\"adding first\")\n",
    "        node.next = self.head\n",
    "        self.head = node\n",
    "        print(self)\n",
    "        return self\n",
    "        \n",
    "    def add_last(self, node):\n",
    "        if not self.head:\n",
    "            self.head = node\n",
    "            return\n",
    "        for current_node in self:\n",
    "            pass\n",
    "        current_node.next = node\n",
    "        \n",
    "    def add_after(self, target_node_data, new_node):\n",
    "        if not self.head:\n",
    "            raise Exception(\"List is empty\")\n",
    "\n",
    "        for node in self:\n",
    "            if node.data == target_node_data:\n",
    "                new_node.next = node.next\n",
    "                node.next = new_node\n",
    "                return\n",
    "    def delete_a_node(self, delete_node, prev_node):\n",
    "        \n",
    "        if(prev_node == None):\n",
    "            self.head = delete_node.next\n",
    "            return self\n",
    "        else:\n",
    "            prev_node.next = delete_node.next\n",
    "        return prev_node.next"
   ]
  },
  {
   "cell_type": "code",
   "execution_count": 22,
   "metadata": {},
   "outputs": [],
   "source": [
    "\n",
    "def loop_detect(llist):\n",
    "    \n",
    "    node1=llist.head\n",
    "    node2=llist.head\n",
    "    isLoop = False\n",
    "    while(True):\n",
    "        prev=node1\n",
    "        node1 = node1.next\n",
    "        node2 = node2.next.next\n",
    "        if(node1==node2):\n",
    "            isLoop = True\n",
    "            break\n",
    "    \n",
    "    return isLoop\n",
    "    \n",
    "    "
   ]
  },
  {
   "cell_type": "code",
   "execution_count": 47,
   "metadata": {},
   "outputs": [],
   "source": [
    "def beginning_node_of_loop_detect(llist):\n",
    "    node1=llist.head\n",
    "    node2=llist.head\n",
    "    \n",
    "    collide = 0\n",
    "    count1=1\n",
    "    count2=1\n",
    "    while(True):\n",
    "        \n",
    "        prev=node1\n",
    "        node1 = node1.next\n",
    "        node2 = node2.next.next\n",
    "        if(node1==node2):\n",
    "            collide+=1\n",
    "            if(collide==1):\n",
    "                count1=count2\n",
    "        if(collide==2):\n",
    "            break\n",
    "        count2+=1\n",
    "    print(\"count1\",count1)\n",
    "    print(\"count2\",count2)\n",
    "    print(\"collide point\",node1.data)\n",
    "    \n",
    "    return count1"
   ]
  },
  {
   "cell_type": "code",
   "execution_count": 49,
   "metadata": {},
   "outputs": [
    {
     "name": "stdout",
     "output_type": "stream",
     "text": [
      "True\n",
      "count1 3\n",
      "count2 6\n",
      "collide point 4\n",
      "1\n",
      "2\n",
      "3\n",
      "4\n",
      "5\n",
      "3\n",
      "4\n",
      "5\n",
      "3\n",
      "4\n"
     ]
    }
   ],
   "source": [
    "llist1 = LinkedList([1,2,3,4,5])\n",
    "llist1.add_last(llist1.head.next.next)\n",
    "head = llist1.head\n",
    "result = loop_detect(llist1)\n",
    "print(result)\n",
    "resutl2=beginning_node_of_loop_detect(llist1)\n",
    "curr = head\n",
    "c=0\n",
    "while(c<10):\n",
    "    print(curr.data)\n",
    "    curr=curr.next\n",
    "    c+=1"
   ]
  },
  {
   "cell_type": "code",
   "execution_count": 98,
   "metadata": {},
   "outputs": [
    {
     "name": "stdout",
     "output_type": "stream",
     "text": [
      "d->x->c->None\n"
     ]
    }
   ],
   "source": [
    "print(llist)"
   ]
  },
  {
   "cell_type": "code",
   "execution_count": null,
   "metadata": {},
   "outputs": [],
   "source": []
  }
 ],
 "metadata": {
  "kernelspec": {
   "display_name": "Python 3",
   "language": "python",
   "name": "python3"
  },
  "language_info": {
   "codemirror_mode": {
    "name": "ipython",
    "version": 3
   },
   "file_extension": ".py",
   "mimetype": "text/x-python",
   "name": "python",
   "nbconvert_exporter": "python",
   "pygments_lexer": "ipython3",
   "version": "3.6.10"
  }
 },
 "nbformat": 4,
 "nbformat_minor": 4
}
