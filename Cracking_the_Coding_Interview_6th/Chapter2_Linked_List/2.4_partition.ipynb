{
 "cells": [
  {
   "cell_type": "markdown",
   "metadata": {},
   "source": [
    "Remove Dups: Write code to remove duplicates from an unsorted linked list.\n",
    "FOLLOW UP\n",
    "How would you solve this problem if a temporary buffer is not allowed?\n",
    "Hints: #"
   ]
  },
  {
   "cell_type": "code",
   "execution_count": 2,
   "metadata": {},
   "outputs": [],
   "source": [
    "class Node:\n",
    "    def __init__(self, data):\n",
    "        self.data = data\n",
    "        self.next = None\n",
    "\n",
    "    def __repr__(self):\n",
    "        return self.data\n",
    "class LinkedList:\n",
    "    def __init__(self, nodes=None):\n",
    "        self.head = None\n",
    "        \n",
    "        if nodes is not None:\n",
    "            node = Node(data=nodes.pop(0))\n",
    "            self.head=node\n",
    "            \n",
    "            for elem in nodes:\n",
    "                node.next = Node(data=elem)\n",
    "                node = node.next\n",
    "                 \n",
    "    def __repr__(self):\n",
    "        nodes = []\n",
    "        curr = self.head\n",
    "        while curr is not None:\n",
    "            nodes.append(curr.data)\n",
    "            curr = curr.next\n",
    "        nodes.append(\"None\")\n",
    "        return \"->\".join(str(data) for data in nodes)\n",
    "    \n",
    "    def __iter__(self):\n",
    "        node = self.head\n",
    "        while node is not None:\n",
    "            yield node\n",
    "            node = node.next\n",
    "    def add_first(self, node):\n",
    "        print(\"adding first\")\n",
    "        node.next = self.head\n",
    "        self.head = node\n",
    "        print(self)\n",
    "        return self\n",
    "        \n",
    "    def add_last(self, node):\n",
    "        if not self.head:\n",
    "            self.head = node\n",
    "            return\n",
    "        for current_node in self:\n",
    "            pass\n",
    "        current_node.next = node\n",
    "        \n",
    "    def add_after(self, target_node_data, new_node):\n",
    "        if not self.head:\n",
    "            raise Exception(\"List is empty\")\n",
    "\n",
    "        for node in self:\n",
    "            if node.data == target_node_data:\n",
    "                new_node.next = node.next\n",
    "                node.next = new_node\n",
    "                return\n",
    "    def delete_a_node(self, delete_node, prev_node):\n",
    "        \n",
    "        if(prev_node == None):\n",
    "            self.head = delete_node.next\n",
    "            return self\n",
    "        else:\n",
    "            prev_node.next = delete_node.next\n",
    "        return prev_node.next"
   ]
  },
  {
   "cell_type": "code",
   "execution_count": 24,
   "metadata": {},
   "outputs": [],
   "source": [
    "# This method use extra space -- a set -- to store the unique data.\n",
    "\n",
    "def partition(llist, p):\n",
    "    if(llist.head is None):\n",
    "        return None\n",
    "    if(llist.head.next is None): # Checking if there is only 1 element in the list.\n",
    "        return llist\n",
    "\n",
    "    \"\"\"\n",
    "    \n",
    "    1->5->3->4->8->None\n",
    " p  n1 n2\n",
    "    p  n1    n2\n",
    "    \"\"\"\n",
    "        \n",
    "    curr = llist.head\n",
    "    prev = None\n",
    "    flag = False\n",
    "    while(curr is not None):\n",
    "#         if(prev is not None):\n",
    "#             print(\"prev:\",prev.data)\n",
    "#         print(\"curr:\",curr.data)\n",
    "        if(curr.data == p):\n",
    "            flag = True\n",
    "        if(flag):\n",
    "            if(curr.data<p):\n",
    "                curr_copy = Node(curr.data)\n",
    "                curr_copy.next = llist.head\n",
    "                llist.head = curr_copy\n",
    "                curr=llist.delete_a_node(curr,prev)\n",
    "            else: \n",
    "                prev=curr\n",
    "                curr=curr.next\n",
    "        else: \n",
    "            prev=curr\n",
    "            curr=curr.next\n",
    "            \n",
    "    return llist"
   ]
  },
  {
   "cell_type": "code",
   "execution_count": 25,
   "metadata": {},
   "outputs": [
    {
     "data": {
      "text/plain": [
       "1->5->3->4->5->8->1->9->None"
      ]
     },
     "execution_count": 25,
     "metadata": {},
     "output_type": "execute_result"
    }
   ],
   "source": [
    "llist = LinkedList([1,5,3,4,5,8,1,9])\n",
    "llist"
   ]
  },
  {
   "cell_type": "code",
   "execution_count": 26,
   "metadata": {},
   "outputs": [
    {
     "name": "stdout",
     "output_type": "stream",
     "text": [
      "1->4->3->1->5->5->8->9->None\n"
     ]
    }
   ],
   "source": [
    "llist = partition(llist,5)\n",
    "print(llist)"
   ]
  },
  {
   "cell_type": "code",
   "execution_count": null,
   "metadata": {},
   "outputs": [],
   "source": []
  }
 ],
 "metadata": {
  "kernelspec": {
   "display_name": "Python 3",
   "language": "python",
   "name": "python3"
  },
  "language_info": {
   "codemirror_mode": {
    "name": "ipython",
    "version": 3
   },
   "file_extension": ".py",
   "mimetype": "text/x-python",
   "name": "python",
   "nbconvert_exporter": "python",
   "pygments_lexer": "ipython3",
   "version": "3.7.6"
  }
 },
 "nbformat": 4,
 "nbformat_minor": 4
}
