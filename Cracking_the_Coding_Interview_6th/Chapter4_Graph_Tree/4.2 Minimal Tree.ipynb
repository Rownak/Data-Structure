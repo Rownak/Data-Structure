{
 "cells": [
  {
   "cell_type": "code",
   "execution_count": 1,
   "metadata": {},
   "outputs": [],
   "source": [
    "class Node:\n",
    "    def __init__(self,key):\n",
    "        self.val = key\n",
    "        self.left = None\n",
    "        self.right = None"
   ]
  },
  {
   "cell_type": "code",
   "execution_count": 2,
   "metadata": {},
   "outputs": [],
   "source": [
    "class BST:\n",
    "    def __init__(self):\n",
    "        self.root = None\n",
    "    def insert(root,node): \n",
    "        if root is None: \n",
    "            root = node \n",
    "        else: \n",
    "            if root.val < node.val: \n",
    "                if root.right is None: \n",
    "                    root.right = node \n",
    "                else: \n",
    "                    insert(root.right, node) \n",
    "            else: \n",
    "                if root.left is None: \n",
    "                    root.left = node \n",
    "                else: \n",
    "                    insert(root.left, node) \n",
    "    def inorder(root): \n",
    "        if root: \n",
    "            inorder(root.left) \n",
    "            print(root.val) \n",
    "            inorder(root.right) "
   ]
  },
  {
   "cell_type": "code",
   "execution_count": null,
   "metadata": {},
   "outputs": [],
   "source": [
    "r = Node(50) \n",
    "bst = BST()\n",
    "bst.insert(r,Node(30)) \n",
    "bst.insert(r,Node(20)) \n",
    "bst.insert(r,Node(40)) \n",
    "bst.insert(r,Node(70)) \n",
    "bst.insert(r,Node(60)) \n",
    "bst.insert(r,Node(80)) "
   ]
  }
 ],
 "metadata": {
  "kernelspec": {
   "display_name": "Python 3",
   "language": "python",
   "name": "python3"
  },
  "language_info": {
   "codemirror_mode": {
    "name": "ipython",
    "version": 3
   },
   "file_extension": ".py",
   "mimetype": "text/x-python",
   "name": "python",
   "nbconvert_exporter": "python",
   "pygments_lexer": "ipython3",
   "version": "3.6.10"
  }
 },
 "nbformat": 4,
 "nbformat_minor": 4
}
