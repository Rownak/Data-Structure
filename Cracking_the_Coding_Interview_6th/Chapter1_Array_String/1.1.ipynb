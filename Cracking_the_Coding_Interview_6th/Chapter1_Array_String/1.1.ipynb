{
 "cells": [
  {
   "cell_type": "code",
   "execution_count": 1,
   "metadata": {},
   "outputs": [],
   "source": [
    "# Is Unique: Implement an algorithm to determine if a string has all unique characters. \n",
    "# What if you cannot use additional data structures?"
   ]
  },
  {
   "cell_type": "code",
   "execution_count": null,
   "metadata": {},
   "outputs": [],
   "source": [
    "# Using Dictionary"
   ]
  },
  {
   "cell_type": "code",
   "execution_count": 5,
   "metadata": {},
   "outputs": [
    {
     "name": "stdout",
     "output_type": "stream",
     "text": [
      "True\n"
     ]
    }
   ],
   "source": [
    "input_str = \"abcdefghi\"\n",
    "str_dict = dict()\n",
    "isUnq = True\n",
    "for i in range(len(input_str)):\n",
    "    if(input_str[i] not in str_dict.keys()):\n",
    "        str_dict[input_str[i]] = 1;\n",
    "    else:\n",
    "        isUnq = False\n",
    "        break\n",
    "print(isUnq)"
   ]
  },
  {
   "cell_type": "code",
   "execution_count": 6,
   "metadata": {},
   "outputs": [],
   "source": [
    "# Using Set"
   ]
  },
  {
   "cell_type": "code",
   "execution_count": 8,
   "metadata": {},
   "outputs": [
    {
     "name": "stdout",
     "output_type": "stream",
     "text": [
      "False\n"
     ]
    }
   ],
   "source": [
    "input_str = \"abcdefghib\"\n",
    "str_set = set()\n",
    "isUnq = True\n",
    "for i in range(len(input_str)):\n",
    "    if(input_str[i] not in str_set):\n",
    "        str_set.add(input_str[i])\n",
    "    else:\n",
    "        isUnq = False\n",
    "        break\n",
    "print(isUnq)"
   ]
  },
  {
   "cell_type": "code",
   "execution_count": null,
   "metadata": {},
   "outputs": [],
   "source": []
  }
 ],
 "metadata": {
  "kernelspec": {
   "display_name": "Python 3",
   "language": "python",
   "name": "python3"
  },
  "language_info": {
   "codemirror_mode": {
    "name": "ipython",
    "version": 3
   },
   "file_extension": ".py",
   "mimetype": "text/x-python",
   "name": "python",
   "nbconvert_exporter": "python",
   "pygments_lexer": "ipython3",
   "version": "3.6.9"
  }
 },
 "nbformat": 4,
 "nbformat_minor": 2
}
