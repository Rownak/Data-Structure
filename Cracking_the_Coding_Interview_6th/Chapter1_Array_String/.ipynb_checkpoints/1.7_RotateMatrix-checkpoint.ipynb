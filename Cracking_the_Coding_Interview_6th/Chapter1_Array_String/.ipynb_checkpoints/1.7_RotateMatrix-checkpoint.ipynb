{
 "cells": [
  {
   "cell_type": "markdown",
   "metadata": {},
   "source": [
    "Rotate Matrix: Given an image represented by an NxN matrix, where each pixel in the image is 4\n",
    "bytes, write a method to rotate the image by 90 degrees. (an you do this in place?"
   ]
  },
  {
   "cell_type": "code",
   "execution_count": 57,
   "metadata": {},
   "outputs": [],
   "source": [
    "import numpy as np\n",
    "inputMat = np.array([[0, 1, 2],\n",
    "                     [5, 6, 7],\n",
    "                     [10,11,12]])"
   ]
  },
  {
   "cell_type": "code",
   "execution_count": 55,
   "metadata": {},
   "outputs": [],
   "source": [
    "n=inputMat.shape[0]\n",
    "for i in range(int(n/2)):\n",
    "    for j in range(int(n/2)):\n",
    "        tmp = inputMat[i][j]\n",
    "        inputMat[i][j]=inputMat[n-1-j][i]\n",
    "        inputMat[n-1-j][i]=inputMat[n-1-i][n-1-j]\n",
    "        inputMat[n-1-i][n-1-j]=inputMat[j][n-1-i]\n",
    "        inputMat[j][n-1-i]=tmp\n",
    "# Odd number of length\n",
    "if(n%2==1):\n",
    "    mid = int(n/2)\n",
    "    for i in range(int(n/2)):\n",
    "        tmp = inputMat[i][mid]\n",
    "        inputMat[i][mid]=inputMat[mid][i]\n",
    "        inputMat[mid][i]=inputMat[n-1-i][mid]\n",
    "        inputMat[n-1-i][mid]=inputMat[mid][n-1-i]\n",
    "        inputMat[mid][n-1-i]=tmp\n",
    "    \n"
   ]
  },
  {
   "cell_type": "code",
   "execution_count": 56,
   "metadata": {},
   "outputs": [
    {
     "name": "stdout",
     "output_type": "stream",
     "text": [
      "[[10  5  0]\n",
      " [11  6  1]\n",
      " [12  7  2]]\n"
     ]
    }
   ],
   "source": [
    "print(inputMat)"
   ]
  },
  {
   "cell_type": "code",
   "execution_count": null,
   "metadata": {},
   "outputs": [],
   "source": []
  }
 ],
 "metadata": {
  "kernelspec": {
   "display_name": "Python 3",
   "language": "python",
   "name": "python3"
  },
  "language_info": {
   "codemirror_mode": {
    "name": "ipython",
    "version": 3
   },
   "file_extension": ".py",
   "mimetype": "text/x-python",
   "name": "python",
   "nbconvert_exporter": "python",
   "pygments_lexer": "ipython3",
   "version": "3.6.9"
  }
 },
 "nbformat": 4,
 "nbformat_minor": 2
}
