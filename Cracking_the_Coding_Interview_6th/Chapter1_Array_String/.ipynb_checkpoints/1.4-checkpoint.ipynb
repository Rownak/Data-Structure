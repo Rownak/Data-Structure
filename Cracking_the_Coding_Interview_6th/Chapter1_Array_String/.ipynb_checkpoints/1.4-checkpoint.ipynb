{
 "cells": [
  {
   "cell_type": "markdown",
   "metadata": {},
   "source": [
    "#\n",
    "Given a string, write a function to check if it is a permutation of a palindrome.\n",
    "A palindrome is a word or phrase that is the same forwards and backwards. A permutation\n",
    "is a rea rrangement of letters. The palindrome does not need to be limited to just dictionary words.\n",
    "EXAMPLE\n",
    "Input: Tact Coa\n",
    "Output: True (permutations: \"taco cat\". \"atco cta\". etc.)\n"
   ]
  },
  {
   "cell_type": "code",
   "execution_count": 11,
   "metadata": {},
   "outputs": [
    {
     "name": "stdout",
     "output_type": "stream",
     "text": [
      "o\n",
      "Oddch  1\n",
      "True\n"
     ]
    }
   ],
   "source": [
    "strInput = \"Tact Coa\"\n",
    "strList = list(strInput.lower())\n",
    "\n",
    "strDict = {}\n",
    "spaceCount=0\n",
    "for i in range(len(strList)):\n",
    "    if(strList[i] in ' '):\n",
    "        spaceCount+=1\n",
    "        continue\n",
    "    if(strList[i] not in strDict.keys()):\n",
    "        strDict[strList[i]]=1\n",
    "    else:\n",
    "        strDict[strList[i]]+=1\n",
    "# count odd \n",
    "oddCh = 0\n",
    "for item in strDict.keys():\n",
    "    if(strDict.get(item)%2==1):\n",
    "        print(item)\n",
    "        oddCh+=1;\n",
    "print(\"Oddch \",oddCh)     \n",
    "if(oddCh>1):\n",
    "    print(False)\n",
    "elif(oddCh==0):\n",
    "    print(True)\n",
    "elif(oddCh==1 and (len(strInput)+spaceCount)%2==1):\n",
    "    print(True)\n",
    "else:\n",
    "    print(False)"
   ]
  },
  {
   "cell_type": "code",
   "execution_count": null,
   "metadata": {},
   "outputs": [],
   "source": []
  }
 ],
 "metadata": {
  "kernelspec": {
   "display_name": "Python 3",
   "language": "python",
   "name": "python3"
  },
  "language_info": {
   "codemirror_mode": {
    "name": "ipython",
    "version": 3
   },
   "file_extension": ".py",
   "mimetype": "text/x-python",
   "name": "python",
   "nbconvert_exporter": "python",
   "pygments_lexer": "ipython3",
   "version": "3.6.9"
  }
 },
 "nbformat": 4,
 "nbformat_minor": 2
}
