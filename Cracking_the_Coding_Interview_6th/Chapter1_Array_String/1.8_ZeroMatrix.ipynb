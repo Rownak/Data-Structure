{
 "cells": [
  {
   "cell_type": "markdown",
   "metadata": {},
   "source": [
    "#Zero Matrix: Write an algorithm such that if an element in an MxN matrix is 0, its entire row and column are set to O."
   ]
  },
  {
   "cell_type": "code",
   "execution_count": 74,
   "metadata": {},
   "outputs": [],
   "source": [
    "import numpy as np\n",
    "inputMat = np.array([[1, 1, 2, 4, 6],\n",
    "                     [5, 6, 7, 0, 2],\n",
    "                     [1, 0, 1, 4, 6],\n",
    "                     [1, 1, 5, 2, 9]])\n",
    "\n",
    "#Naive\n",
    "m=int(inputMat.shape[0])\n",
    "n=int(inputMat.shape[1])"
   ]
  },
  {
   "cell_type": "code",
   "execution_count": 75,
   "metadata": {},
   "outputs": [],
   "source": [
    "def nullifyRow(r):\n",
    "    for i in range(n):\n",
    "        inputMat[r][i]=0\n",
    "def nullifyCol(c):\n",
    "    for i in range(m):\n",
    "        inputMat[i][c]=0"
   ]
  },
  {
   "cell_type": "code",
   "execution_count": 49,
   "metadata": {},
   "outputs": [],
   "source": [
    "# add 1 to each number\n",
    "# if a number is 1 make the row and column zero\n",
    "# subtract 1 from each number which is not zero"
   ]
  },
  {
   "cell_type": "code",
   "execution_count": 50,
   "metadata": {},
   "outputs": [
    {
     "name": "stdout",
     "output_type": "stream",
     "text": [
      "i: 1  j: 3\n",
      "i: 2  j: 1\n",
      "[[1 0 2 0 6]\n",
      " [0 0 0 0 0]\n",
      " [0 0 0 0 0]\n",
      " [1 0 5 0 9]]\n"
     ]
    }
   ],
   "source": [
    "for i in range(m):\n",
    "    for j in range(n):\n",
    "        inputMat[i][j]+=1\n",
    "for i in range(m):\n",
    "    for j in range(n):\n",
    "        if(inputMat[i][j]==1):\n",
    "            print(\"i:\",i,\" j:\",j)\n",
    "            inputMat[i][j]=0\n",
    "            nullifyRow(i)\n",
    "            nullifyCol(j)\n",
    "for i in range(m):\n",
    "    for j in range(n):\n",
    "        if(inputMat[i][j]!=0):\n",
    "            inputMat[i][j]-=1\n",
    "print(inputMat)"
   ]
  },
  {
   "cell_type": "code",
   "execution_count": 51,
   "metadata": {},
   "outputs": [],
   "source": [
    "# Method from the book"
   ]
  },
  {
   "cell_type": "code",
   "execution_count": 76,
   "metadata": {},
   "outputs": [
    {
     "name": "stdout",
     "output_type": "stream",
     "text": [
      "[[1 0 2 0 6]\n",
      " [0 0 0 0 0]\n",
      " [0 0 0 0 0]\n",
      " [1 0 5 0 9]]\n"
     ]
    }
   ],
   "source": [
    "zeroInRow=False\n",
    "zeroInCol=False\n",
    "for i in range(m):\n",
    "    if(inputMat[i][0]==0):\n",
    "        zeroInCol=True\n",
    "for j in range(n):\n",
    "    if(inputMat[0][j]==0):\n",
    "        zeroInRow=True\n",
    "for i in range(1,m):\n",
    "    for j in range(1,n):\n",
    "        if(inputMat[i][j]==0):\n",
    "            inputMat[i][0]=0\n",
    "            inputMat[0][j]=0\n",
    "for i in range(m):\n",
    "    if(inputMat[i][0]==0):\n",
    "        nullifyRow(i)\n",
    "for j in range(n):\n",
    "    if(inputMat[0][j]==0):\n",
    "        nullifyCol(j)\n",
    "\n",
    "if(zeroInRow):\n",
    "    nullifyRow(0)\n",
    "if(zeroInCol):\n",
    "    nullifyCol(0)\n",
    "print(inputMat)"
   ]
  },
  {
   "cell_type": "code",
   "execution_count": null,
   "metadata": {},
   "outputs": [],
   "source": []
  }
 ],
 "metadata": {
  "kernelspec": {
   "display_name": "Python 3",
   "language": "python",
   "name": "python3"
  },
  "language_info": {
   "codemirror_mode": {
    "name": "ipython",
    "version": 3
   },
   "file_extension": ".py",
   "mimetype": "text/x-python",
   "name": "python",
   "nbconvert_exporter": "python",
   "pygments_lexer": "ipython3",
   "version": "3.6.9"
  }
 },
 "nbformat": 4,
 "nbformat_minor": 2
}
