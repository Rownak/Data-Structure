{
 "cells": [
  {
   "cell_type": "code",
   "execution_count": 2,
   "metadata": {},
   "outputs": [
    {
     "data": {
      "text/plain": [
       "'\\nURLify: Write a method to replace all spaces in a string with \\'%20: You may assume that the string\\nhas sufficient space at the end to hold the additional characters, and that you are given the \"true\"\\nlength of the string. (Note: If implementing in Java, please use a character array so that you can\\nperform this operation in place.)\\nEXAMPLE\\nInput: \"Mr John Smith \"J 13\\nOutput: \"Mr%20J ohn%20Smith\"\\n'"
      ]
     },
     "execution_count": 2,
     "metadata": {},
     "output_type": "execute_result"
    }
   ],
   "source": [
    "'''\n",
    "URLify: Write a method to replace all spaces in a string with '%20: You may assume that the string\n",
    "has sufficient space at the end to hold the additional characters, and that you are given the \"true\"\n",
    "length of the string. (Note: If implementing in Java, please use a character array so that you can\n",
    "perform this operation in place.)\n",
    "EXAMPLE\n",
    "Input: \"Mr John Smith  \", 13\n",
    "Output: \"Mr%20John%20Smith\"\n",
    "'''"
   ]
  },
  {
   "cell_type": "code",
   "execution_count": 27,
   "metadata": {},
   "outputs": [
    {
     "name": "stdout",
     "output_type": "stream",
     "text": [
      "['M', 'r', '%', '2', '0', 'J', 'o', 'h', 'n', '%', '2', '0', 'S', 'm', 'i', 't', 'h']\n"
     ]
    }
   ],
   "source": [
    "strInput = \"Mr John Smith    \"\n",
    "strList = list(strInput)\n",
    "\n",
    "strLenStrip = len(strInput.strip())\n",
    "strLen = len(strInput)\n",
    "j = strLenStrip-1\n",
    "i= strLen-1\n",
    "while(i>=0):\n",
    "    if(strList[j] not in ' '):\n",
    "        strList[i] = strList[j]\n",
    "        i-=1\n",
    "    else:\n",
    "        strList[i]='0'\n",
    "        i-=1\n",
    "        strList[i]='2'\n",
    "        i-=1\n",
    "        strList[i]='%'\n",
    "        i-=1\n",
    "    j-=1\n",
    "print(strList)"
   ]
  },
  {
   "cell_type": "code",
   "execution_count": null,
   "metadata": {},
   "outputs": [],
   "source": []
  }
 ],
 "metadata": {
  "kernelspec": {
   "display_name": "Python 3",
   "language": "python",
   "name": "python3"
  },
  "language_info": {
   "codemirror_mode": {
    "name": "ipython",
    "version": 3
   },
   "file_extension": ".py",
   "mimetype": "text/x-python",
   "name": "python",
   "nbconvert_exporter": "python",
   "pygments_lexer": "ipython3",
   "version": "3.6.9"
  }
 },
 "nbformat": 4,
 "nbformat_minor": 2
}
