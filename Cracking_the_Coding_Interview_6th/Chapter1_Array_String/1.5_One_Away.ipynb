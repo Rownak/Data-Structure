{
 "cells": [
  {
   "cell_type": "code",
   "execution_count": 2,
   "metadata": {},
   "outputs": [
    {
     "data": {
      "text/plain": [
       "'\\nOne Away: There are three types of edits that can be performed on strings: insert a character,\\nremove a character, or replace a character. Given two strings, write a function to check if they are\\none edit (or zero edits) away.\\nEXAMPLE\\npale, pIe -> true\\npales. pale -> true\\npale. bale -> true\\npale. bake -> false\\n'"
      ]
     },
     "execution_count": 2,
     "metadata": {},
     "output_type": "execute_result"
    }
   ],
   "source": [
    "'''\n",
    "One Away: There are three types of edits that can be performed on strings: insert a character,\n",
    "remove a character, or replace a character. Given two strings, write a function to check if they are\n",
    "one edit (or zero edits) away.\n",
    "EXAMPLE\n",
    "pale, ple -> true\n",
    "pales. pale -> true\n",
    "pale. bale -> true\n",
    "pale. bake -> false\n",
    "'''"
   ]
  },
  {
   "cell_type": "code",
   "execution_count": 23,
   "metadata": {},
   "outputs": [
    {
     "name": "stdout",
     "output_type": "stream",
     "text": [
      "False\n"
     ]
    }
   ],
   "source": [
    "# First check the length\n",
    "\n",
    "strInput1 = \"pale\"\n",
    "strInput2 = \"balee\"\n",
    "# same length\n",
    "if(len(strInput1)==len(strInput2)):\n",
    "    awayCount = 0\n",
    "    for i in range(len(strInput1)):\n",
    "        if(strInput1[i] not in strInput2[i]):\n",
    "            awayCount+=1;\n",
    "    if(awayCount>1):\n",
    "        print(False)\n",
    "    else:\n",
    "        print(True)\n",
    "\n",
    "# different length\n",
    "else:\n",
    "    if(len(strInput1)>len(strInput2)):\n",
    "        longStr = strInput1\n",
    "        shortStr = strInput2\n",
    "    else:\n",
    "        longStr = strInput2\n",
    "        shortStr = strInput1\n",
    "\n",
    "    if(len(longStr)-len(shortStr)==1):\n",
    "        awayCount = 1\n",
    "        i=0\n",
    "        j=0\n",
    "        while(j<len(shortStr)):\n",
    "            if(longStr[i] != shortStr[j]):\n",
    "                awayCount+=1;\n",
    "                if(longStr[i] == shortStr[j+1]):\n",
    "                    j+=1\n",
    "                elif(longStr[i+1] == shortStr[j]):\n",
    "                    i+=1\n",
    "                elif(longStr[i+1] == shortStr[j+1]):\n",
    "                    i+=1\n",
    "                    j+=1\n",
    "                else:\n",
    "                    awayCount+=1;\n",
    "                    break;\n",
    "            else:\n",
    "                i+=1\n",
    "                j+=1\n",
    "        if(awayCount>1):\n",
    "            print(False)\n",
    "        else:\n",
    "            print(True)\n",
    "    elif(len(longStr)-len(shortStr)>1):\n",
    "        print(False)\n",
    "    "
   ]
  },
  {
   "cell_type": "code",
   "execution_count": null,
   "metadata": {},
   "outputs": [],
   "source": []
  }
 ],
 "metadata": {
  "kernelspec": {
   "display_name": "Python 3",
   "language": "python",
   "name": "python3"
  },
  "language_info": {
   "codemirror_mode": {
    "name": "ipython",
    "version": 3
   },
   "file_extension": ".py",
   "mimetype": "text/x-python",
   "name": "python",
   "nbconvert_exporter": "python",
   "pygments_lexer": "ipython3",
   "version": "3.6.9"
  }
 },
 "nbformat": 4,
 "nbformat_minor": 2
}
