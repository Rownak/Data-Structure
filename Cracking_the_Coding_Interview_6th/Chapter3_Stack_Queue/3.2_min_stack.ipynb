{
 "cells": [
  {
   "cell_type": "markdown",
   "metadata": {},
   "source": [
    "Describe how you could use a single array to implement three stacks."
   ]
  },
  {
   "cell_type": "code",
   "execution_count": 82,
   "metadata": {},
   "outputs": [],
   "source": [
    "class Stack:\n",
    "    def __init__(self):\n",
    "        self.items = []\n",
    "        self.minIdx= []\n",
    "    def isEmpty(self):\n",
    "        return len(self.items) == 0\n",
    "    def push(self, data ):\n",
    "        if(self.isEmpty()):\n",
    "            self.items.append(data)\n",
    "            self.minIdx.append(0)\n",
    "        else:\n",
    "            if(data<self.items[self.peekMinIdx()]):\n",
    "                self.minIdx.append(self.size())\n",
    "            self.items.append(data)\n",
    "    def pop(self):\n",
    "        if((self.size()-1)==self.peekMinIdx()):\n",
    "            self.minIdx.pop()\n",
    "        return self.items.pop()\n",
    "    def peek(self):\n",
    "        return self.items[self.size()-1]\n",
    "    def peekMinIdx(self):\n",
    "        return self.minIdx[len(self.minIdx)-1]\n",
    "    def size(self):\n",
    "        return len(self.items)\n",
    "    def getMin(self):\n",
    "        return self.items[self.peekMinIdx()]\n",
    "    def print(self):\n",
    "        print(self.items)"
   ]
  },
  {
   "cell_type": "code",
   "execution_count": 84,
   "metadata": {},
   "outputs": [
    {
     "name": "stdout",
     "output_type": "stream",
     "text": [
      "-100\n",
      "-100\n",
      "1\n",
      "-3\n",
      "-1\n",
      "False\n",
      "5\n",
      "[1, -20, -3, 1, -1]\n",
      "-20\n"
     ]
    }
   ],
   "source": [
    "stack = Stack()\n",
    "stack.push(1)\n",
    "stack.push(-20)\n",
    "stack.push(-3)\n",
    "stack.push(1)\n",
    "stack.push(-1)\n",
    "stack.push(-3)\n",
    "stack.push(1)\n",
    "stack.push(-100)\n",
    "print(stack.getMin())\n",
    "print(stack.pop())\n",
    "print(stack.pop())\n",
    "print(stack.pop())\n",
    "print(stack.peek())\n",
    "print(stack.isEmpty())\n",
    "print(stack.size())\n",
    "stack.print()\n",
    "print(stack.getMin())"
   ]
  },
  {
   "cell_type": "code",
   "execution_count": 12,
   "metadata": {},
   "outputs": [
    {
     "name": "stdout",
     "output_type": "stream",
     "text": [
      "[33, 32, 31]\n"
     ]
    }
   ],
   "source": [
    "three_stacks.print(2)"
   ]
  }
 ],
 "metadata": {
  "kernelspec": {
   "display_name": "Python 3",
   "language": "python",
   "name": "python3"
  },
  "language_info": {
   "codemirror_mode": {
    "name": "ipython",
    "version": 3
   },
   "file_extension": ".py",
   "mimetype": "text/x-python",
   "name": "python",
   "nbconvert_exporter": "python",
   "pygments_lexer": "ipython3",
   "version": "3.6.10"
  }
 },
 "nbformat": 4,
 "nbformat_minor": 4
}
