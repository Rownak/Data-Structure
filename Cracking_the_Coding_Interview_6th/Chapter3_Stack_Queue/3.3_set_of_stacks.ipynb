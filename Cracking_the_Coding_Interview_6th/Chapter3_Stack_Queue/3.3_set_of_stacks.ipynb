{
 "cells": [
  {
   "cell_type": "markdown",
   "metadata": {},
   "source": [
    "Imagine a (literal) stack of plates. If the stack gets too high, it might topple.\n",
    "Therefore, in real life, we would likely start a new stack when the previous stack exceeds some\n",
    "threshold. Implement a data structure SetOfStacks that mimics this. SetOfStacks should be\n",
    "composed of several stacks and should create a new stack once the previous one exceeds capacity.\n",
    "SetOfStacks. push () and SetOfStacks. pop () should behave identically to a single stack\n",
    "(that is, pop ( ) should return the same values as it would if there were just a single stack).\n",
    "\n",
    "\n",
    "[[1,2,4]\n",
    " [5,6,7]\n",
    " [8,9]]\n",
    "\n"
   ]
  },
  {
   "cell_type": "code",
   "execution_count": 2,
   "metadata": {},
   "outputs": [],
   "source": [
    "class SetOfStacks():\n",
    "    def __init__(self, capacity):\n",
    "        self.capacity = capacity\n",
    "        \n",
    "        self.items = []\n",
    "        self.itemList=[]\n",
    "        self.itemList.append(self.items)\n",
    "    def list_size(self):\n",
    "        return len(self.itemList)\n",
    "    def size(self):\n",
    "        if(self.list_size()==0):\n",
    "            return 0\n",
    "        else:\n",
    "            return len(self.itemList[self.list_size()-1])\n",
    "    def isEmpty(self):\n",
    "        return self.size() == 0\n",
    "    def isFull(self):\n",
    "        return self.size() == self.capacity\n",
    "    def push(self,data):\n",
    "        if(self.isFull()):\n",
    "            newStack = [data]\n",
    "            self.itemList.append(newStack)\n",
    "        else:\n",
    "            self.itemList[self.list_size()-1].append(data)\n",
    "    def pop(self):\n",
    "        if(self.list_size()>0):\n",
    "            data= self.itemList[self.list_size()-1].pop()\n",
    "            if(self.isEmpty()):\n",
    "                self.itemList.pop()\n",
    "        else:\n",
    "            print(\"No data to pop\")\n",
    "            data= None;\n",
    "\n",
    "        return data"
   ]
  },
  {
   "cell_type": "code",
   "execution_count": 3,
   "metadata": {},
   "outputs": [
    {
     "name": "stdout",
     "output_type": "stream",
     "text": [
      "[[1, 2], [3, 4]]\n",
      "[[1, 2], [3]]\n",
      "[[1, 2]]\n",
      "[[1]]\n",
      "[]\n",
      "No data to pop\n",
      "[]\n"
     ]
    }
   ],
   "source": [
    "stacks = SetOfStacks(2)\n",
    "stacks.push(1)\n",
    "stacks.push(2)\n",
    "stacks.push(3)\n",
    "stacks.push(4)\n",
    "\n",
    "print(stacks.itemList)\n",
    "stacks.pop()\n",
    "print(stacks.itemList)\n",
    "stacks.pop()\n",
    "print(stacks.itemList)\n",
    "stacks.pop()\n",
    "print(stacks.itemList)\n",
    "stacks.pop()\n",
    "print(stacks.itemList)\n",
    "stacks.pop()\n",
    "print(stacks.itemList)"
   ]
  },
  {
   "cell_type": "markdown",
   "metadata": {},
   "source": [
    "Follow Up: Implement popAt(int Index)"
   ]
  },
  {
   "cell_type": "code",
   "execution_count": 17,
   "metadata": {},
   "outputs": [],
   "source": [
    "class SetOfStacks_follow_up():\n",
    "    def __init__(self, capacity):\n",
    "        self.capacity = capacity\n",
    "        self.items = []\n",
    "        self.itemList=[]\n",
    "        self.itemList.append(self.items)\n",
    "    def list_size(self):\n",
    "        return len(self.itemList)\n",
    "    def size(self):\n",
    "        if(self.list_size()==0):\n",
    "            return 0\n",
    "        else:\n",
    "            return len(self.itemList[self.list_size()-1])\n",
    "    def isEmpty(self):\n",
    "        return self.size() == 0\n",
    "    def isFull(self):\n",
    "        return self.size() == self.capacity\n",
    "    def push(self,data):\n",
    "        if(self.isFull()):\n",
    "            newStack = [data]\n",
    "            self.itemList.append(newStack)\n",
    "        else:\n",
    "            self.itemList[self.list_size()-1].append(data)\n",
    "    def pop(self):\n",
    "        if(self.list_size()>0):\n",
    "            data= self.itemList[self.list_size()-1].pop()\n",
    "            if(self.isEmpty()):\n",
    "                self.itemList.pop()\n",
    "        else:\n",
    "            print(\"No data to pop\")\n",
    "            data= None;\n",
    "\n",
    "        return data\n",
    "    def pop_at(self, stack_no):\n",
    "        if(stack_no<=self.list_size()):\n",
    "            data= self.itemList[stack_no-1].pop()\n",
    "            if(self.isEmpty()):\n",
    "                self.itemList.pop()\n",
    "            s_pos = stack_no-1\n",
    "            while(s_pos<self.list_size()-1):\n",
    "                mv_data = self.itemList[s_pos+1].pop(0)\n",
    "                self.itemList[s_pos].append(mv_data)\n",
    "                s_pos+=1\n",
    "                \n",
    "            if(self.isEmpty()):\n",
    "                self.itemList.pop()\n",
    "        else:\n",
    "            print(\"No stack at that position\")\n",
    "            data= None;\n",
    "\n",
    "        return data"
   ]
  },
  {
   "cell_type": "code",
   "execution_count": 18,
   "metadata": {},
   "outputs": [
    {
     "name": "stdout",
     "output_type": "stream",
     "text": [
      "[[1, 2, 3], [4, 5, 6], [7, 8]]\n"
     ]
    }
   ],
   "source": [
    "stacks = SetOfStacks_follow_up(3)\n",
    "stacks.push(1)\n",
    "stacks.push(2)\n",
    "stacks.push(3)\n",
    "stacks.push(4)\n",
    "stacks.push(5)\n",
    "stacks.push(6)\n",
    "stacks.push(7)\n",
    "stacks.push(8)\n",
    "\n",
    "# print(stacks.itemList)\n",
    "# stacks.pop()\n",
    "# print(stacks.itemList)\n",
    "# stacks.pop()\n",
    "# print(stacks.itemList)\n",
    "# stacks.pop()\n",
    "# print(stacks.itemList)\n",
    "# stacks.pop()\n",
    "# print(stacks.itemList)\n",
    "# stacks.pop()\n",
    "print(stacks.itemList)"
   ]
  },
  {
   "cell_type": "code",
   "execution_count": 21,
   "metadata": {},
   "outputs": [
    {
     "data": {
      "text/plain": [
       "4"
      ]
     },
     "execution_count": 21,
     "metadata": {},
     "output_type": "execute_result"
    }
   ],
   "source": [
    "stacks.pop_at(1)"
   ]
  },
  {
   "cell_type": "code",
   "execution_count": 22,
   "metadata": {},
   "outputs": [
    {
     "name": "stdout",
     "output_type": "stream",
     "text": [
      "[[1, 2, 5], [6, 7, 8]]\n"
     ]
    }
   ],
   "source": [
    "print(stacks.itemList)"
   ]
  },
  {
   "cell_type": "code",
   "execution_count": null,
   "metadata": {},
   "outputs": [],
   "source": []
  }
 ],
 "metadata": {
  "kernelspec": {
   "display_name": "Python 3",
   "language": "python",
   "name": "python3"
  },
  "language_info": {
   "codemirror_mode": {
    "name": "ipython",
    "version": 3
   },
   "file_extension": ".py",
   "mimetype": "text/x-python",
   "name": "python",
   "nbconvert_exporter": "python",
   "pygments_lexer": "ipython3",
   "version": "3.6.10"
  }
 },
 "nbformat": 4,
 "nbformat_minor": 4
}
