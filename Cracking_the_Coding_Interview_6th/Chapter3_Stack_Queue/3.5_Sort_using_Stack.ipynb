{
 "cells": [
  {
   "cell_type": "markdown",
   "metadata": {},
   "source": [
    "Sort Stack: Write a program to sort a stack such that the smallest items are on the top. You can use\n",
    "an additional temporary stack, but you may not copy the elements into any other data structure\n",
    "(such as an array). The stack supports the following operations: push, pop, peek, and isEmpty."
   ]
  },
  {
   "cell_type": "code",
   "execution_count": 11,
   "metadata": {},
   "outputs": [],
   "source": [
    "class Stack:\n",
    "    def __init__(self):\n",
    "        self.items = []\n",
    "    def isEmpty(self):\n",
    "        return self.items == []\n",
    "    def push(self, data ):\n",
    "        self.items.append(data)\n",
    "    def pop(self):\n",
    "        return self.items.pop()\n",
    "    def peek(self):\n",
    "        return self.items[self.size()-1]\n",
    "    def size(self):\n",
    "        return len(self.items)\n",
    "    def print(self):\n",
    "        print(self.items)"
   ]
  },
  {
   "cell_type": "markdown",
   "metadata": {},
   "source": [
    "Using 2 extra stack. Run time complexity O(n^2) Sapce Complexity O(n)"
   ]
  },
  {
   "cell_type": "code",
   "execution_count": 12,
   "metadata": {},
   "outputs": [],
   "source": [
    "def sortStack(stack1):\n",
    "    stack2 = Stack()\n",
    "    stack3 = Stack()\n",
    "    stack2.push(stack1.pop())\n",
    "    while(not stack1.isEmpty()):\n",
    "        while(stack2.peek()>stack1.peek()):\n",
    "            print(\"stack1.peek()\",stack1.peek())\n",
    "            print(\"stack2.peek()\",stack2.peek())\n",
    "            stack3.push(stack2.pop())\n",
    "            if(stack2.isEmpty()):\n",
    "                break\n",
    "        \n",
    "        stack2.push(stack1.pop())\n",
    "        while(not stack3.isEmpty()):\n",
    "            stack2.push(stack3.pop())\n",
    "    #stack2.print()\n",
    "    while(not stack2.isEmpty()):\n",
    "        stack1.push(stack2.pop())"
   ]
  },
  {
   "cell_type": "code",
   "execution_count": 13,
   "metadata": {},
   "outputs": [
    {
     "name": "stdout",
     "output_type": "stream",
     "text": [
      "stack1.peek() 2\n",
      "stack2.peek() 5\n",
      "stack1.peek() 1\n",
      "stack2.peek() 5\n",
      "stack1.peek() 1\n",
      "stack2.peek() 2\n",
      "stack1.peek() 3\n",
      "stack2.peek() 5\n",
      "stack1.peek() 4\n",
      "stack2.peek() 5\n",
      "[5, 4, 3, 2, 1]\n"
     ]
    }
   ],
   "source": [
    "stack1 = Stack()\n",
    "stack1.push(4)\n",
    "stack1.push(3)\n",
    "stack1.push(1)\n",
    "stack1.push(2)\n",
    "stack1.push(5)\n",
    "sortStack(stack1)\n",
    "stack1.print()"
   ]
  },
  {
   "cell_type": "markdown",
   "metadata": {},
   "source": [
    "Using 1 extra stack. Run time complexity O(n^2) Sapce Complexity O(n)"
   ]
  },
  {
   "cell_type": "code",
   "execution_count": 14,
   "metadata": {},
   "outputs": [],
   "source": [
    "def sortStack_optimal(stack1):\n",
    "    stack2 = Stack()\n",
    "    stack2.push(stack1.pop())\n",
    "    tmp = None\n",
    "    if(not stack1.isEmpty()):\n",
    "        tmp = stack1.pop()\n",
    "    else:\n",
    "        return stack2\n",
    "    \n",
    "    while(True):\n",
    "        count=0\n",
    "        while(tmp<stack2.peek()):\n",
    "            stack1.push(stack2.pop())\n",
    "            count+=1\n",
    "            if(stack2.isEmpty()):\n",
    "                break\n",
    "        stack2.push(tmp)\n",
    "        while(count>0):\n",
    "            stack2.push(stack1.pop())\n",
    "            count-=1\n",
    "        if(stack1.isEmpty()):\n",
    "            break\n",
    "        tmp = stack1.pop()\n",
    "    return stack2"
   ]
  },
  {
   "cell_type": "code",
   "execution_count": 15,
   "metadata": {},
   "outputs": [
    {
     "name": "stdout",
     "output_type": "stream",
     "text": [
      "[1, 2, 3, 4, 5]\n"
     ]
    }
   ],
   "source": [
    "stack1 = Stack()\n",
    "stack1.push(4)\n",
    "stack1.push(3)\n",
    "stack1.push(1)\n",
    "stack1.push(2)\n",
    "stack1.push(5)\n",
    "stack2 = sortStack_optimal(stack1)\n",
    "stack2.print()"
   ]
  },
  {
   "cell_type": "code",
   "execution_count": null,
   "metadata": {},
   "outputs": [],
   "source": []
  }
 ],
 "metadata": {
  "kernelspec": {
   "display_name": "Python 3",
   "language": "python",
   "name": "python3"
  },
  "language_info": {
   "codemirror_mode": {
    "name": "ipython",
    "version": 3
   },
   "file_extension": ".py",
   "mimetype": "text/x-python",
   "name": "python",
   "nbconvert_exporter": "python",
   "pygments_lexer": "ipython3",
   "version": "3.6.10"
  }
 },
 "nbformat": 4,
 "nbformat_minor": 4
}
