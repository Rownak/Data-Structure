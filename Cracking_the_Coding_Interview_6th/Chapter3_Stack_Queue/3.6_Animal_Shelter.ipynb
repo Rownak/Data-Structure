{
 "cells": [
  {
   "cell_type": "markdown",
   "metadata": {},
   "source": [
    "Animal Shelter: An animal shelter, which holds only dogs and cats, operates on a strictly\"first in, first\n",
    "out\" basis. People must adopt either the \"oldest\" (based on arrival time) of all animals at the shelter,\n",
    "or they can select whether they would prefer a dog or a cat (and will receive the oldest animal of\n",
    "that type). They cannot select which specific animal they would like. Create the data structures to\n",
    "maintain this system and implement operations such as enqueue, dequeueAny, dequeueDog,\n",
    "and dequeueCat. You may use the built-in Linked List data structure.\n",
    "Hints: #22, #56, #63"
   ]
  },
  {
   "cell_type": "code",
   "execution_count": 1,
   "metadata": {},
   "outputs": [],
   "source": [
    "class Node:\n",
    "    def __init__(self,data,category):\n",
    "        self.data = data\n",
    "        self.next = None\n",
    "        self.prev = None\n",
    "        self.type_next = None\n",
    "        self.category = category\n",
    "    def __repr__(self):\n",
    "        return self.data"
   ]
  },
  {
   "cell_type": "code",
   "execution_count": 2,
   "metadata": {},
   "outputs": [],
   "source": [
    "class Queue:\n",
    "    def __init__(self):\n",
    "        self.front = None\n",
    "        self.front_dog = None\n",
    "        self.front_cat = None\n",
    "        self.back = None\n",
    "        self.back_dog = None\n",
    "        self.back_cat = None\n",
    "    def isEmpty(self):\n",
    "        return self.front == None\n",
    "    def enqueue(self,data,category):\n",
    "        new_node = Node(data,category)\n",
    "        if(self.isEmpty()):\n",
    "            self.back = new_node\n",
    "            self.front = self.back\n",
    "            if(category=='cat'):\n",
    "                self.front_cat = self.back\n",
    "                self.back_cat = self.back\n",
    "            elif(category=='dog'):\n",
    "                self.front_dog = self.back\n",
    "                self.back_dog = self.back\n",
    "        else:\n",
    "            \n",
    "            self.back.next = new_node\n",
    "            self.back.prev = self.back\n",
    "            self.back = self.back.next\n",
    "            if(category=='cat'):\n",
    "                if(self.front_cat==None):\n",
    "                    self.front_cat = self.back\n",
    "                    self.back_cat = self.back\n",
    "                else:\n",
    "                    self.back_cat.type_next = self.back\n",
    "                    self.back_cat = self.back_cat.type_next\n",
    "            elif(category=='dog'):\n",
    "                \n",
    "                if(self.front_dog==None):\n",
    "                    self.front_dog = self.back\n",
    "                    self.back_dog = self.back\n",
    "                else:\n",
    "                    self.back_dog.type_next = self.back\n",
    "                    self.back_dog = self.back_dog.type_next\n",
    "                \n",
    "    def dequeueAny(self):\n",
    "        dequeue_node=self.front\n",
    "        if(self.front.category == 'cat'):\n",
    "            self.front_cat = self.front_cat.type_next\n",
    "        if(self.front.category == 'dog'):\n",
    "            self.front_dog = self.front_dog.type_next\n",
    "        self.front=self.front.next\n",
    "        \n",
    "        return dequeue_node\n",
    "    def dequeueCat(self):\n",
    "        dequeue_node=self.front_cat\n",
    "        if(self.front==self.front_cat):\n",
    "            self.front = self.front.next\n",
    "        else:\n",
    "            self.front_cat.prev=self.front_cat.next\n",
    "        self.front_cat = self.front_cat.type_next\n",
    "        return dequeue_node\n",
    "    def dequeueDog(self):\n",
    "        dequeue_node=self.front_dog\n",
    "        if(self.front==self.front_dog):\n",
    "            self.front = self.front.next\n",
    "        else:\n",
    "            self.front_dog.prev=self.front_dog.next\n",
    "        self.front_dog = self.front_dog.type_next\n",
    "        return dequeue_node"
   ]
  },
  {
   "cell_type": "code",
   "execution_count": 4,
   "metadata": {},
   "outputs": [
    {
     "name": "stdout",
     "output_type": "stream",
     "text": [
      "3 - dog\n",
      "cat 1\n",
      "dog 5\n",
      "1 - cat\n",
      "cat 2\n",
      "dog 5\n",
      "2 - cat\n",
      "cat 4\n",
      "dog 5\n"
     ]
    }
   ],
   "source": [
    "q = Queue()\n",
    "q.enqueue(1,'cat')\n",
    "q.enqueue(2,'cat')\n",
    "q.enqueue(3,'dog')\n",
    "q.enqueue(4,'cat')\n",
    "q.enqueue(5,'dog')\n",
    "q.enqueue(6,'dog')\n",
    "q.enqueue(7,'dog')\n",
    "node = q.dequeueDog()\n",
    "print(node.data,\"-\", node.category)\n",
    "print('cat',q.front_cat.data)\n",
    "print('dog',q.front_dog.data)\n",
    "node = q.dequeueCat()\n",
    "print(node.data,\"-\", node.category)\n",
    "print('cat',q.front_cat.data)\n",
    "print('dog',q.front_dog.data)\n",
    "\n",
    "node = q.dequeueAny()\n",
    "print(node.data,\"-\", node.category)\n",
    "print('cat',q.front_cat.data)\n",
    "print('dog',q.front_dog.data)\n",
    "\n",
    "# node = q.dequeueAny()\n",
    "# print(node.data,\"-\", node.category)\n",
    "# print('cat',q.front_cat.data)\n",
    "# print('dog',q.front_dog.data)\n",
    "\n"
   ]
  },
  {
   "cell_type": "code",
   "execution_count": null,
   "metadata": {},
   "outputs": [],
   "source": []
  },
  {
   "cell_type": "code",
   "execution_count": null,
   "metadata": {},
   "outputs": [],
   "source": []
  }
 ],
 "metadata": {
  "kernelspec": {
   "display_name": "Python 3",
   "language": "python",
   "name": "python3"
  },
  "language_info": {
   "codemirror_mode": {
    "name": "ipython",
    "version": 3
   },
   "file_extension": ".py",
   "mimetype": "text/x-python",
   "name": "python",
   "nbconvert_exporter": "python",
   "pygments_lexer": "ipython3",
   "version": "3.6.10"
  }
 },
 "nbformat": 4,
 "nbformat_minor": 4
}
