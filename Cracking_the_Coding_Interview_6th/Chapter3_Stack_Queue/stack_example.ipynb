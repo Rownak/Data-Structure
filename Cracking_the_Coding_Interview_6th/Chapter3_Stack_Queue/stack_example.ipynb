{
 "cells": [
  {
   "cell_type": "code",
   "execution_count": 16,
   "metadata": {},
   "outputs": [],
   "source": [
    "class Stack:\n",
    "    def __init__(self):\n",
    "        self.items = []\n",
    "    def isEmpty(self):\n",
    "        return self.items == []\n",
    "    def push(self, data ):\n",
    "        self.items.insert(0,data)\n",
    "    def pop(self):\n",
    "        return self.items.pop(0)\n",
    "    def peek(self):\n",
    "        return self.items[0]\n",
    "    def size(self):\n",
    "        return len(self.items)\n",
    "    def print(self):\n",
    "        print(self.items)"
   ]
  },
  {
   "cell_type": "code",
   "execution_count": 15,
   "metadata": {},
   "outputs": [],
   "source": [
    "class Queue:\n",
    "    def __init__(self):\n",
    "        self.items = []\n",
    "        self.front=-1\n",
    "        self.back=-1\n",
    "    def isEmpty(self):\n",
    "        return self.items == []\n",
    "    def enqueue(self, data ):\n",
    "        if(self.isEmpty()):\n",
    "            self.front=0\n",
    "            self.back=0\n",
    "        else:\n",
    "            self.back+=1\n",
    "        self.items.append(data)\n",
    "\n",
    "    def dequeue(self): \n",
    "        data= self.items.pop(self.front)\n",
    "        if(self.isEmpty()):\n",
    "            self.front=0\n",
    "            self.back=0\n",
    "        else:\n",
    "            self.back-=1\n",
    "        return data\n",
    "    def peek(self):\n",
    "        return self.items[self.front]\n",
    "    def size(self):\n",
    "        return len(self.items)\n",
    "    def print(self):\n",
    "        print(self.items)"
   ]
  },
  {
   "cell_type": "code",
   "execution_count": 16,
   "metadata": {},
   "outputs": [
    {
     "name": "stdout",
     "output_type": "stream",
     "text": [
      "front 0\n",
      "1\n",
      "front 0\n",
      "2\n",
      "3\n",
      "False\n",
      "2\n",
      "[3, 4]\n"
     ]
    }
   ],
   "source": [
    "queue = Queue()\n",
    "queue.enqueue(1)\n",
    "queue.enqueue(2)\n",
    "queue.enqueue(3)\n",
    "queue.enqueue(4)\n",
    "print(queue.dequeue())\n",
    "print(queue.dequeue())\n",
    "print(queue.peek())\n",
    "print(queue.isEmpty())\n",
    "print(queue.size())\n",
    "queue.print()"
   ]
  },
  {
   "cell_type": "code",
   "execution_count": 10,
   "metadata": {},
   "outputs": [
    {
     "data": {
      "text/plain": [
       "3"
      ]
     },
     "execution_count": 10,
     "metadata": {},
     "output_type": "execute_result"
    }
   ],
   "source": [
    "queue.back"
   ]
  },
  {
   "cell_type": "code",
   "execution_count": 20,
   "metadata": {},
   "outputs": [
    {
     "name": "stdout",
     "output_type": "stream",
     "text": [
      "4\n",
      "3\n",
      "False\n",
      "3\n",
      "[3, 2, 1]\n"
     ]
    }
   ],
   "source": [
    "stack = Stack()\n",
    "stack.push(1)\n",
    "stack.push(2)\n",
    "stack.push(3)\n",
    "stack.push(4)\n",
    "print(stack.pop())\n",
    "print(stack.peek())\n",
    "print(stack.isEmpty())\n",
    "print(stack.size())\n",
    "stack.print()"
   ]
  },
  {
   "cell_type": "code",
   "execution_count": 2,
   "metadata": {},
   "outputs": [
    {
     "name": "stdout",
     "output_type": "stream",
     "text": [
      "4\n",
      "3\n",
      "False\n",
      "3\n",
      "[1, 2, 3]\n"
     ]
    }
   ],
   "source": []
  },
  {
   "cell_type": "code",
   "execution_count": null,
   "metadata": {},
   "outputs": [],
   "source": []
  }
 ],
 "metadata": {
  "kernelspec": {
   "display_name": "Python 3",
   "language": "python",
   "name": "python3"
  },
  "language_info": {
   "codemirror_mode": {
    "name": "ipython",
    "version": 3
   },
   "file_extension": ".py",
   "mimetype": "text/x-python",
   "name": "python",
   "nbconvert_exporter": "python",
   "pygments_lexer": "ipython3",
   "version": "3.6.10"
  }
 },
 "nbformat": 4,
 "nbformat_minor": 4
}
