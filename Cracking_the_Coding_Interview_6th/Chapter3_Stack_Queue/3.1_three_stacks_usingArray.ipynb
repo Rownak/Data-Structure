{
 "cells": [
  {
   "cell_type": "markdown",
   "metadata": {},
   "source": [
    "Describe how you could use a single array to implement three stacks."
   ]
  },
  {
   "cell_type": "code",
   "execution_count": 42,
   "metadata": {},
   "outputs": [],
   "source": [
    "# \n",
    "\n",
    "class Three_Stacks:\n",
    "    def __init__(self,size=300):\n",
    "        self.stack_array = [None for _ in range(size)]\n",
    "        self.stack_capacity = size/3\n",
    "        # -1 s1, 99 s2, 199 s3\n",
    "        self.stack_top = [None for _ in range(3)]\n",
    "        self.stack_top[0] = -1\n",
    "        self.stack_top[1] = int(size/3)-1\n",
    "        self.stack_top[2] = int(2*(size/3))-1\n",
    "        \n",
    "    def isFull(self,stack_no):\n",
    "        return self.stack_top[stack_no] >= self.stack_capacity* (stack_no+1)\n",
    "    def isEmpty(self,stack_no):\n",
    "        return self.stack_top[stack_no] < self.stack_capacity* stack_no\n",
    "    def push(self,data, stack_no ):\n",
    "        if(self.isFull(stack_no)):\n",
    "            print(\"Stack is full\")\n",
    "        else:\n",
    "            self.stack_top[stack_no]+=1\n",
    "            self.stack_array[self.stack_top[stack_no]]= data\n",
    "    def pop(self,stack_no):\n",
    "        if(self.isEmpty(stack_no)):\n",
    "            print(\"Empty stack. Can't pop\")\n",
    "            return None\n",
    "        data = self.stack_array[self.stack_top[stack_no]]\n",
    "        self.stack_top[stack_no]-=1\n",
    "        return data\n",
    "    def peek(self,stack_no):\n",
    "        if(self.isEmpty(stack_no)):\n",
    "            print(\"Empty stack. Can't pop\")\n",
    "            return None\n",
    "        data = self.stack_array[self.stack_top[stack_no]]\n",
    "        self.stack_top[stack_no] -=1\n",
    "        return data\n",
    "    def size(self,stack_no):\n",
    "        return self.stack_array[self.stack_top[stack_no]] - stack_no* self.stack_capacity\n",
    "    def print(self,stack_no):\n",
    "        start_idx = int(stack_no*self.stack_capacity)\n",
    "        for i in range(start_idx, self.stack_top[stack_no]+1):\n",
    "            print(self.stack_array[i])"
   ]
  },
  {
   "cell_type": "code",
   "execution_count": 53,
   "metadata": {},
   "outputs": [],
   "source": [
    "three_stacks = Three_Stacks()\n",
    "three_stacks.push(1,0)\n",
    "three_stacks.push(2,0)\n",
    "three_stacks.push(3,0)\n",
    "three_stacks.push(4,1)\n",
    "three_stacks.push(5,1)\n",
    "three_stacks.push(6,1)\n",
    "three_stacks.push(7,2)\n",
    "three_stacks.push(8,2)\n",
    "three_stacks.push(9,2)\n"
   ]
  },
  {
   "cell_type": "code",
   "execution_count": 54,
   "metadata": {},
   "outputs": [
    {
     "name": "stdout",
     "output_type": "stream",
     "text": [
      "7\n",
      "8\n",
      "9\n"
     ]
    }
   ],
   "source": [
    "three_stacks.print(2)"
   ]
  },
  {
   "cell_type": "code",
   "execution_count": 55,
   "metadata": {},
   "outputs": [
    {
     "data": {
      "text/plain": [
       "3"
      ]
     },
     "execution_count": 55,
     "metadata": {},
     "output_type": "execute_result"
    }
   ],
   "source": [
    "three_stacks.push(66,2)\n",
    "three_stacks.push(86,2)\n",
    "three_stacks.push(3,2)\n",
    "three_stacks.peek(2)"
   ]
  },
  {
   "cell_type": "code",
   "execution_count": 51,
   "metadata": {},
   "outputs": [
    {
     "name": "stdout",
     "output_type": "stream",
     "text": [
      "7\n",
      "8\n",
      "9\n",
      "66\n",
      "86\n"
     ]
    }
   ],
   "source": [
    "three_stacks.print(2)"
   ]
  },
  {
   "cell_type": "code",
   "execution_count": null,
   "metadata": {},
   "outputs": [],
   "source": []
  }
 ],
 "metadata": {
  "kernelspec": {
   "display_name": "Python 3",
   "language": "python",
   "name": "python3"
  },
  "language_info": {
   "codemirror_mode": {
    "name": "ipython",
    "version": 3
   },
   "file_extension": ".py",
   "mimetype": "text/x-python",
   "name": "python",
   "nbconvert_exporter": "python",
   "pygments_lexer": "ipython3",
   "version": "3.6.10"
  }
 },
 "nbformat": 4,
 "nbformat_minor": 4
}
